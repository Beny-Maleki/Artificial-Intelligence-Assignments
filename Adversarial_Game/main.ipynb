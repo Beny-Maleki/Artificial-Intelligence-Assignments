{
 "cells": [
  {
   "cell_type": "markdown",
   "metadata": {},
   "source": [
    "<center>\n",
    "In God We Trust\n",
    "</center>"
   ]
  },
  {
   "cell_type": "markdown",
   "metadata": {},
   "source": [
    "# CE417: Artificial Intelligence\n",
    "\n",
    "Dr. Mahdiyeh Soleymani Baghshah\n",
    "\n",
    "Computer Engineering Department,\n",
    "Sharif University of Technology,\n",
    "Tehran, Tehran, Iran\n"
   ]
  },
  {
   "attachments": {},
   "cell_type": "markdown",
   "metadata": {},
   "source": [
    "## Adversarial Search (25 Points)\n",
    "\n",
    "HW3 :: Practical Question 1\n",
    "\n",
    "### Benyamin Maleki\n",
    "<br>\n",
    "\n",
    "Corresponding TA: Aryan Ahadinia, Saeed Hedayatiyan\n",
    "\n",
    "\n"
   ]
  },
  {
   "cell_type": "markdown",
   "metadata": {},
   "source": [
    "Consider the given $8\\times8$ board game. There are two players in this game and they try to block each other and limit their valid moves by making walls. Their moves are limited to the 8 cells (or less when they are around the edges) beside them and the walls will start to appear only when a player steps into a random generated yellow cell and the wall will continue to be built until the player reaches the next yellow cell. The players start the game at $(0, 0)$ and $(7, 7)$ and they keep playing until one of them loses. There are multiple ways for a player to win the match:\n",
    "\n",
    "- If a player steps into a wall or out of the board, the player loses the match!\n",
    "- If the players reach the maximum moves the game finishes and the winner would be chosen based on the maximum valid move they have left plus the number of walls they have made and \"No more moves\" massege will appear on terminal.\n",
    "- If the getMove() function does not return any value after 2 seconds, the player loses the match and \"Time limit exceeded\" massage will appear on terminal.\n",
    "\n",
    "<center>\n",
    "<img src=\"assets/Q3.png\" style=\"width: 50%\"/>\n",
    "</center>\n"
   ]
  },
  {
   "cell_type": "markdown",
   "metadata": {},
   "source": [
    "In this question, the codes for starting the game were provided for you in Helper-codes folder. You are expected to implement the MinimaxPlayer class (which inherit the Player class) with alpha-beta pruning."
   ]
  },
  {
   "cell_type": "code",
   "execution_count": null,
   "metadata": {},
   "outputs": [],
   "source": [
    "%pip install tk"
   ]
  },
  {
   "cell_type": "markdown",
   "metadata": {},
   "source": [
    "You can run cell below and watch two naive players."
   ]
  },
  {
   "cell_type": "code",
   "execution_count": null,
   "metadata": {},
   "outputs": [],
   "source": [
    "\n",
    "import numpy as np\n",
    "import random\n",
    "import time\n",
    "\n",
    "from Helper_codes.graphics import *\n",
    "from Helper_codes.question3 import Cell\n",
    "from Helper_codes.question3 import IntPair\n",
    "from Helper_codes.question3 import Player\n",
    "from Helper_codes.question3 import NaivePlayer\n",
    "from Helper_codes.question3 import Board\n",
    "from Helper_codes.question3 import Game\n"
   ]
  },
  {
   "cell_type": "code",
   "execution_count": null,
   "metadata": {},
   "outputs": [],
   "source": [
    "p1 = NaivePlayer(1, 0, 0)\n",
    "p2 = NaivePlayer(2, 7, 7)\n",
    "\n",
    "g = Game(p1, p2)\n",
    "\n",
    "numberOfMatches = 1\n",
    "score1, score2 = g.start(numberOfMatches)\n",
    "\n",
    "print(score1 / numberOfMatches)\n"
   ]
  },
  {
   "cell_type": "markdown",
   "metadata": {},
   "source": [
    "## Below is the MinimaxPlayer "
   ]
  },
  {
   "cell_type": "code",
   "execution_count": 23,
   "metadata": {},
   "outputs": [],
   "source": [
    "import numpy as np\n",
    "import random\n",
    "import time\n",
    "\n",
    "from Helper_codes.graphics import *\n",
    "from Helper_codes.question3 import Cell\n",
    "from Helper_codes.question3 import IntPair\n",
    "from Helper_codes.question3 import Player\n",
    "from Helper_codes.question3 import NaivePlayer\n",
    "from Helper_codes.question3 import Board\n",
    "from Helper_codes.question3 import Game\n"
   ]
  },
  {
   "cell_type": "code",
   "execution_count": 24,
   "metadata": {},
   "outputs": [],
   "source": [
    "import math\n",
    "\n",
    "\n",
    "class MinimaxPlayer(Player):\n",
    "    def __init__(self, col, x, y, max_depth=4):\n",
    "        super().__init__(col, x, y)\n",
    "        self.max_depth = max_depth\n",
    "        self.opponent = None\n",
    "\n",
    "\n",
    "    possible_moves = [(1, 0), (0, 1), (-1, 0), (0, -1), (1, 1), (-1, 1), (1, -1), (-1, -1)]\n",
    "\n",
    "    def evaluate(self, board):\n",
    "        simulated_score_self = board.getScore(self.getCol())\n",
    "        simulated_score_opponent = board.getScore(self.opponent.getCol())\n",
    "        score = simulated_score_self - simulated_score_opponent\n",
    "        return score\n",
    "        \n",
    "    def is_valid_move(self, result):\n",
    "        if result == -2: # no more moves for player       \n",
    "            return False\n",
    "        if result == -1: # invalid move\n",
    "            return False\n",
    "        # otherwise...\n",
    "        return True\n",
    "  \n",
    "    def min_value(self, board, alpha, beta, depth): # Opponent's turn\n",
    "        # Terminal State\n",
    "        if depth == 0:\n",
    "            value = self.evaluate(board)\n",
    "            return value, None\n",
    "        # Non-terminal State\n",
    "        best_successor_value = math.inf\n",
    "        best_successor_move = None\n",
    "        # Evaluate all possible moves\n",
    "        random.shuffle(MinimaxPlayer.possible_moves)\n",
    "        for move in MinimaxPlayer.possible_moves:\n",
    "            simulated_board = Board(board)\n",
    "            next_place = IntPair(simulated_board.getPlayerX(self.opponent.getCol()) + move[0], simulated_board.getPlayerY(self.opponent.getCol()) + move[1])\n",
    "            result = simulated_board.move(next_place, self.opponent.getCol())\n",
    "            # if move doesn't lead to a valid destination, skip\n",
    "            if self.is_valid_move(result):\n",
    "                # get successors minimax value\n",
    "                value, next_plie_move = self.max_value(simulated_board, alpha, beta, depth - 1)\n",
    "                # update best successor value and move\n",
    "                if value < best_successor_value:\n",
    "                    best_successor_value = value\n",
    "                    best_successor_move = move\n",
    "                # alpha-beta pruning\n",
    "                beta = min(beta, best_successor_value)\n",
    "                if beta <= alpha:\n",
    "                    break\n",
    "        return best_successor_value, best_successor_move\n",
    "\n",
    "    def max_value(self, board, alpha, beta, depth): # Our turn\n",
    "        # Terminal State\n",
    "        if depth == 0:\n",
    "            value = self.evaluate(board)\n",
    "            return value, None\n",
    "        # Non-terminal State\n",
    "        best_successor_value = -math.inf\n",
    "        best_successor_move = (0, 1)\n",
    "        # Evaluate all possible moves\n",
    "        for move in MinimaxPlayer.possible_moves:\n",
    "            simulated_board = Board(board)\n",
    "            next_place = IntPair(simulated_board.getPlayerX(self.getCol()) + move[0], simulated_board.getPlayerY(self.getCol()) + move[1])\n",
    "            result = simulated_board.move(next_place, self.getCol())\n",
    "            # if move doesn't lead to a valid destination, skip\n",
    "            if self.is_valid_move(result):\n",
    "                # get successors minimax value\n",
    "                value, next_plie_move = self.min_value(simulated_board, alpha, beta, depth - 1)\n",
    "                # update best successor value and move\n",
    "                if value > best_successor_value:\n",
    "                    best_successor_value = value\n",
    "                    best_successor_move = move\n",
    "                # alpha-beta pruning\n",
    "                alpha = max(alpha, best_successor_value)\n",
    "                if beta <= alpha:\n",
    "                    break\n",
    "        return best_successor_value, best_successor_move\n",
    "\n",
    "    def alpha_beta_pruning(self, board):\n",
    "        self.opponent = board.players[2 - self.getCol()] \n",
    "        return self.max_value(board, -np.inf, np.inf, self.max_depth)\n",
    "\n",
    "    def getMove(self, board):\n",
    "        value, first_plie_move = self.alpha_beta_pruning(board)\n",
    "        return IntPair(board.getPlayerX(self.getCol()) + first_plie_move[0], board.getPlayerY(self.getCol()) + first_plie_move[1])\n",
    "\n",
    "    \n"
   ]
  },
  {
   "cell_type": "code",
   "execution_count": 25,
   "metadata": {},
   "outputs": [
    {
     "name": "stdout",
     "output_type": "stream",
     "text": [
      "Player 2 has exceeded the time limit\n",
      "Player 1 has won\n",
      "\n",
      "1.0\n"
     ]
    }
   ],
   "source": [
    "import traceback\n",
    "\n",
    "\n",
    "p1 = MinimaxPlayer(1, 0, 0)\n",
    "p2 = NaivePlayer(2, 7, 7)\n",
    "\n",
    "g = Game(p1, p2)\n",
    "\n",
    "number_of_matches = 1\n",
    "try:\n",
    "    score1, score2 = g.start(number_of_matches)\n",
    "    print(score1 / number_of_matches)\n",
    "except Exception as e:\n",
    "    print(traceback.format_exc())\n",
    "    exit()\n",
    "\n",
    "\n"
   ]
  }
 ],
 "metadata": {
  "kernelspec": {
   "display_name": "Python 3.10.6 64-bit",
   "language": "python",
   "name": "python3"
  },
  "language_info": {
   "codemirror_mode": {
    "name": "ipython",
    "version": 3
   },
   "file_extension": ".py",
   "mimetype": "text/x-python",
   "name": "python",
   "nbconvert_exporter": "python",
   "pygments_lexer": "ipython3",
   "version": "3.10.6"
  },
  "orig_nbformat": 4,
  "vscode": {
   "interpreter": {
    "hash": "26de051ba29f2982a8de78e945f0abaf191376122a1563185a90213a26c5da77"
   }
  }
 },
 "nbformat": 4,
 "nbformat_minor": 2
}
