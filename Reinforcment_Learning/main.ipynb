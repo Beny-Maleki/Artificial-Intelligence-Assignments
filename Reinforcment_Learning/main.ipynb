{
  "cells": [
    {
      "attachments": {},
      "cell_type": "markdown",
      "metadata": {
        "id": "0MJtQYNJx6Ex"
      },
      "source": [
        "<div align=center>\n",
        "\t\t\n",
        "<font size=5>\n",
        "In the Name of God\n",
        "<font/>\n",
        "<p></p>\n",
        "<br/>\n",
        "<br/>\n",
        "<font color=#FF7500>\n",
        "Sharif University of Technology - Departmenet of Computer Engineering \n",
        "<br/>\n",
        "<br/>\n",
        "<br/>\n",
        "Benyamin Maleki\n",
        "</font>\n",
        "<p></p>\n",
        "<font color=blue>\n",
        "Artifical Intelligence - Dr. Mahdieh Soleimani\n",
        "</font>\n",
        "<br/>\n",
        "<br/>\n",
        "Fall 2022\n",
        "\n",
        "<hr/>\n",
        "<font color=red>\n",
        "Reinforcment Learning Practical Assignment (50 + 10 points)\n",
        "</font>\n",
        "</div>\n",
        "\n",
        "<ul>\n",
        "  <li>Some cell's outputs have not been deleted. you can use these to make sure your implementation is correct.</li>\n",
        "</ul>"
      ]
    },
    {
      "cell_type": "markdown",
      "metadata": {
        "id": "rgA9_usLx6Ey"
      },
      "source": [
        "In this notebook you will use the [openai gym](https://www.gymlibrary.dev/) library to train agents in two different reinforcment learning environments. the first environment is a very simple grid-world with discrete states. The second environment however, has continous states.  \n",
        "make sure to upload your model performance video alongside this notebook. We suggest running this notebook on google colab so that you wont face any package errors."
      ]
    },
    {
      "cell_type": "markdown",
      "metadata": {
        "id": "4uzpGHXRx6Ey"
      },
      "source": [
        "we will first install the necessary packages."
      ]
    },
    {
      "cell_type": "code",
      "execution_count": 1,
      "metadata": {
        "colab": {
          "base_uri": "https://localhost:8080/"
        },
        "id": "XO-JzYynx6Ez",
        "outputId": "69c88eb5-e4ad-449f-e0d8-617a63b98722"
      },
      "outputs": [
        {
          "name": "stdout",
          "output_type": "stream",
          "text": [
            "Looking in indexes: https://pypi.org/simple, https://us-python.pkg.dev/colab-wheels/public/simple/\n",
            "Collecting gym==0.26\n",
            "  Downloading gym-0.26.0.tar.gz (710 kB)\n",
            "\u001b[K     |████████████████████████████████| 710 kB 23.5 MB/s \n",
            "\u001b[?25h  Installing build dependencies ... \u001b[?25l\u001b[?25hdone\n",
            "  Getting requirements to build wheel ... \u001b[?25l\u001b[?25hdone\n",
            "    Preparing wheel metadata ... \u001b[?25l\u001b[?25hdone\n",
            "Requirement already satisfied: cloudpickle>=1.2.0 in /usr/local/lib/python3.8/dist-packages (from gym==0.26) (1.5.0)\n",
            "Requirement already satisfied: importlib-metadata>=4.8.0 in /usr/local/lib/python3.8/dist-packages (from gym==0.26) (4.13.0)\n",
            "Requirement already satisfied: numpy>=1.18.0 in /usr/local/lib/python3.8/dist-packages (from gym==0.26) (1.21.6)\n",
            "Requirement already satisfied: gym-notices>=0.0.4 in /usr/local/lib/python3.8/dist-packages (from gym==0.26) (0.0.8)\n",
            "Requirement already satisfied: zipp>=0.5 in /usr/local/lib/python3.8/dist-packages (from importlib-metadata>=4.8.0->gym==0.26) (3.11.0)\n",
            "Building wheels for collected packages: gym\n",
            "  Building wheel for gym (PEP 517) ... \u001b[?25l\u001b[?25hdone\n",
            "  Created wheel for gym: filename=gym-0.26.0-py3-none-any.whl size=826297 sha256=ae1aa29ee0f015b1ac5bba00c5d5e19e8f92369f57698287e8625bdb141ee166\n",
            "  Stored in directory: /root/.cache/pip/wheels/f1/f2/92/63d51de23bd3ef89d87af5663ef0a1b04781ccb9757b6f98d4\n",
            "Successfully built gym\n",
            "Installing collected packages: gym\n",
            "  Attempting uninstall: gym\n",
            "    Found existing installation: gym 0.25.2\n",
            "    Uninstalling gym-0.25.2:\n",
            "      Successfully uninstalled gym-0.25.2\n",
            "Successfully installed gym-0.26.0\n",
            "Looking in indexes: https://pypi.org/simple, https://us-python.pkg.dev/colab-wheels/public/simple/\n",
            "Requirement already satisfied: imageio in /usr/local/lib/python3.8/dist-packages (2.9.0)\n",
            "Collecting imageio_ffmpeg\n",
            "  Downloading imageio_ffmpeg-0.4.7-py3-none-manylinux2010_x86_64.whl (26.9 MB)\n",
            "\u001b[K     |████████████████████████████████| 26.9 MB 1.2 MB/s \n",
            "\u001b[?25hRequirement already satisfied: numpy in /usr/local/lib/python3.8/dist-packages (from imageio) (1.21.6)\n",
            "Requirement already satisfied: pillow in /usr/local/lib/python3.8/dist-packages (from imageio) (7.1.2)\n",
            "Installing collected packages: imageio-ffmpeg\n",
            "Successfully installed imageio-ffmpeg-0.4.7\n",
            "Looking in indexes: https://pypi.org/simple, https://us-python.pkg.dev/colab-wheels/public/simple/\n",
            "Collecting pygame\n",
            "  Downloading pygame-2.1.2-cp38-cp38-manylinux_2_17_x86_64.manylinux2014_x86_64.whl (21.8 MB)\n",
            "\u001b[K     |████████████████████████████████| 21.8 MB 1.2 MB/s \n",
            "\u001b[?25hInstalling collected packages: pygame\n",
            "Successfully installed pygame-2.1.2\n",
            "Looking in indexes: https://pypi.org/simple, https://us-python.pkg.dev/colab-wheels/public/simple/\n",
            "Collecting pyglet==1.5.1\n",
            "  Downloading pyglet-1.5.1-py2.py3-none-any.whl (1.0 MB)\n",
            "\u001b[K     |████████████████████████████████| 1.0 MB 32.0 MB/s \n",
            "\u001b[?25hInstalling collected packages: pyglet\n",
            "Successfully installed pyglet-1.5.1\n",
            "Reading package lists... Done\n",
            "Building dependency tree       \n",
            "Reading state information... Done\n",
            "The following package was automatically installed and is no longer required:\n",
            "  libnvidia-common-460\n",
            "Use 'apt autoremove' to remove it.\n",
            "The following additional packages will be installed:\n",
            "  freeglut3\n",
            "Suggested packages:\n",
            "  libgle3\n",
            "The following NEW packages will be installed:\n",
            "  freeglut3 python-opengl\n",
            "0 upgraded, 2 newly installed, 0 to remove and 20 not upgraded.\n",
            "Need to get 570 kB of archives.\n",
            "After this operation, 5,733 kB of additional disk space will be used.\n",
            "Get:1 http://archive.ubuntu.com/ubuntu bionic/universe amd64 freeglut3 amd64 2.8.1-3 [73.6 kB]\n",
            "Get:2 http://archive.ubuntu.com/ubuntu bionic/universe amd64 python-opengl all 3.1.0+dfsg-1 [496 kB]\n",
            "Fetched 570 kB in 0s (3,973 kB/s)\n",
            "Selecting previously unselected package freeglut3:amd64.\n",
            "(Reading database ... 124016 files and directories currently installed.)\n",
            "Preparing to unpack .../freeglut3_2.8.1-3_amd64.deb ...\n",
            "Unpacking freeglut3:amd64 (2.8.1-3) ...\n",
            "Selecting previously unselected package python-opengl.\n",
            "Preparing to unpack .../python-opengl_3.1.0+dfsg-1_all.deb ...\n",
            "Unpacking python-opengl (3.1.0+dfsg-1) ...\n",
            "Setting up freeglut3:amd64 (2.8.1-3) ...\n",
            "Setting up python-opengl (3.1.0+dfsg-1) ...\n",
            "Processing triggers for libc-bin (2.27-3ubuntu1.6) ...\n",
            "Reading package lists... Done\n",
            "Building dependency tree       \n",
            "Reading state information... Done\n",
            "ffmpeg is already the newest version (7:3.4.11-0ubuntu0.1).\n",
            "The following package was automatically installed and is no longer required:\n",
            "  libnvidia-common-460\n",
            "Use 'apt autoremove' to remove it.\n",
            "0 upgraded, 0 newly installed, 0 to remove and 20 not upgraded.\n",
            "Reading package lists... Done\n",
            "Building dependency tree       \n",
            "Reading state information... Done\n",
            "The following package was automatically installed and is no longer required:\n",
            "  libnvidia-common-460\n",
            "Use 'apt autoremove' to remove it.\n",
            "The following NEW packages will be installed:\n",
            "  xvfb\n",
            "0 upgraded, 1 newly installed, 0 to remove and 20 not upgraded.\n",
            "Need to get 785 kB of archives.\n",
            "After this operation, 2,271 kB of additional disk space will be used.\n",
            "Get:1 http://archive.ubuntu.com/ubuntu bionic-updates/universe amd64 xvfb amd64 2:1.19.6-1ubuntu4.13 [785 kB]\n",
            "Fetched 785 kB in 0s (7,347 kB/s)\n",
            "Selecting previously unselected package xvfb.\n",
            "(Reading database ... 126376 files and directories currently installed.)\n",
            "Preparing to unpack .../xvfb_2%3a1.19.6-1ubuntu4.13_amd64.deb ...\n",
            "Unpacking xvfb (2:1.19.6-1ubuntu4.13) ...\n",
            "Setting up xvfb (2:1.19.6-1ubuntu4.13) ...\n",
            "Processing triggers for man-db (2.8.3-2ubuntu0.1) ...\n",
            "Looking in indexes: https://pypi.org/simple, https://us-python.pkg.dev/colab-wheels/public/simple/\n",
            "Collecting pyvirtualdisplay\n",
            "  Downloading PyVirtualDisplay-3.0-py3-none-any.whl (15 kB)\n",
            "Installing collected packages: pyvirtualdisplay\n",
            "Successfully installed pyvirtualdisplay-3.0\n"
          ]
        }
      ],
      "source": [
        "!pip install gym==0.26\n",
        "!pip install imageio imageio_ffmpeg\n",
        "!pip install pygame\n",
        "!pip install pyglet==1.5.1 \n",
        "!apt install python-opengl\n",
        "!apt install ffmpeg\n",
        "!apt install xvfb\n",
        "!pip3 install pyvirtualdisplay"
      ]
    },
    {
      "cell_type": "markdown",
      "metadata": {
        "id": "vjYtp6cyyXi-"
      },
      "source": [
        "the functions below will be used to make a video of the model performance. It will start the environment and choose the best action based on the given Qtable."
      ]
    },
    {
      "cell_type": "code",
      "execution_count": 2,
      "metadata": {
        "id": "-uB9baAkykMs"
      },
      "outputs": [],
      "source": [
        "from IPython.display import HTML\n",
        "from base64 import b64encode\n",
        "import imageio\n",
        "\n",
        "## comment this part if your not using google colab\n",
        "from pyvirtualdisplay import Display\n",
        "virtual_display = Display(visible=0, size=(1400, 900))\n",
        "virtual_display.start()\n",
        "######################\n",
        "\n",
        "def record_video_frozen_lake_env(env, Qtable, out_directory, fps=1, random_action=False):\n",
        "  images = []  \n",
        "  done = False\n",
        "  state, info = env.reset(seed=random.randint(0,500))\n",
        "  img = env.render()\n",
        "  images.append(img)\n",
        "  while not done:\n",
        "    # Take the action (index) that have the maximum expected future reward given that state\n",
        "    action = np.random.randint(4)  if random_action else np.argmax(Qtable[state][:])\n",
        "    state, reward, done, truncated, info = env.step(action)\n",
        "    img = env.render()\n",
        "    images.append(img)\n",
        "  imageio.mimsave(out_directory, [np.array(img) for i, img in enumerate(images)], fps=fps)\n",
        "\n",
        "def show_video(video_path, video_width = 600):\n",
        "  video_file = open(video_path, \"r+b\").read()\n",
        "  video_url = f\"data:video/mp4;base64,{b64encode(video_file).decode()}\"\n",
        "  return HTML(f\"\"\"<video width={video_width} controls><source src=\"{video_url}\"></video>\"\"\")"
      ]
    },
    {
      "cell_type": "markdown",
      "metadata": {
        "id": "281QULrBtRtK"
      },
      "source": [
        "## Part I: FrozenLake Environment (35 + 10 Points)"
      ]
    },
    {
      "cell_type": "code",
      "execution_count": 3,
      "metadata": {
        "id": "k2zC-9XIoYEL"
      },
      "outputs": [],
      "source": [
        "import numpy as np\n",
        "import gym\n",
        "import random\n",
        "from tqdm.notebook import tqdm"
      ]
    },
    {
      "cell_type": "markdown",
      "metadata": {
        "id": "clVAINP0xO17"
      },
      "source": [
        "In this exercise, we want to solve the FrozenLake environment. It is a simple grid-world environment where we have to reach a goal state while avoiding holes.  \n",
        "You can read more about this environment [here](https://www.gymlibrary.dev/environments/toy_text/frozen_lake/)"
      ]
    },
    {
      "cell_type": "markdown",
      "metadata": {
        "id": "YpWqhWmdy0rp"
      },
      "source": [
        "**[Question 1 (1 Points)]**  \n",
        "Create a <u>slippery</u> FrozenLake environment of size <u>4x4</u>\n"
      ]
    },
    {
      "cell_type": "code",
      "execution_count": 4,
      "metadata": {
        "id": "VcYInB5gzszF"
      },
      "outputs": [],
      "source": [
        "env = gym.make(\"FrozenLake-v1\", map_name=\"4x4\", is_slippery=True, render_mode='rgb_array')"
      ]
    },
    {
      "cell_type": "markdown",
      "metadata": {
        "id": "EfnH3pYryxwf"
      },
      "source": [
        "Let's run a random policy in this environement to get a better understanding of it."
      ]
    },
    {
      "cell_type": "code",
      "execution_count": 5,
      "metadata": {
        "colab": {
          "base_uri": "https://localhost:8080/",
          "height": 621
        },
        "id": "dzYhV3GSyxGq",
        "outputId": "de84d8df-ef31-4e65-cd62-75a974b93a6c"
      },
      "outputs": [
        {
          "data": {
            "text/html": [
              "<video width=600 controls><source src=\"data:video/mp4;base64,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\"></video>"
            ],
            "text/plain": [
              "<IPython.core.display.HTML object>"
            ]
          },
          "execution_count": 5,
          "metadata": {},
          "output_type": "execute_result"
        }
      ],
      "source": [
        "record_video_frozen_lake_env(env, None, 'frozenlake_random.mp4', fps=1, random_action=True)\n",
        "show_video('frozenlake_random.mp4', video_width = 600)"
      ]
    },
    {
      "cell_type": "markdown",
      "metadata": {
        "id": "wze5Ukspx1G0"
      },
      "source": [
        "**[Question 2 (1 Points)]**  \n",
        "Briefly describe the state space, action space, and reward function of this environment.\n",
        "\n",
        "**Answer:**  \n",
        "Each state in this environment is a cell in the 𝑛x𝑛 grid. These states can be of type: Start, Frozen (regular type), Goal (winning and final state), or Hole (another type of final state which we should try to avoid).   \\\\\n",
        "Actions include: DOWN, LEFT, UP, and RIGHT; which will take us from one state to another. \\\\\n",
        "Reward function only grants us points when we reach a Goal State. Otherwise (in regular Frozen States and also Hole States), it returns 0.  \n"
      ]
    },
    {
      "cell_type": "markdown",
      "metadata": {
        "id": "JmelLdEG0Pjr"
      },
      "source": [
        "**[Question 3 (2 Points)]**  \n",
        "Complete the code for `initialize_q_table` function. It should create a Q-table of size (state_space, action_space) and initializes it. You are free to use whichever initialization you want (a good starting point is to initialize it with all zeros)"
      ]
    },
    {
      "cell_type": "code",
      "execution_count": 6,
      "metadata": {
        "id": "_BKgfgqI0XWW"
      },
      "outputs": [],
      "source": [
        "def initialize_q_table(state_space, action_space):\n",
        "  Qtable = np.zeros((state_space.n, action_space.n))\n",
        "  return Qtable"
      ]
    },
    {
      "cell_type": "code",
      "execution_count": 7,
      "metadata": {
        "colab": {
          "base_uri": "https://localhost:8080/"
        },
        "id": "lWeutJTb0qUX",
        "outputId": "0d8ca25b-1c0d-4b15-e725-e17a201a203b"
      },
      "outputs": [
        {
          "name": "stdout",
          "output_type": "stream",
          "text": [
            "Qtable:\n",
            "Actions (in order of index in Qtable): L, D, R, U\n",
            "States (which s is (row * n) + col): s = 0, 1, 2, ..., n*n - 1\n",
            "[[0. 0. 0. 0.]\n",
            " [0. 0. 0. 0.]\n",
            " [0. 0. 0. 0.]\n",
            " [0. 0. 0. 0.]\n",
            " [0. 0. 0. 0.]\n",
            " [0. 0. 0. 0.]\n",
            " [0. 0. 0. 0.]\n",
            " [0. 0. 0. 0.]\n",
            " [0. 0. 0. 0.]\n",
            " [0. 0. 0. 0.]\n",
            " [0. 0. 0. 0.]\n",
            " [0. 0. 0. 0.]\n",
            " [0. 0. 0. 0.]\n",
            " [0. 0. 0. 0.]\n",
            " [0. 0. 0. 0.]\n",
            " [0. 0. 0. 0.]]\n"
          ]
        }
      ],
      "source": [
        "Qtable = initialize_q_table(env.observation_space, env.action_space)\n",
        "actions = ['L', 'D', 'R', 'U']\n",
        "print(\"Qtable:\\nActions (in order of index in Qtable): L, D, R, U\\nStates (which s is (row * n) + col): s = 0, 1, 2, ..., n*n - 1\")\n",
        "print(Qtable)"
      ]
    },
    {
      "cell_type": "markdown",
      "metadata": {
        "id": "9NHYE1Q2rMSU"
      },
      "source": [
        "**[Question 4 (2 Points)]**  \n",
        "Complete the code for `epsilon_greedy_policy` function. It should select the best action according to the current Q-function with probability $1-\\varepsilon$ and select a random action with probability $\\varepsilon$."
      ]
    },
    {
      "cell_type": "code",
      "execution_count": 8,
      "metadata": {
        "id": "YbOjqoTRrAqw"
      },
      "outputs": [],
      "source": [
        "def epsilon_greedy_policy(Qtable, state, epsilon):\n",
        "  rand_num = random.random()\n",
        "  if rand_num < epsilon: # random action selection\n",
        "    action = env.action_space.sample()\n",
        "  else:                  # greedy action selection\n",
        "    action = np.argmax(Qtable[state])\n",
        "  return action"
      ]
    },
    {
      "cell_type": "markdown",
      "metadata": {
        "id": "Cgdt3n_ftE9E"
      },
      "source": [
        "**[Question 5 (4 Points)]**  \n",
        "You need to choose appropriate hyperparameters for the agent to learn.\n",
        "\n",
        "In particular, you must find a suitable learning rate and exploration parameters. To facilitate exploration, a common practice is to start with a high exploration rate ($\\varepsilon$) and gradually decrease it as the agent gets better. To implement this, you need to specify the starting exploration rate (`max_epsilon`), the final exploration rate (`min_epsilon`) and a decay rate which reduces the exploration rate after each update (see the `train` function below)."
      ]
    },
    {
      "cell_type": "code",
      "execution_count": 9,
      "metadata": {
        "id": "SrbwYgKZtFWc"
      },
      "outputs": [],
      "source": [
        "import math\n",
        "# Training parameters\n",
        "n_training_episodes = 50_000  # Total training episodes\n",
        "n_eval_episodes = 10_000\n",
        "learning_rate = 0.5          # Learning rate\n",
        "\n",
        "# Environment parameters\n",
        "max_steps = 99               # Max steps per episode\n",
        "gamma = 0.95                 # Discounting rate\n",
        "\n",
        "# Exploration parameters\n",
        "max_epsilon = 1.0                                                        # Exploration probability at start\n",
        "min_epsilon = 0.005                                               # Minimum exploration probability \n",
        "\n",
        "ro = 0.001   # a constant to indicate the level of proximity of epsilon to min_epsilon\n",
        "theta = 0.5  # percentage of episodes after which, epsilon = min_epsilon * (1+ro)\n",
        "decay_rate = -(1 / (theta * n_training_episodes)) * math.log(ro * min_epsilon / (max_epsilon-min_epsilon))          # Exponential decay rate for exploration prob\n",
        "### Explanation and example for how decoy_rate works:\n",
        "### decoy_rate here is a function of (min_epsilon, max_epsilon, ro, theta)\n",
        "### if min_epsilon = 0.005, max_epsilon = 1, theta = 0.5 and ro = 0.001, then\n",
        "### after termination of 50% of episodes, our epsilon will reach 0.05 * (1 + 0.001) which\n",
        "### conceptually means \"an epsilon really near to the min_epsilon\"."
      ]
    },
    {
      "cell_type": "markdown",
      "metadata": {
        "id": "y2hySBMAvmPk"
      },
      "source": [
        "**[Question 6 (10 Points)]**  \n",
        "Complete the `train` function which updates `Qtable` using the Q-learning update rule."
      ]
    },
    {
      "cell_type": "code",
      "execution_count": 10,
      "metadata": {
        "id": "FCqTlP-7vnxs"
      },
      "outputs": [],
      "source": [
        "def train(n_training_episodes, min_epsilon, max_epsilon, decay_rate, env, max_steps, Qtable):\n",
        "  for episode in tqdm(range(n_training_episodes)):\n",
        "    # Adjust epsilon\n",
        "    epsilon = min_epsilon + (max_epsilon - min_epsilon)*np.exp(-decay_rate*episode)\n",
        "    # Reset the environment\n",
        "    state, info = env.reset()\n",
        "    step = 0\n",
        "    done = False\n",
        "\n",
        "    # repeat\n",
        "    for step in range(max_steps):\n",
        "      # You must:\n",
        "      # Take action A_t and observe R_{t+1}, S_{t+1}\n",
        "      action = epsilon_greedy_policy(Qtable, state, epsilon)\n",
        "      new_state, reward, done, info, prob = env.step(action)\n",
        "\n",
        "      # Update the Qtable with (S_t, A_t, R_{t+1}, S_{t+1})\n",
        "      diff = reward + gamma * np.max(Qtable[new_state]) - Qtable[state, action]\n",
        "      Qtable[state, action] = Qtable[state, action] + learning_rate * diff\n",
        "\n",
        "      # Be careful about episode termination and truncation\n",
        "      if done:\n",
        "        break   # end episode\n",
        "        # truncation handled by max_steps in for loop condition\n",
        "      \n",
        "      # Update state to new state\n",
        "      state = new_state\n",
        "\n",
        "  return Qtable"
      ]
    },
    {
      "cell_type": "markdown",
      "metadata": {
        "id": "_sFV4Kn6zO8G"
      },
      "source": [
        "We are now ready to train our agent."
      ]
    },
    {
      "cell_type": "code",
      "execution_count": 19,
      "metadata": {
        "colab": {
          "base_uri": "https://localhost:8080/",
          "height": 49,
          "referenced_widgets": [
            "1d43725b20c248ddb0f5723ebb3f0c04",
            "2b7b9fc5703b4d258b4893a64ab870f0",
            "d3694cfc8f114410892af5a8308dfb93",
            "a705f1ace18242799495ca5fa50e919e",
            "1ac412d660bf422da6223b0ffe392ed9",
            "bf61820de05e46a581f23e88301da2a5",
            "4c95db9917b64bcb820aa2fd012cd244",
            "26d643f03dce4137970a1b5690f93e78",
            "28dec26af47d4625911e7d64f97389fa",
            "bb4748a0ea30431795dfb4b8019fd555",
            "4c9666028de445f99f88ea409da552d2"
          ]
        },
        "id": "jduZzTMvzLBx",
        "outputId": "c8a03499-ab2c-4e27-e7f7-3fc0562f46a3"
      },
      "outputs": [
        {
          "data": {
            "application/vnd.jupyter.widget-view+json": {
              "model_id": "1d43725b20c248ddb0f5723ebb3f0c04",
              "version_major": 2,
              "version_minor": 0
            },
            "text/plain": [
              "  0%|          | 0/50000 [00:00<?, ?it/s]"
            ]
          },
          "metadata": {},
          "output_type": "display_data"
        }
      ],
      "source": [
        "Qtable_trained = train(n_training_episodes, min_epsilon, max_epsilon, decay_rate, env, max_steps, Qtable)"
      ]
    },
    {
      "cell_type": "markdown",
      "metadata": {
        "id": "OUlpdnRx75g9"
      },
      "source": [
        "Now, we will evaluate our agent. You don't need to write any code, just run the following cells as they are."
      ]
    },
    {
      "cell_type": "code",
      "execution_count": 20,
      "metadata": {
        "id": "BbQRzYEb8C3u"
      },
      "outputs": [],
      "source": [
        "def evaluate_agent(env, max_steps, n_eval_episodes, Q):\n",
        "  \"\"\"\n",
        "  Evaluate the agent for ``n_eval_episodes`` episodes and returns average reward and std of reward.\n",
        "  :param env: The evaluation environment\n",
        "  :param n_eval_episodes: Number of episode to evaluate the agent\n",
        "  :param Q: The Q-table\n",
        "  \"\"\"\n",
        "  episode_rewards = []\n",
        "  for episode in tqdm(range(n_eval_episodes)):\n",
        "    state, info = env.reset()\n",
        "    step = 0\n",
        "    terminated = False\n",
        "    total_rewards_ep = 0\n",
        "    \n",
        "    for step in range(max_steps):\n",
        "      action = np.argmax(Q[state][:])\n",
        "      new_state, reward, terminated, truncated, info = env.step(action)\n",
        "      total_rewards_ep += reward\n",
        "        \n",
        "      if terminated:\n",
        "        break\n",
        "      state = new_state\n",
        "    episode_rewards.append(total_rewards_ep)\n",
        "  mean_reward = np.mean(episode_rewards)\n",
        "  std_reward = np.std(episode_rewards)\n",
        "\n",
        "  return mean_reward, std_reward"
      ]
    },
    {
      "cell_type": "code",
      "execution_count": 21,
      "metadata": {
        "colab": {
          "base_uri": "https://localhost:8080/",
          "height": 66,
          "referenced_widgets": [
            "7ab7353d50244aaaaf85edb5c729a1ad",
            "3aaa64643fc64bcb89c79c170de41326",
            "759ab687a2d44b94904ea75a81195e68",
            "30c602def7e84eb7a2c5569ab7681b91",
            "6296c90050c94bbc99fed5ef059417f1",
            "04352eb8712a4b82a924a86206e70bec",
            "7785f7287db148c28f5dc6a1aa22e5b0",
            "c8798655b3c94b51a81ac8b20bf4755f",
            "48c9b5e998c646db92f6e47fc365b558",
            "28f68609d4e54e579b5e08390d029b0a",
            "c633e482074946f3bbbb076c5df3d1b7"
          ]
        },
        "id": "61-viEdx8vbC",
        "outputId": "c21cdeaf-306f-404a-98be-2676cee357dc"
      },
      "outputs": [
        {
          "data": {
            "application/vnd.jupyter.widget-view+json": {
              "model_id": "7ab7353d50244aaaaf85edb5c729a1ad",
              "version_major": 2,
              "version_minor": 0
            },
            "text/plain": [
              "  0%|          | 0/10000 [00:00<?, ?it/s]"
            ]
          },
          "metadata": {},
          "output_type": "display_data"
        },
        {
          "name": "stdout",
          "output_type": "stream",
          "text": [
            "Mean_reward=0.73 +/- 0.44\n"
          ]
        }
      ],
      "source": [
        "mean_reward, std_reward = evaluate_agent(env, max_steps, n_eval_episodes, Qtable_trained)\n",
        "print(f\"Mean_reward={mean_reward:.2f} +/- {std_reward:.2f}\") # should be around 0.65"
      ]
    },
    {
      "cell_type": "markdown",
      "metadata": {
        "id": "8Oj-u9bi7Vct"
      },
      "source": [
        "Now let's see how well our model is doing."
      ]
    },
    {
      "cell_type": "code",
      "execution_count": 22,
      "metadata": {
        "colab": {
          "base_uri": "https://localhost:8080/",
          "height": 621
        },
        "id": "NqP2b15M7U6Y",
        "outputId": "93fb4a04-d653-4b91-e5d9-b8027fcd6813"
      },
      "outputs": [
        {
          "data": {
            "text/html": [
              "<video width=600 controls><source src=\"data:video/mp4;base64,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\"></video>"
            ],
            "text/plain": [
              "<IPython.core.display.HTML object>"
            ]
          },
          "execution_count": 22,
          "metadata": {},
          "output_type": "execute_result"
        }
      ],
      "source": [
        "record_video_frozen_lake_env(env, Qtable_trained, 'frozenlake_trained.mp4', fps=1)\n",
        "show_video('frozenlake_trained.mp4', video_width = 600)"
      ]
    },
    {
      "cell_type": "markdown",
      "metadata": {
        "id": "nWvKPz_0zlhR"
      },
      "source": [
        "Next, we will take a look at the Q-function that was learned."
      ]
    },
    {
      "cell_type": "code",
      "execution_count": 23,
      "metadata": {
        "colab": {
          "base_uri": "https://localhost:8080/"
        },
        "id": "X8yC8f4Mzc-h",
        "outputId": "bd8984f2-79cd-4f57-aa8f-957a3029bcd2"
      },
      "outputs": [
        {
          "name": "stdout",
          "output_type": "stream",
          "text": [
            "[[1.65935209e-01 9.45977364e-02 5.99331255e-02 1.49451793e-01]\n",
            " [1.87909022e-02 3.84203141e-03 6.52712555e-03 1.48948223e-01]\n",
            " [2.98807686e-02 4.61729432e-02 4.00118105e-02 8.26026588e-02]\n",
            " [8.25716253e-03 2.19805014e-02 2.01227296e-02 7.97356134e-02]\n",
            " [2.26347388e-01 8.49380713e-02 8.47883852e-02 1.15117440e-01]\n",
            " [0.00000000e+00 0.00000000e+00 0.00000000e+00 0.00000000e+00]\n",
            " [1.16532815e-03 3.39238735e-03 3.69209595e-02 4.68670487e-04]\n",
            " [0.00000000e+00 0.00000000e+00 0.00000000e+00 0.00000000e+00]\n",
            " [4.19718270e-02 5.50683811e-02 1.64968918e-01 2.71873693e-01]\n",
            " [9.18172817e-02 2.75220831e-01 5.27331662e-02 8.21142588e-02]\n",
            " [1.71260972e-01 2.43294379e-02 3.30387046e-02 4.44237857e-02]\n",
            " [0.00000000e+00 0.00000000e+00 0.00000000e+00 0.00000000e+00]\n",
            " [0.00000000e+00 0.00000000e+00 0.00000000e+00 0.00000000e+00]\n",
            " [3.11911271e-01 1.06071714e-01 6.19489131e-01 2.53207539e-01]\n",
            " [3.11588435e-01 9.34956517e-01 5.15928234e-01 3.38799271e-01]\n",
            " [0.00000000e+00 0.00000000e+00 0.00000000e+00 0.00000000e+00]]\n"
          ]
        }
      ],
      "source": [
        "print(Qtable_trained)"
      ]
    },
    {
      "cell_type": "markdown",
      "metadata": {
        "id": "W_uLOGVo0mCv"
      },
      "source": [
        "**[Question 7 (5 Points)]**  \n",
        "Assume that `Qtable_trained` is the correct Q-function for the final epsilon-greedy policy that was used in training. What is the value function that corresponds to this policy? Write down the relation between $V_\\pi$ and $Q_\\pi$ and use it to complete the following code block."
      ]
    },
    {
      "cell_type": "markdown",
      "metadata": {
        "id": "QV1yNSlX4Xhn"
      },
      "source": [
        "**Answer:**\n",
        "$$V_\\pi (s) = \\max_a Q_\\pi(s,a)$$"
      ]
    },
    {
      "cell_type": "code",
      "execution_count": 24,
      "metadata": {
        "id": "tgvG3JPb4q4o"
      },
      "outputs": [],
      "source": [
        "Vtable_trained = np.array([np.max(Qtable[state]) for state in range(env.observation_space.n)])"
      ]
    },
    {
      "cell_type": "markdown",
      "metadata": {
        "id": "hrBSciQw4wBD"
      },
      "source": [
        "Take a look at the value function"
      ]
    },
    {
      "cell_type": "code",
      "execution_count": 25,
      "metadata": {
        "colab": {
          "base_uri": "https://localhost:8080/"
        },
        "id": "ZZ7aWMbOpAwZ",
        "outputId": "94d372d6-1202-4635-8000-135570983d9b"
      },
      "outputs": [
        {
          "name": "stdout",
          "output_type": "stream",
          "text": [
            "[[0.16593521 0.14894822 0.08260266 0.07973561]\n",
            " [0.22634739 0.         0.03692096 0.        ]\n",
            " [0.27187369 0.27522083 0.17126097 0.        ]\n",
            " [0.         0.61948913 0.93495652 0.        ]]\n"
          ]
        }
      ],
      "source": [
        "print(Vtable_trained.reshape(4, 4))"
      ]
    },
    {
      "cell_type": "markdown",
      "metadata": {
        "id": "JI8bzC7azyAq"
      },
      "source": [
        "**[Question 8 (5 Points)]**  \n",
        "Write a function to generate a visualization for the value function using a heatmap. In a few words, explain what you see."
      ]
    },
    {
      "cell_type": "code",
      "execution_count": 26,
      "metadata": {
        "id": "LUnArCcV0VMp"
      },
      "outputs": [],
      "source": [
        "import matplotlib.pyplot as plt\n",
        "\n",
        "def label_cell(i, j, text):\n",
        "  plt.text(i, j, text, horizontalalignment='center', verticalalignment='center')\n",
        "\n",
        "def visualize(Vtable):\n",
        "  fig, ax = plt.subplots()\n",
        "  im = ax.imshow(Vtable.reshape(4,4), cmap = \"YlGn\")\n",
        "  # Removing axes labels\n",
        "  plt.xticks([])\n",
        "  plt.yticks([])\n",
        "  # Create colorbar\n",
        "  cbar = ax.figure.colorbar(im, ax=ax, shrink=0.8)\n",
        "  cbar.ax.get_yaxis().labelpad = 15\n",
        "  cbar.ax.set_ylabel('Value function', rotation=270)\n",
        "  # Labeling some of cells \n",
        "  label_cell(0, 0, 'Start')\n",
        "  label_cell(1, 1, 'Hole')\n",
        "  label_cell(0, 3, 'Hole')\n",
        "  label_cell(3, 1, 'Hole')\n",
        "  label_cell(3, 2, 'Hole')\n",
        "  label_cell(3, 3, 'Goal')"
      ]
    },
    {
      "cell_type": "code",
      "execution_count": 27,
      "metadata": {
        "colab": {
          "base_uri": "https://localhost:8080/",
          "height": 252
        },
        "id": "N51kKbFFpGFh",
        "outputId": "45ddeb7a-036d-4d26-b3f9-be817a073be5"
      },
      "outputs": [
        {
          "data": {
            "image/png": "[encoded data removed]",
            "text/plain": [
              "<Figure size 432x288 with 2 Axes>"
            ]
          },
          "metadata": {
            "needs_background": "light"
          },
          "output_type": "display_data"
        }
      ],
      "source": [
        "visualize(Vtable_trained)"
      ]
    },
    {
      "cell_type": "markdown",
      "metadata": {
        "id": "HyNca-10ruQm"
      },
      "source": [
        "**[Question 9 (5 Points)]**  \n",
        "Can we use a pure greedy policy for Q-learning? Explain."
      ]
    },
    {
      "cell_type": "markdown",
      "metadata": {
        "id": "JqX18Ic-siGm"
      },
      "source": [
        "**Answer:**\n",
        "\n",
        "If we use pure greedy policy, it will be the same as 𝛆-greedy with 𝛆 being zero. This means that we are going to have no exploration and it means the learning will not happen properly (becuse initially we set all of Q-values to zero and exploitation here does not make any sense. At first, we need to act randomly to find out the real values corresponding to the environment)."
      ]
    },
    {
      "cell_type": "markdown",
      "metadata": {
        "id": "EVUwDSzC_YP8"
      },
      "source": [
        "**[Bonus Question (10 Points)]**  \n",
        "Think about the role of the discount factor in this environment and experiment.  \n",
        "1. Explain why it is not the best idea to set $\\gamma = 1$ for a navigation task. You might find it easier to reason about a deterministic (i.e., non-slippery) environment. (5 Points)\n",
        "2. If we had used $\\gamma = 1$, the value of states could be interpreted in a meaningful way. Think about what $V^*(s)$ would be if we had set $\\gamma = 1$ and trained until we got the optimal value function. (5 Points)"
      ]
    },
    {
      "cell_type": "markdown",
      "metadata": {
        "id": "GttKYjfu_cvg"
      },
      "source": [
        "**Answer:**\n",
        "\n",
        "1. γ determines how much the future rewards are valuable to our agent. if γ is near 0 it means that the agent tends to care more about immediate rewards (which are more likely to be achieved) than the farther ones. However, if we increase γ towards 1, we are more and more caring and relying on future rewards (somehow the agent is optimistically considering the future rewards as available as immediate rewards). So, if we set γ=1 then it thinks that any future reward has the same value as (and somehow is as achievable as) the immediate ones. \\\\\n",
        "2. The intuition I have tells me that as the effect of later rewards is the same as immediates, so all of the non-terminal states are going to have the same V-functin value. This is because of the fact that any two non-terminal state may reach each othe with a sequence of actions, and from then on, the rewards of them is going to be identical."
      ]
    },
    {
      "cell_type": "markdown",
      "metadata": {
        "id": "WLiFCIek6s8v"
      },
      "source": [
        "# Part II: Mountain Car Environment (15 point)"
      ]
    },
    {
      "cell_type": "markdown",
      "metadata": {
        "id": "7R36a4nH7MuZ"
      },
      "source": [
        "The Mountain Car MDP is a deterministic MDP that consists of a car placed stochastically at the bottom of a sinusoidal valley, with the only possible actions being the accelerations that can be applied to the car in either direction. The goal of the MDP is to strategically accelerate the car to reach the goal state on top of the right hill."
      ]
    },
    {
      "cell_type": "markdown",
      "metadata": {
        "id": "VlyLlwIG8qjw"
      },
      "source": [
        "lets create the environment."
      ]
    },
    {
      "cell_type": "code",
      "execution_count": 28,
      "metadata": {
        "id": "eBMSm62o8qBs"
      },
      "outputs": [],
      "source": [
        "env = gym.make(\"MountainCar-v0\", render_mode='rgb_array')"
      ]
    },
    {
      "cell_type": "markdown",
      "metadata": {
        "id": "CUOtuKcv8_Qw"
      },
      "source": [
        "The state of the car is represented by its velocity and position along the x axis. the velocity is a number between -0.07, 0.07 and the position is a number between -1.3, 0.6. There are 3 discrete deterministic actions: (0:Accelerate to the left, 1:Don’t accelerate, 2:Accelerate to the right)\n",
        "The starting position of the car is different each time we run the environment."
      ]
    },
    {
      "cell_type": "markdown",
      "metadata": {
        "id": "3exMYOjN9oza"
      },
      "source": [
        "In order to use the same Q learning algorithm on this environment we need to somehow discretize the states. We can easily do this by dividing the range of the observation into smaller range.   \n",
        "its important how small we divide these range. if the step size is too big we might not achieve a good accuracy and if the step size is too small we will have a bigger observation space.  "
      ]
    },
    {
      "cell_type": "markdown",
      "metadata": {
        "id": "dK9XEjBb-jTB"
      },
      "source": [
        "**[Question 10 (5 Points)]**  \n",
        "implement the next  discretization function."
      ]
    },
    {
      "cell_type": "code",
      "execution_count": 29,
      "metadata": {
        "id": "VwdauAFa8-yi"
      },
      "outputs": [],
      "source": [
        "def discretize(x, min_value, step_size):\n",
        "    return int((x - min_value) // step_size)\n",
        "\n",
        "assert(discretize(0.222, 0.1, 0.1)==1)\n",
        "assert(discretize(0.134, 0.1, 0.1)==0) "
      ]
    },
    {
      "cell_type": "markdown",
      "metadata": {
        "id": "XeSrhR6t_b4-"
      },
      "source": [
        "we will use step size 0.1 for the position and the step size 0.01 for the velocity. the following function will discretize a state using the function you implemented above."
      ]
    },
    {
      "cell_type": "code",
      "execution_count": 30,
      "metadata": {
        "id": "KltzG8ay7QUO"
      },
      "outputs": [],
      "source": [
        "def discretize_state(state, step_velocity=0.01, step_position=0.1):\n",
        "  position, velocity = state\n",
        "  position = discretize(position, -1.3, step_position)\n",
        "  velocity = discretize(velocity, -0.07, step_velocity)\n",
        "  if position==19:\n",
        "    position = 18\n",
        "  if velocity==14:\n",
        "    velocity = 13\n",
        "  return (position, velocity)"
      ]
    },
    {
      "cell_type": "markdown",
      "metadata": {
        "id": "pyBvbk-iAgbj"
      },
      "source": [
        "the function below will run the mountain car experiment and output a video. We will use it to run an agent with a random policy."
      ]
    },
    {
      "cell_type": "code",
      "execution_count": 31,
      "metadata": {
        "colab": {
          "base_uri": "https://localhost:8080/",
          "height": 453
        },
        "id": "sjZNzcBrAf4t",
        "outputId": "053ccfea-c35a-4478-b3a5-30cee09ff17c"
      },
      "outputs": [
        {
          "name": "stderr",
          "output_type": "stream",
          "text": [
            "WARNING:imageio_ffmpeg:IMAGEIO FFMPEG_WRITER WARNING: input image is not divisible by macro_block_size=16, resizing from (600, 400) to (608, 400) to ensure video compatibility with most codecs and players. To prevent resizing, make your input image divisible by the macro_block_size or set the macro_block_size to 1 (risking incompatibility).\n"
          ]
        },
        {
          "data": {
            "text/html": [
              "<video width=600 controls><source src=\"data:video/mp4;base64,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\"></video>"
            ],
            "text/plain": [
              "<IPython.core.display.HTML object>"
            ]
          },
          "execution_count": 31,
          "metadata": {},
          "output_type": "execute_result"
        }
      ],
      "source": [
        "def record_video_mountain_car_env(env, Qtable, out_directory, fps=1, random_action=False, max_episode=500):\n",
        "  images = []  \n",
        "  truncated, done = False, False\n",
        "  state, info = env.reset(seed=random.randint(0,500))\n",
        "  state = discretize_state(state)\n",
        "  img = env.render()\n",
        "  images.append(img)\n",
        "  episode = 0\n",
        "  while episode < max_episode and not done:\n",
        "    # Take the action (index) that have the maximum expected future reward given that state\n",
        "    action = np.random.randint(3)  if random_action else np.argmax(Qtable[state[0]][state[1]][:])\n",
        "    state, reward, done, truncated, info = env.step(action)\n",
        "    state = discretize_state(state)\n",
        "    img = env.render()\n",
        "    images.append(img)\n",
        "    episode += 1\n",
        "  imageio.mimsave(out_directory, [np.array(img) for i, img in enumerate(images)], fps=fps)\n",
        "\n",
        "def show_video(video_path, video_width = 600):\n",
        "  video_file = open(video_path, \"r+b\").read()\n",
        "  video_url = f\"data:video/mp4;base64,{b64encode(video_file).decode()}\"\n",
        "  return HTML(f\"\"\"<video width={video_width} controls><source src=\"{video_url}\"></video>\"\"\")\n",
        "\n",
        "record_video_mountain_car_env(env, None, 'mountaincar_random.mp4', fps=15, random_action=True)\n",
        "show_video('mountaincar_random.mp4', video_width = 600)"
      ]
    },
    {
      "cell_type": "markdown",
      "metadata": {
        "id": "WIETFj_sDR5s"
      },
      "source": [
        "**[Question 11 (2 Points)]**  \n",
        "Implement the next functions like you did the previous part. "
      ]
    },
    {
      "cell_type": "code",
      "execution_count": 32,
      "metadata": {
        "id": "2w7fNw4NC2mj"
      },
      "outputs": [],
      "source": [
        "def initialize_q_table(step_size_velocity, step_size_pos, action_space):\n",
        "  # Qtable should be of the shape (discrete position value, discrete velocity value, action_no)\n",
        "  count_steps_position, count_steps_velocity = discretize_state((env.max_position, env.max_speed), step_size_velocity, step_size_pos)\n",
        "  Qtable = np.zeros((count_steps_position + 1, count_steps_velocity + 1, action_space))\n",
        "  return Qtable\n",
        "\n",
        "def epsilon_greedy_policy(Qtable, state, epsilon):\n",
        "  rand_num = random.random()\n",
        "  if rand_num < epsilon: # random action selection\n",
        "    action = env.action_space.sample()\n",
        "  else:                  # greedy action selection\n",
        "    action = np.argmax(Qtable[state[0], state[1]])\n",
        "  return action\n",
        "\n",
        "Qtable = initialize_q_table(0.01, 0.1, 3)\n",
        "# first dim: desc position\n",
        "# second dim: desc velocity\n",
        "# third dim: actions\n"
      ]
    },
    {
      "cell_type": "markdown",
      "metadata": {
        "id": "RWSMO5cIE6NE"
      },
      "source": [
        "**[Question 12 (8 Points)]**  \n",
        "Change the previous train function so it works in this environment."
      ]
    },
    {
      "cell_type": "code",
      "execution_count": 33,
      "metadata": {
        "id": "zAHvbfxpC9XR"
      },
      "outputs": [],
      "source": [
        "def train(n_training_episodes, min_epsilon, max_epsilon, decay_rate, env, max_steps, Qtable):\n",
        "  for episode in tqdm(range(n_training_episodes)):\n",
        "    # Adjust epsilon\n",
        "    epsilon = min_epsilon + (max_epsilon - min_epsilon)*np.exp(-decay_rate*episode)\n",
        "    # Reset the environment\n",
        "    state, info = env.reset()\n",
        "    step = 0\n",
        "    done = False\n",
        "\n",
        "    # repeat\n",
        "    for step in range(max_steps):\n",
        "      # Take action 'a' then observe the reward and new state\n",
        "      position, velocity = discretize_state(state)\n",
        "      action = epsilon_greedy_policy(Qtable, (position, velocity), epsilon)\n",
        "      new_state, reward, done, info1, info2 = env.step(action)\n",
        "      new_position, new_velocity = discretize_state(new_state)\n",
        "      \n",
        "      # Update the Qtable\n",
        "      diff = reward + gamma * np.max(Qtable[new_position, new_velocity]) - Qtable[position, velocity, action]\n",
        "      Qtable[position, velocity, action] = Qtable[position, velocity, action] + learning_rate * diff\n",
        "\n",
        "      # Episode termination and truncation\n",
        "      if done:\n",
        "        break   # end episode\n",
        "      # truncation handled by max_steps in for loop condition\n",
        "      \n",
        "      # Update state to new state\n",
        "      state = new_state\n",
        "\n",
        "  return Qtable"
      ]
    },
    {
      "cell_type": "markdown",
      "metadata": {
        "id": "3CHmdB4BFYow"
      },
      "source": [
        "Now lets train our model. You can change the hyperparameters if you want."
      ]
    },
    {
      "cell_type": "code",
      "execution_count": 34,
      "metadata": {
        "id": "tBoHqoLhEnJt"
      },
      "outputs": [],
      "source": [
        "# Training parameters\n",
        "n_training_episodes = 20_000  # Total training episodes\n",
        "learning_rate = 0.1           # Learning rate\n",
        "\n",
        "# Environment parameters\n",
        "max_steps = 200               # Max steps per episode\n",
        "gamma = 0.95                 # Discounting rate\n",
        "\n",
        "# Exploration parameters\n",
        "max_epsilon = 1.0             # Exploration probability at start\n",
        "min_epsilon = 0.01            # Minimum exploration probability \n",
        "decay_rate = 2e-3            # Exponential decay rate for exploration prob"
      ]
    },
    {
      "cell_type": "code",
      "execution_count": 35,
      "metadata": {
        "colab": {
          "base_uri": "https://localhost:8080/",
          "height": 49,
          "referenced_widgets": [
            "0103dc5b1d524e85b7e4aa5aa5aa5bef",
            "9f59e40947e14644871bc9404133b384",
            "dd127f2a0ba24c23bf26d04212496e9e",
            "393e23d21e5046ccad8349c33164b631",
            "af5add114cbd41f68b85d7c474dd1bc9",
            "ce74a53482184d90acd5e7bdd6c861cc",
            "a4498ab503b3434bbe1430341f3752a2",
            "b097511dc01c4e929e6a56ad2280d5ca",
            "6b39fd987c1d4ce4ba5f61f9d12e18b6",
            "cc18b2183eff4a4fa83c67f9288ef7fc",
            "74e2839078e4458685838b38700735f3"
          ]
        },
        "id": "6emQyg3JFg1n",
        "outputId": "b112dff0-f253-4121-819f-ab2cc0991e61"
      },
      "outputs": [
        {
          "data": {
            "application/vnd.jupyter.widget-view+json": {
              "model_id": "0103dc5b1d524e85b7e4aa5aa5aa5bef",
              "version_major": 2,
              "version_minor": 0
            },
            "text/plain": [
              "  0%|          | 0/20000 [00:00<?, ?it/s]"
            ]
          },
          "metadata": {},
          "output_type": "display_data"
        }
      ],
      "source": [
        "Qtable_trained = train(n_training_episodes, min_epsilon, max_epsilon, decay_rate, env, max_steps, Qtable)"
      ]
    },
    {
      "cell_type": "markdown",
      "metadata": {
        "id": "wlH7J3jQg5Ra"
      },
      "source": [
        "Now let us inspect how well our model is doing. In order to pass the assignment, the car must reach the goal."
      ]
    },
    {
      "cell_type": "code",
      "execution_count": 37,
      "metadata": {
        "colab": {
          "base_uri": "https://localhost:8080/",
          "height": 453
        },
        "id": "TKkzIikqHOXw",
        "outputId": "c67b54b6-9ac4-4418-b107-ef53f465276f"
      },
      "outputs": [
        {
          "name": "stderr",
          "output_type": "stream",
          "text": [
            "WARNING:imageio_ffmpeg:IMAGEIO FFMPEG_WRITER WARNING: input image is not divisible by macro_block_size=16, resizing from (600, 400) to (608, 400) to ensure video compatibility with most codecs and players. To prevent resizing, make your input image divisible by the macro_block_size or set the macro_block_size to 1 (risking incompatibility).\n"
          ]
        },
        {
          "data": {
            "text/html": [
              "<video width=600 controls><source src=\"data:video/mp4;base64,AAAAIGZ0eXBpc29tAAACAGlzb21pc28yYXZjMW1wNDEAAAAIZnJlZQAAo4ZtZGF0AAACrgYF//+q3EXpvebZSLeWLNgg2SPu73gyNjQgLSBjb3JlIDE1OSByMjk5MSAxNzcxYjU1IC0gSC4yNjQvTVBFRy00IEFWQyBjb2RlYyAtIENvcHlsZWZ0IDIwMDMtMjAxOSAtIGh0dHA6Ly93d3cudmlkZW9sYW4ub3JnL3gyNjQuaHRtbCAtIG9wdGlvbnM6IGNhYmFjPTEgcmVmPTMgZGVibG9jaz0xOjA6MCBhbmFseXNlPTB4MzoweDExMyBtZT1oZXggc3VibWU9NyBwc3k9MSBwc3lfcmQ9MS4wMDowLjAwIG1peGVkX3JlZj0xIG1lX3JhbmdlPTE2IGNocm9tYV9tZT0xIHRyZWxsaXM9MSA4eDhkY3Q9MSBjcW09MCBkZWFkem9uZT0yMSwxMSBmYXN0X3Bza2lwPTEgY2hyb21hX3FwX29mZnNldD0tMiB0aHJlYWRzPTMgbG9va2FoZWFkX3RocmVhZHM9MSBzbGljZWRfdGhyZWFkcz0wIG5yPTAgZGVjaW1hdGU9MSBpbnRlcmxhY2VkPTAgYmx1cmF5X2NvbXBhdD0wIGNvbnN0cmFpbmVkX2ludHJhPTAgYmZyYW1lcz0zIGJfcHlyYW1pZD0yIGJfYWRhcHQ9MSBiX2JpYXM9MCBkaXJlY3Q9MSB3ZWlnaHRiPTEgb3Blbl9nb3A9MCB3ZWlnaHRwPTIga2V5aW50PTI1MCBrZXlpbnRfbWluPTE1IHNjZW5lY3V0PTQwIGludHJhX3JlZnJlc2g9MCByY19sb29rYWhlYWQ9NDAgcmM9Y3JmIG1idHJlZT0xIGNyZj0yMy4wIHFjb21wPTAuNjAgcXBtaW49MCBxcG1heD02OSBxcHN0ZXA9NCBpcF9yYXRpbz0xLjQwIGFxPTE6MS4wMACAAAAPXWWIhAA///73aJ8Cm1pDeoDklcUl20+B/6tncHyP6QMAAAMAAAMAAZXYV9S9YU0evfheloFgy2E65xODU1uoAAADAe9Ox/fnYGCI98HUmiK+f+cn2VNU79Xcbn5+RDxKUG1ibvjdKNAP0pb0a++SUCaK4yib6CrJifuaUvTBvQDZbRAKhHGnxZdRbZuTU8C82z9EK3HbE7l9FlA3w2qeQZ08r8QXcbERLdWDEhgtH5B+dszG1wW/tDdY5999Yq41tI5Y9MAMJ0h6/lszQM0di6Zv/bDlpK78Z55+I9axMTuDBjXPUUgEXLNXoZXvxGuoq/3HpKWP/Pxm4OyQHehfdyFAnWVLAAvICFeR333eiM9gShJbdMJDvV1zYwull1QLL3BDuxWAbIg5oCNPG8ZUvVGyiFGZDMC778gYGAmSLBkGQDvIGd/Ow30KrFRLLEDZ3XvIF0rT7IBQvXUG7J+3HJVzMIkViiWbxn7H3rEaSY3c8tKtC0yJly/WQdBIkX8Ek9CNk6NfNi2HtWx9BgBoZC94TXMQ0mMnEJNTiDD1HytDHV9/mXkqcGYmcQvRZ6XafAIIMZdB8kkXJywhWu1FMO0rQiIui1AWj7JLVOJ5SuwYSjch8WsH2NfgytTSwmcDRJF0n2k/0yqisIn4gnFPkNptBXr7yRQE0a8fI/dfd7YdZO4scp6cos9XOJRcc4ve19FhCIPoLhHuFJGn4lhk78gl9MZUi9PVwd+9eVTH5wAIaOVsqJ30bLTrfBiOnzubOYsIecbJ7UIb0kqoZ78Ty2b2mp5yaj0ZWfZTGUO5ogEPrvz/3GRPaeGasEboZMrXjYuCPKVRLAF+T9n4Q3zHF2DD9ujhu9lJDCulvmZUhgLYUux9SHsuqnzGKjgBIWets1XWB8eU77uZqT4uc0PTzaKhFXzulEH97YdulFg+SWryXBwZ0jBWnvQAUVZg5W1YnhEKg2dq0+8+Oyz7VM7mrBl54xs81DDvMg6fc03/oweZ1U++FhObB9U358z11JHJzsNcfiRaJRJUm3641BtUpV68xtBaT3SeJADbpU/6qZn6mrYzTcav/rWNUKdJkVU3WX7CQsEz6xRttBR+MXJdmeaiNPHtbYiHKSgnGJ+hcgVJRPieKKU+JpL/l4SH4D+RZnTdW2fJcUEBKWN2BwkaCMQUrFIJqSSyugM7savcEi6aY2f9e51zCX+x1mlrdZsTscoUxHk9qO/8FpgBAyTXj/9Uf/ywomYmnB8lUakm4d3s4XPR34/MmLuZ7ChWJiyWG/QYzFlXaztFnlFjJezL3YFwiijd2C47qCCjaxDGxnPOi9zNw3WMHIyr1t0+6LFQW5IpCGtwjloZVrmp5F9EN8XDxZkmk8Ou/ex5c3TvUqK3aS/ACaSEqMjb1nJoB4tbIcFLdWF2f5IW4ZkJKkpYN0ry53RBQBRkLI7qxHM7KYqtgTZQbVst3euV4urce9ov+Hf0ANGUGgHjoB5i9wuk+07Xht43FNOP/Y0U9S8LGp2SpxE8TbMV5B3xrQyYQfF6gTlMtihem/s7VFFS7q9DLaSAlSVK67w0C0x/ojMePn30WpeBgBnQjJ4/YxBoUkSk4eTALUiV3FFz7s5BpuRRyd8nKbt2z409t/cvRF3ns1p2AZG8b6iRSp83OGjran/R86G1rTEUosG/80gm0fQqCJlRDBZcb75eUelsO/qJJY4w+fCm0DZHHLN6HLOd3GMxKe28J0OEdJMJ6n7nllRy6d3NlVM52O/hnWzBD/pyd/5Z3Gz0XGo9YhWMn7CnVcsqrHqlTQhK38Zd4E6VME6eJWgE03k3Zlp/uLrzWD616Ky2YydMnlRFwEVaUNI5qDK6/Cxgh6JMhImBMfNQI6nHtUOZFi7ovhXfvZXZmrsXT+dp+s4GetLb50AFnLwEymN5QRGXMT0Jz+UgwDh+wiSwBeQK3msc5wyxJNAIH3qPq0QL79ypEjy7Z69iyGW21Q4xONcF3nlnfusemKY5oTFoyUh497ohN2BC2UKUCbkig0Ux2H+xD4jefAosZPw8OxHyAtcxpFO00YA+x+qT3QMI2grXfrnkKI5AAAAZuerIOtiAY5AsCVnJmcbO+xe9HmfYtEUSW6oFPNlx0L3qkLu+Le4DfV7hTkKjuG8enC0qmLPoRRFE7NybdcP+UqPBfxg9wm/+wqRi6Z5QrxyqXKdHWKX8kC/l8IqXsHOvgPI2edO0tZ7zd5wtrYpzLdEz2SHPC6vGq+2ljKt3T+qobr0gFM27yX7CP/+N1ufbOZF6J+TtH9ohjw7uq70WCdimInIj3oH42twP+8yGqAArSEmKb9jmI90+V5h5crARzSpf4E9E79wCO06UvXFhkznTPuKUnDR/D1+Zqao9clS7xwAy8Ppoc6VyFA7kb4xvI77Bt+AYw4BgYUQaql7/wI4ms974MO+eKJ5DvzjH+MgAD6izhxpAa1ZaihlGoRw62av+RskR83gHh4kvS/IHjXlKnQYNfjITxbO7ZT6NWzPHLVzHPDoYR54q4XasElx+h1vdrepAyJsTtRcxrPAK/YEgg63chXb6PwvXcJCr4qyH50cxLqKgDHgNWdcyiFsmp+KfkmTcEBy16DrmJ7acy/IL9iWpr4BqZn1UtRAsambSvMETOQIqO33yiAlpVrIJ9chBkVoR6jv//Cn4wFm3Y94FlL6vLiyShewMUJIsGCMHyLtRCdW4e2dXZncvpuXy9tb2pB9RmGlsEyDwR3Fe0ifHyKsJ5hQf+5wr/sZvEQ0oBDXV/zSWQBmLHBsOOFBLCw/Xqv2HQm0iYyNgijUqSwK9zegInteBc+Gz0RqShh0ODQ5mT0YDhjMb1fi3Qr9+3ZH30LILemVbyPVvui0GGWuJthYoFWc4ZnVwA4iizetWxIIXBPAI+5xeJpBSyK34+uOBz+PKVSlcnSd6OzbMgd5qzCuRdF2664hHx7JqpDuErmXMHrn8m7r00KvQz0IuYZKXvcvFMZ7KCViiRB2W5LnaO0FW93NszBds3yLoLAkra0/Qj8Gupg978pYqdP5DgDagHY4MAOqwdYZITNv+35HBi2oIlvcdsj/SyXJSMXVD2tuLX7M0GFpCukHok+OhBCaL5oEOj87iJOteIZTs4SiHYaGmYHaxW0LyuQawAc2nz/5maLMVM7sAgfQNlyqWUMlgcBCop9K/d9ZWPlkvMtny4PuTcyiWD+fEB3VjCX1DZ/9HUKyJiG1MF9jbUbmxMu9aZk5uyykyRR+MsmToqcAWUj0VYRhsAhawy6XcoEKErZTfIGBWujKIAtXMshPeBNJzK/tFsZ4LSEcHEMBbUrjnnnGnpbGDfLCfeI/zKAKGn5rArjiaO0okgiIRHFNyaQUujNi+awiFqc9tuWNTmmAAJvpCv4hVOmd/AmaTLWKa44jHjwQZNCqElU9R4yGA+Frv7wbJu3/N3rfGgwRb0duVQGVT16CLZqbTH6BxpgjCJvCNwO4uh6ZA9XwFcrKtoucrwAB+ZVOazmuI6xAAfa0QOJKd1LUR8p3UOfJhRs2dvkDbSjqm4AZEEKDDeRV1sNVwKKrKJu3YKmm0Nc40rVWwSSj7nQje8OnHnoow86wDYAIqMXAA9t+e/Sx7KJsU1b51iLdMCORgCCs7JiAnQ0mUMc8AOcSq5WUgB9BCUXlCcdWfonE75BYS0/4g8PAqOPPrFP4KrKIaBOHStCp0loUdxHPsPhow/J7rpj4QIpUquvq/Ye6aqzDaxxunrmAi3bZMUIcvLUkd6dE/LIc9PGXT6vQRG9nqq5OweI46LM9fKwGCxDELQGbPS4ud6jeY05jgSzcwkIWCkoTpU9QjSLCbcB43HpBu2x4wAyQcXPSqS8gRrlkPRs4THwyijr6vZECwrU2DRklgvW9NtLmne/5yscbHo6lBK5KSan62MHvSyVos8+HMlEmM+1sHnQd2uG8MdBaCkAjIxEM+kf6I/M2rJOU7c/9k3JsUTjuODuXuTX3cvAo4pPphzXKeiqcluHZqZ4FXhWrAXLeFBakT3Cx15bUg9D3UoNNkZeXrmrPD/IFk+g0DB4dYidx4ORMQrC8P3aqAo+qTmIlzdd5GGCKsK02nYlsqr4uFoMV2ubfPLqShEtx//Y3XsCg3g53adGdSRX1wZk8ZENSE8ji6W1JveYg4EcHfWFum5xVPzYr+cEwR6tLMYjMUesixu/Bmp8eOiYRq6y4ACxp4II1JMOvx2ws9Op/QSbhzmjWU45D794PIfasEMb6zN8Dq7oOQDIrJ86Kzw7wiFbEle/vTjzYffg+uf5y+2LrFgAhIgXwz4tjrmKncv1Q6vO+u5sQ9gY+3fcrNcSfLgaEwEYSxqdDUE/E/aGlScc/efhYHIAuff3STityaHL2H2P9nx8ZfLXnDqW+0vgvJmK3KQ5gA/Qoa23O3N0vA8e4NDox3aGgNKfrJbfPwjq9XY33GfVMn9a2AM3rQ9T8Cw1nap6kc1nbZeqoWDEocmnSoXs23fA8JZ/l+LvLRjpUn/X9pmS2GAlr6fI3NIcDj5Mn+4RmOHBsH8e9wQUCb2BP3+yvJIJMnZR85paz8Qjm83CMoVak7hcw6OQ6rkEIFD8bba35FlUfv7x5dkyBsDw2rSC506qXkaoKs9H7rX/8+Rvo5IKXkW1RRopzgJJyq/vNRpsnoUp/gTJK2ts8XzVBKx9iiMKOCv0UQc/cVjme0MANRWi/r5taUZ+W5ab8ACOL84UGtw8MXv0A40/adiYvgXzQX4GoiNIb8CCEhXhN9Np1t3hm6F7Qnuz3rIXuNDncsW5lEYXiRZoZkiy08LSbZiOeSYzOSzLFzEXLdetEvm3PFgdj6/3MdiGoJSNg7x0oh3A5+5xE3WAKqMCS4JFDmQF4FZ2W651FXQRArQ4YAtm2haeOXn42JVzQl/rtWal1Tw6UfFmKpDBv42hBXpGjXR4l7HYIBIuoNvyUk4WH18nQr3Pny3LCs3/2gI8E1VJatOgvRaBLUXPoJ0Z85y6K0AfMAjePxB2epgJnjiMXy+70Kdfr7UoH/4kparaUmEH1P9u3rUsVEL03mDz3wZ7UgstarM9NosBeOn84+rWrtbHjNJybvDI9xSkTBJoAfnCFtTiR1F4o5nzUC6AHzrdw0Og5T998CQo2HMd1O/oPDnf1Eqw2kAcKOU2DtnjYKEtBM3rpZenkzBphAoPtQ0Qjfsb2NOqT7sZ1FdB4T3ZEZQZyOzvFBaCEAoLbTRhUZ21cqjagABBQBEwAAARxBmiRsQ//+qZYACELuOAUORfF99GrDFd9QA0vPefLWrestgmYt87zC3OL+Qocb2Q1fIQ7WBPp/uyQYnI8Pwe4ySiUm6FoWEBPQVp+yZKP/PqxA8fdnxZs5fpN8I3NtxwkS0CZQ7agu1SxdrCMTWAnScqYBVA2Hw0aYYm+b7vDfSY/t7E63q+P+Y39+fJrcUJKCrQqKetvOyvIvRufUfb72FkvXDnOcKfNAG5dtxRTnP1XuQXzUcdTJXqmjgo8Ko20lWu+gsELrLVrC2L21rf8lqqU5nhsLskcKmuVPgJNx1vLe2WX8If2xwcJ5JelmRwXaTdC3BGRUkjTXnX88b6tXafge+C+S/O2jmn2FTMe7JA23MhYeL1b2I/9mxAAAAG5BnkJ4hv8AAAMABpgDAsfLA6YiADmwaxaD3bbPfbvuEfBCd0/+QLqHFqFfrD9MkajNsDopGGs4y9EBe/3Zez7NkV+iEZawDldXmr65aEIyN5/ajIOh1jQjB45ThjOHl0aew5v29gdM/m8lnvJugQAAAEIBnmF0Qv8ACfPt3wABh82/729VP6d4MgAnVv1xemN4EjQBgxUwG9jh005w7Fx6+7n2jxC+7DbLnWlJCEru5z74r0QAAABtAZ5jakL/AAADAAAvv2IAkbfjmLgRf33VbZ5iADnD1wJxNYITdyLToVr7RXNFtyBEQJ5tdpazhF6CEmOkcjhKmJq/1PLXIXEWqmuRSSobzG/9wf7Yp31ZToq6R+mbzEqD2plUTO8R6v/SFTwzbQAAATtBmmdJqEFomUwIf//+qZYAkA/g0nOrAAAWr0UfDsoAHaRgvnvkrLAwPPBfXkQwZPqhW6Dmg0Uuudc1mLH1io3QWsdCHHTaafDM1WyKx9220zG3xqK7XvoAi/SfN4UhEFtMW50lefd8efIGaqUwUvRXCkEjpxYxkvdV+5VOKeE8MoowWfr5uaac6VpfRyqG+vMzFrHghUjU2Kk8k/WnrkF971H1ipgzU/Q6AfeiXqsnKyftLmUOTQ12mJ5USiMmz3Qt/c2lkfz+CxhCzlqI9LPo0ew7fmeL++5DXmGACgM//NgiDUXd974D1Xxo1Cbl81ODTtJ/In4+q5ymx9BLNOhznltGtWPrdoDGoV1jpunymmeph9MiEBjLyzQdtdQ52d8pHjDRTtxqvz+1av3a+J5rwePSlWtsXaf5GGEAAACSQZ6FRREsM/8AAAMAACKrs+0JmWDpACaqvRn4kf9rm8HOcF5KRjFuJLkN11kaUubJGGebqQjdmKOYOfSDqVVYBit+MWhmsphpbHzIPLvQD+loRbMnwO2GjRK/jA0Q1nAk91kQhh95Vy9m2XtHOzTVV/vFlbmPvOnZOCOIndIzxa82zjshpc1ud2Vh7AwjLfuHY8EAAABvAZ6makL/AAADAAAvrheOVJXxXArba/E+jIAL3mccaEFkZWL9lbJJNP9m3Wjp6w8ZpKiSUvG2wlqvXBKMV7zQdAxQ0I7SMnhiHasGMfcXhS/QDmC8C6dfpzHl26BgRNiQ7e6i1H56JWZR0/lPH3RVAAAAxkGaqEmoQWyZTAgh//6qVQAAAwAACl/GQoghgeNwsVb4pAM+s5AfecbU++Ygh8OjdwBkHlO+zx+DlKrHNlh3m3UqtUIkQu8DzRANCnUXpGwF7q8MJFuHvmkGLwalbZx42tG+0MvHdbnenHjc8oqhq5t/FRfkuCDznZqDoCu8owQH9WizJaoaXA0ekaEtXD9Hea8HnNm/SkwazWeCGCwr9W/73XhK9X7CUMGpGo03eacZF2iwFpQ9nbt/WaUVG9Xf9jzn4CWUQAAAAWtBmsxJ4QpSZTAh//6plgAAAwAAJjyv/COaIAYtqpjSKm5zP2SHgtUJhDEUpvZBILTed3Ufj95kna+lv41ri23qFJLLL49OD3fzj5YnAAF9DRerXYl8Ccta3GhAPb7CghvX1D9vHi+ymzAJYygd+cW+18+jZQUpT1o4UC7Q7Dx0gWPnLiO6aGrOSn8KI0uP3X05VrByg5RV774vNy2cXTc6Iqy7hMTJapT+wClMIayl2bcnEb6qh+Y2SliYNsL0zBy5Tbts7Pv22ZXWeA+2i5vBvMPSiOJhn/WUSntCbjt6A8TzZKZitHBaYYZl3Z7UZepy+86UynR9ihXayffWwsc/eDspqdYfXFiA2xZmTTfa65hhzmx+RusgOPhs6jfOpD9HAdYVlcMN+PWK6nRmoDa+SXD9eS/fOIblY5lHqwpTqG0laXRTn3IDDsTErc4BtYiKbvYaS7ovE9AE0MGEZaovSxaklohKfBmOh7gAAACsQZ7qRTRMN/8AAAMAABui7/6xkdXnXI/oAF0aS6BajoH1IqGuc1SqGfWBHznMO81v7iTxDOziVjwgrPUitHYEw8aO2ZgCnU/Xx9Ih5K5Z5yBIIGWFI6UkIz7qpDFb3+Pn8Un2E6wzvJzPzMzDZstJ9A2wZwKPNjLQRM2M900I9oGTJoepPrnhjv97JM/jpI8vCyZZ0t+GlXk7yTHUKzYYAH82K8nz4HvuUEsApQAAAGwBnwl0Qv8AAAMAAC12FCbuW5zUyVy//65SZ5g/QQ9PPX1wWqG8/+R5rsXx3gBMnU1rUqRyCrHHzC2KI9ieCfukGB1oErFL/PO6LZCljHVavLHR0Ppvn3hrv/Hu3wZtrFC2RGNdWbQe3qG3MqAAAABnAZ8LakL/AAADAAAuk7j6brQIbQf1pyZRvPIFM6R64Ir5weVUOYHW5wFY6wAYz7QAg/gPoPNYUV61mpF1uzBRs5OzCQv8JPvHqxaJBGj1qESQTLEVoC3EqTrAP/qJUvCUVsgGoCU+gAAAAS5Bmw5JqEFomUwU8EP//qpVAAADAAAJwdHcAA6V3kRtxhiesxvqiG0GcA428YEl2OLXnau9TIZ3cmXb8X/BOtPdwn5Z/pwYfrx/6IYTMYcde6sXGjXmbEfvxVFQ69s4cP/V8YBIfX4tym9u/5AUi5L6wKULvDL9JHm3ooQJ6Bbg3AcoRFRr9vbp1bl1x9pxpmvwwk0r995d7Wu5/fMj2x/fuHK7W4rzFLp+GDAx+ZxwlA3QapdUqdRO5sxd+tTzKb7/F7b7bz+qi8HHyIXBbLzEp7L2pMqiQuACX1V9WNEXo6oEpoM14VcGiKjBjRxMmtOOpTEaW7NwtaPoQ0CYDvLmsyvsr0dIE0zuPKtJpMrAFEnmdanRosq3zcQdawbeDXsAemFz16/TWH1v+WTA4QAAAG8Bny1qQv8AAAMAAC6ZHVDeVnCdYjdUYkdiEfq16i7yfMjF/JyrodcAAnQI5978sbWlIP1xksJq+rp0GlrGm4idIkxB8IapDUxdFglE7pUgnwCHLgD9o2szHHxpjVpzYVqfcaMabg5fpjMFvhv1jJUAAAEcQZsySeEKUmUwIf/+qZYAAAMAACYF/+bQD5rhI6f554BrXIDnAbRxi2y7NGU75CLObSsS6Q4VXepmTrYnUO7oDqtbGkdrbTev/NiqOtxG+06IINYVhGq3L8Xi1w/UEd4W0Qk/4uo2iJGct2GFy7TrVn/nNplwFIRw929R9GemIJQmt6a7OhhKY3qrTy/2/mPZk2+FPIpeCtiulSElbFqWSRXmWqsmWNvHzLyCqJqhMRRESqAiySBkV+1UlJthr5N0uaT/hiWHJBDq4k7oka/Ka+a6gHY3oBmgqTdbk84XBH8gNm7LAcJ0HA/eolIiF6Exz0Ylrufi7aIwqA5/LWMZvsWNV0Y3Xn/l2MLfFzP278WJR/cj2z/H853QKmEAAAB6QZ9QRTRMN/8AAAMAABugBLdh9bmgHkqH7oDSHR7YAkV6N823KigAaN0DjK5UHBupGBOguyQgl82wt1jj23PdbpRNhMZy1e0iNTQg9h7iQe6vhqoW8P3Vf/JlDnjCvPR3vYerAH9ST/W0/FQCjKE80qByR+iQxz8QrVQAAABXAZ9vdEL/AAADAAAuiQTycSyEN3zFK5xy2ACGjd1G86zLi3m/tKD7EuE7GOZKM1s8OV0ulQFxy5txvXnCJDLMqFVQdd90660nMFBoviURWmJQ/UkKvIrAAAAAMAGfcWpC/wAAAwAAKxgSpPqrSUFHr1/Yd/CFUytj5XIuItIAJUp/Bcn8DpxLAjTbLQAAAJxBm3ZJqEFomUwIf//+qZYAAAMAACYMVKHuecmHUPpPqHHsqJcwz6XXVtg6n5HFck+dRs4AIeul37pMk5Hhy7neYNNRktyUj10IERBfQV0pKTTnQ9T21Efl37eYfuxQHK64AQCFZE0a92XPknrBEHSwSbR+DXkgEJraLmDInNuIKexSYgG106rkO/aTkX67Hex8wX9RnP+ddYPhhugAAABcQZ+URREsN/8AAAMAABr7+1OJ1lTGWe6SNuKUDdZT+eshng/HhmSgAEIZPcNGjCcAZ5YjjqgPfb09rzi/CwSdKjQt0vY7j+hzkJZyKCjJrrp+kX3Muhc1x6caFJgAAAAfAZ+zdEL/AAADAAAtdkb5TqksFhIXM4D86HJUyumewQAAAD4Bn7VqQv8AAAMAAC1j3k9K9x6BsEMcNJ+0OZnSL43qUg1E+8+H4iye43k9/AA/EuBU2Bm6Eo6sB8jenftBWAAAASFBm7lJqEFsmUwIf//+qZYAAAMAACYGlPuAETUJ8euQ/lUoNzGzLevmFQV3tR7KAX5P0iR44K3csF11bjv3G8+dxIiHQLRzVGGSGoxNNbqrCBQscBpz38FJNN0U1iz18p9DmLsqoEDeNyyeNaX68vaAEHzV15sFosEjiXK3wkHW47OlACCG4JYXqCnOOvsAjRi/7f1B1kvk9eXxeaOdorJz66T6hYJux+FUf4+3BCpgFLSDSWzRCjFcs1k4kKMCqCMkgr7vDkZWjhr0mRYKGTmTwiRxyahHrg08iWcIzwMIXOiv44xt/CFA2E4WM0lVuaqrozRTjOqA33y25wfHUt3AJYK/GTURkwgCtTVtd+PnJcipgcguNbEcVgOnE1ggp7wFAAAAXkGf10UVLDP/AAADAAAgtmXX0a/Ze4b75a8uT8QfVGwhUj9IlAB+kKNihcJpikmPzdW3TSJTF+hv651zYkAgvx2VbYdcwLCyfSnBhU10RW/iyaD1/v/szrj4c/8xgtEAAABuAZ/4akL/AAADAAAtZB89Gx1cQb1IY1PYGSDqyQNAqg9UADaJwascTjrCr7qfaK+TXxnLrxuTStJGF8pgl1t6quxaGP9YOYdHvie2xohSGK0j2yHK6VjELq+Zu1md0rdq/Su7M5Q90/fbTyo84DgAAAEJQZv7SahBbJlMFEw7//6plgAAAwABQsSq2FSMKXIZx0AOOOEwQlnQrtLCz4Bw5v0HLiCavQpwlhm/K37266DZQuV50onXPRhJss8nFJs2WmPdzXKvbRHYc7CHE1ytutlaXJi6ydNf8/xQgDUJXXRpHKa8Ic4FLsm1x3k39iwN7qgOIlIFA6DR61/p0kHhpFTidlWs6oScEhiJpkL+n+DEpxE99ImJ/m1szkFQek9qKdE54eB9lMYRqdRdHovJS+gRsyap2ILi2ws0D3TIvfu1dI913E4Kt26VfH9j+qCsUz2RWkMGOVY/tf4OqOzM9lCgt/np5Z4DGYT+UYW+I/RDzCf/pW67i1YSmQAAAGUBnhpqQv8AAAMAAC1C22oD490M2G4PJqA+6LOLC889gL6Ngn9kcOea/tMbUj1978SFZlABDL/FF2L++j4hctVMTbSWwgThLdcQSgHrqG8Ncj7uIOYTHwrVEf0cMP2RjJAzyL9lqAAAALhBmhxJ4QpSZTAh//6plgAAAwAAJj8yiOVwjtIcPfvc0iPkQDnbwCH0ESC8ocBzTomyohQNJuM8ucVMROmZvzrg50iqDDSNjKQG2C57lUOf4lnFA0iaRjSVb1h+zLRJAcjkxoZopRSbaI3MYmwR9Q+wxghpeWfwe0a4Ep+dL3DL8Ktye/EbRyq+1ZgNJ9RoeRLR7jCJ+dOB24yObZPcuJ3wWoRmXxhf7yHFk4xoicLhFr/YCF+ozzVBAAABGUGaPknhDomUwU0TD//+qZYAAAMAACgbkPx4nQAful0NAccZg6LoFA+lbHtljtwfCbrkCFaS0YIk5Doy1T5ZP/w4Zv0c3RluR9xLiKCKbmj3MIJ/1keg9ca3mqh2AD8De0g//wLJbQQ0YSuToEfZSBMePq2Uo1+V9m18TzjpjcWJQ3c9di+mF/rEHuCS7e2dK4vz/Ivvad5U3IlUDVFS1ljZ1MKPlUGMyFe9htd3/6nlYxldTj26CRDUxQyTLtIbENPet3CaIdI/arr0KZeEp6XaHDXU/1kn53Lfy5elOoVBE8wFyReVtA9b3Mj1cl0609pgZ6Ygoaz88gYi6x6R3tiu/iGDg5cd9fawT5kgs9cSb615AEW5ghxnAAAAeAGeXWpC/wAAAwAAL7hNuWBClrWw5RdSfDdPjghDnXq5hh2AC4al5rO5vHNOMrbS80bZOzj4F+3uDO1UoB3OVsrfNbW0avLOLYnzZtAQxoSZ4M0AUPXEoGjp5VivIczW6SBBxdg2Fh/FsOeDDDBI33z5midch9WMYAAAAThBmkBJ4Q8mUwU8P//+qZYAAAMAACk7kV/1jQGEoSu6uWNZaViMhmZVEOj3C7CI+TX+9BNh3fQV3Ywmw8cL/Hh1YrYAlIJwpOt2FVtcR2Bf0CDX1hIcItvKpCX7K3lXQDGX34xRSXk2o4GxF+n89ONuA/GlZ3OMlplhQDGq6vxnq/fJZQrdxuoh3rAHl1Fgp8x+3Vp7J0YTNp7Amwo9OwPVmhPf1dhePU2st946eHgb4FHHP6PsnlMD8CpztyU2nq8KKxeyh+njtpNnKbPjgPn5F8KqaAC1tB9mmdxjh4kaeoAiny3pX23U8WE6LnbAHYnDeks5nE0znG4E95LBy1EWz5hQ5+UDDPSCHBB29BdbxDMfgNt0Hpq5U6VWbl83ggDHEc04EI7w8ubURDuGN12Btkgq/+8r+tMAAACNAZ5/akL/AAADAAAxClIXKNzDXzpDhIbvcd27Qmety16VxVWGQJTQAQfODyJQGwRx1+C6EBy7/5kHsFe8WtiS7yMLwkKKJbM3D5U/TXblA6sDxbnSLUnV7UApviJkIEbrE9cR/e5eNTqYbxzjCREIXu/RqFKCnnVRlTYM1XeMQRN3xA2j2eaEnGR4RKm/AAABCkGaYUnhDyZTAh///qmWAAADAAApO3of1zgAE6L8vXST+vLIbBJnuVUR+ooTfRL1mpIoQp2XDvU8FAxmPn9kaPBl+Ghzr0keeS2Wo2ulaixN9cYjweh/ZbZC8eIwnSFQLr/vKlVMg+mVOeA6F9JV6sXeL2VTgE7aXAsDw18nByk3ZkSHefoiLAZEjuIDAamRNy6Ei5/OvVAE5cxtUSnSNkgQQW396R5HLv2iCcVGHxAlaHUHhhWj6lYwQZY4YHIuIBgaccV1XF+W8a76VY+kiJ3BR5iZ4X93Bi683rU5DYs1eg2Q3QTUmbmQRHcQ9e56vNIa+msjwz9yvKpO1Er6yTm+vc3rjFsF8FqAAAABskGahUnhDyZTAh3//qmWAAADAABvR4jNC+jNAC2EGWG9ehhFfGcroNk612PInwTh8LDdXJ5Z5Q8CL4kJ/calKF/ZphS5jSN/tRm+B/DnMIrH9SmbpV7pe/RDxO4w0MCqI56ZJF1UqYVBJILBjLSiqTDKAfbbMB7ZGjBgwb6mQDBNewVDQCbcHWE2CHsCdVYlC66/phDLNK60oOEYFlGFFFEirOJH1mHUrdn1PTxmcy/gdf0Kh9MXQ4NKX8DMzcbADQVazrk5ZVgWAOccngm2xaIvurM3rbCK8YhuvWtz7H9mTt5kp6/393n6bqih5ZMl+F+ZPHHRSxHz65LPRCfD8MGLNlcAr55QC1WBIkfZFsU2EwrHwZGACYw83787ecjUSMateDZBBzKeRuWndMgNdHTHZvh0WrNvGYjnjCk5JNOmwW+uDOiWf3kurJPPDPnWfnoYuyHHGKi4WtNoT3hH/L/wjOdRaBl3cjoRQkejVJP/YJPTGWHx/nawcJEZPOmWu2eEIqOqSSvVdbMc4U+nC+6NfU1Hr3F6sRViO9Biv65KHa4Qg1lcMDh+Xp9tRhayGnHpAAAA3EGeo0URPDf/AAADAABPnnyQzF3tdt/QCEeXfQ16TV9lRPZ+bTO9TTB734atiq4/jzI8IxRfKSFiGRzIjZTofhC9DtPjRizElIfIAhzUBNfzHiZ3qhzrQjdLyPHx/IAQMC/6m0CATSTEMn4fv/qM0qbnCBTNpiVPIGRuG+/VqwErnYHZX9BZ7e9MPf2P6OlLTITri51H17gazTPZ1jd1FCAMB6n2xqE7K2GVo0RKPAy4oJ0th0JKq2Rn6EWrFQaLOjxloU33v71mk0ti3WV/4PH/VN54GtfSgfdLSXgAAACOAZ7CdEL/AAADAAB/GYqG5Rdtn4zKhN9gAdoDbviEgLKaKlN1VI6cpprh63Nv4WRnllyCe0f+Nlt9O9t5948MxGyT2KOKK/SFD5+72ZX3glX5dn5KJZeET2n1DVajZ/FhRZmsq0VeYtsfsHtgR10a17drrHCDjGOitWRSqOcrTYa0/p95fpJp/JfQ/+IpPQAAAI4BnsRqQv8AAAMAAILnJR0MdGfKQibxsbtQALtb+QWLsZkEMpwNqB7lgF5Q1I5uIF6nTmUNw1gKLtWG4+8A6rZWwvzySkJJ3ZjZNIhfWwobV3BHFm1GT88ruL8odft1JOgqnoqMVe8tCcqhNELH6fFb4aAuQkZglxhNejfpMc5xZ05mRa2M5jbpbmdXD6NBAAABLEGaxkmoQWiZTAh///6plgAAAwAAbxZhfaa1ZkJutABUBwfsL01LqBa5yYPB9uD1WHpsgn+7GuCfckCfTO2n5gH2DyuQ4rLqEIsXTs/pkMp0FgxWJhOvLKX3J6Vb98JOlMnJNx3BNGATRvH9P90CowuwyNFO9XXfv9i0XfDIHFPpsSwwc47dBVcevQoEteX7DdJzv/u9LEnjrmDc1rVPQqgrSdZ3c8/f2u2el0affGAC9yfRVAMFz35nlbvcHqtYoBT1vhRnGm8cE6RfZ8WdXRaNZIXYxIJR9uAWjB80l3qXPm6sG8oFCKb05gjy+bPHGVeG2r+H5hvVfymz001kLk09qKWiYcE8XVLMZtL/IP7/SEzTGUGtgAEVjf255oPLZaJVNvlKBytK3/ZBNQAAAXBBmuhJ4QpSZTBREsP//qmWAAADAABxucUUoj/raoCYJPjgAcPMhIDglNZhxxjEqxBOPJGUNKiUFz6RSu0HHhBHZbpZL7WAm7AXmuzkKqYETiWiXvWv7hzy8fS32/nDWx7Fisk5h3X19q0rnEg6yVO2B01SSQekmP7m1l2cTxa8B+dRcaopLUHp95bZYvImXsZSNdpOze9AZNSDm0Wckl74QyjepAVnMdZKIcaf5WcDhDSs62qNP/q04IR3xjBY1/LSKIND2uFRf346A3aZcghdi1nAiPPThP+Ynv+JZq5rtGu7PgyPx59fTURAz0NF43a24a7hpGOBOxqX6sDkyNWwsIYxdkATRZcTDBalFx6fQHH4PUY+QnbNUiC0RSQYkq7FjV3n8p+PovIw9lQnIX3OpIEVnNZzZAxkgZcVmUefPunfW1TiuhTlTfKhELsaSA4zWdTcMEBhayQF3LxebQdgUnUYs9Eu8JepuIbA7363rQAAAHcBnwdqQv8AAAMAAWKeY0GRqlKEMcNZKc2ELjXulCeERchXYZdlq5Ax+bOn0QAQ5qfcH+1NSEjcwkF9p1mGneErPXBrv8Rw4/T8E6Vf5/OTQjtzFPHv2kJu5pkVGkW8kdmrasibB+yfrKdXD3b2+jjtLwjZLhgorAAAAUFBmwpJ4Q6JlMFEw//+qZYAAAMAATCQmhGVDuY0wAPdSUQxdY8xr3JxZ/1nMN/X/n9YP/yxbHeeZL0BoG602GNdgTbldttFu5y7goAsNlMruJWRBRUlpri2N4irtQfv8zpOnD75ir0VkaGmZWbA9WhdxCXKQ8XKj5ppguhx56gxr3LnQV85+5r6Xmj/41RVsCG5y2fbaG5HIafACHMwVKUOSD/+sws9iVer+CODdOITDhEGUmZbaO40cSSf9s1WbQHvmS6tGTUr73yhLRDOZCgYMesMvPYoC8uxFqQh19PRBBvgI9qL6fP0p9lA4pe56kljeCHctczvku4GR9q1490Fylo2onAnsu07aZvEhahyDGG451t4dVYIGrQeM+J7r7oe8mIipY8YZRbLym897l7PdXccr/G0bOqR6/6anA3lNHkAAACGAZ8pakL/AAADAAF0nf57K6kd54ISTFqACakysvEQ0xJW2IHE4x0UMVxGDKgfqt/p2MdbeXCc0UBcpcFSfgwG/CshEjOwGonTMN146+TBWT+UZY6jrAxuIV5cdpiXDZX/mMk+Zdvl4yGhGpnwDvECs4ShShqg90segOF1oAMKX+NrBHNfrncAAAEyQZsuSeEPJlMCH//+qZYAAAMAATlUz3nYzLlfsAEOIh15Y+za1UHudTtPtk/RoG1Ne9LV19YWAhlHhU6eFYqnT+160gGdqydZzioRTBVoETMRWdWu2gGl3b8paos9jjwXV9+4VY2MbMwJh6Um1k7LftmzCtuUPhwqfDLTHNa2ZfyD2tDxWLWozchuwP3JnnZRDIqlQ1En1Glx87ch66++ne66iARwvDpvuvOjoIRMYPIS0RX6xCygEDzlyMQgllzd+zzQcsUm2dUMcfUEcV1RtP7f3q/ATtiGlJqIRdpvO50jUcc43CtmYz7SMRJichIFTWzOaochVJNISblbzJTOCz4D0sWyNzKq50qw4FrVIV1jl2ovvaxN2sdLTbJzPjhjC59RyuvysayEfT+deopzp6u0AAAAiUGfTEURPDf/AAADAAJLXoCGZtpASJjXQAHY39cvS0eLxzVzMMtb4JV1CXZhjY+5jjTbFDd2nZsunK/akPcScJMWO5SfKFN5wZBMg/Rdsad+5pPhRP7xxBLBI8TAh/0OAydXRhfMyR3tVr3FfSAeN4qUCpmm3GnwnxFe5kTOR/2Fw1DRxWH/tuSAAAAAZAGfa3RC/wAAAwABdBQ2nBUX3Ubk4ilRA7ZLYL+s4+f01gA4Kk/OSTUNtE2sg5fXZmdQ2hbz7AEjuuEo9f28zOhEjr28f1hTkmRvUJchfQOyGTipGnQ8AhBU/P8M9ljtfn/3IsEAAAA8AZ9takL/AAADAAPMl8PEcfMFmRgAc+ngSo6z9Z0LTofks10ZUDkifRtkqHbg8oRMkOHK5XqFuhMaPyApAAAAm0GbckmoQWiZTAh3//6plgAAAwABOQMQQGgVQD52DpTAs1NVXk/pxhsN3wGO+vD7D9Vn/xyjncNSEvdWNkhOiKBeoVdzjUX1hcNJJ+WCU88RosigrAOW+bCIXV04Qhn7htT/UxTN8NBQokf68ylD85pBcZ/TdZmhETO9ix5tHNs9D6ZddwVKlbpDkF//AxSVVpZrts9TkrAGxvF5AAAAd0GfkEURLDf/AAADAAJLkXq4c/FIFRO2rYJABtVnK3cz0P+/HWD7oW541/Iw6a9V5i+bzHYh8WM5RAko39g/hjpFRobdFD2WesXSZJA+RC79dQW8BEnzCKNLZ8tw5hTlfgvXC1kLbv/AQlQqLmNtvMB6Xd7v3BiAAAAAbgGfr3RC/wAAAwADy6t+9tcr5LnD1TwRpzMhCnpnR6wAB+mpid2DXqlY52e0hggcjz/1sIjyVF739RRZtlZzL5sf1dm0MvzZPxAPF2irwh7u1FIV+rA45EW6hqP8K5voTbNkC8sqVB6fwgKK30ScAAAAXwGfsWpC/wAAAwADzJfDx27/G2QAfiUz8DC9HLcnk0vawwpjfPhHLs9QdeLtTLFGk/SLFWa2GmZlHjBg5xlhyAp5bL7g4okLLkgJKquEtN/KbExp98rVWj97vH5V/lCxAAABKUGbtEmoQWyZTBRMO//+qZYAAAMAATnq3kKsCNIdAIPXeqcO1oKnAybZtzisFaX2jABfyFGSpQuQP2DsXmP/8l9NwDdEGJdyGM5r3jThNVv3mtpPG/olfOM6wACZ6KpWHKDj0hUiqFsXpOc4M5juxone5g3XY5akacBrsRa7DqFFWxsgfevmeEs//Nrs/HDvKbpg+gYaxz7Mf3DpY7KubLuPgzV2AFNM3wbx9dxj5k1SMYpSQdkC2N6fog/WZGMCDo2MS2aOCMl7F/nCIzT3i3kdfn/K7LLXGRpWK6WYqL51PP6V4Bq1dEWkALGlPn9ukMDDGQfGbbYdyHP8weK/cuwSM9pTtLZcqc97D4N6IwjERULVnMvvelLLZNPF6TCcmXjqGAAo+GXIsAAAAGsBn9NqQv8AAAMAA80RJHq8FCmgs4nS6qfrS/6XuAEyZ9uK+oUr99WoONFCfgzDIoSwxi/Nlmjoz+UqdQiu14kAo3Q7/8T6z/nrMtl9awjXAmYXHjt+2qVt5+6MJyKg5K1Ex1N09zD01/SQwAAAARlBm9VJ4QpSZTAh3/6plgAAAwABMereQ+JIPb2TkQy2iV++tQQAf0hiVyBAMRTAWyu31E3Eg4dYbYIa7T+V3y7GccGtu4KemzX1dahYAd8Xac+OiYSKO8Xh10Rx7d350lOoFCcrIZaNvkdLOF9d37WjdBzkxGwFYykIldUVqhd6kthVFvenK3G4osM7F23HUWzuo3bWN93Z5/+qaXEkeey63ZSBu+f2cRgB3/6NaLO1pHm+B/ASTTIvq6awLYT7oQDkwaqirUB0c0ML5lbEeFBwLcDFVLPJJv1/4Q8ajn1vmKIuoUkwFyuBO+M2xGR1AOuStn/7c/ZNuIEwfIiSksSoQtZekE1gXbbZpw2xC+uxHC/It/I5zIkGmQAAAPFBm/ZJ4Q6JlMCHf/6plgAAAwAAcccm8rVtkznY2EXsFlopA4V+oVgNCfvfylXNX3oRUi29IA4h9kCuo02tEtH//z4hystwtcs76twFJbDIWAbMFuVt4fA04ZJSp6ueGPfjssSFRk6lsI9XLX4kvOKuNNMMbNNZevSmdlSHcfwyezytPLVJozXLTAv3jdrM7eD7o4m6AbMeyGaKIxGNynYIe0md0D1Y9rfxt0MqptkdVqeiVhk25Wk9x09Oq1W+NDvcXz82SY5Lz6b82vx1cW/7l/QCxo8RHd/dQ+M0pOEdKbEnzQ4l0K8Eqgn2X78xe1SAAAABNUGaF0nhDyZTAh///qmWAAADAAByeL93QoFD/+ABD8qbNdMtbhDqYL84FUSFR/WP6RaZK2a2nFx6V+k9eC42NCe59UFaZpOHMiRIyvVuTNv+WquVAWqVf1yq5egeQsVjr7TCvbgtXvaQRKKNMJhhDnvya43EzzR//J/uW+fdkeeUfH0BxtbhReqlRl1avHTS5EOFDpj14nLM0Y+ymZ6dFs2oWqzA3IOMJJAuuy9YJ1s9YxIBQBRkbMbmOiOJ9GDYH3k1otB9l435x2Eu/y/RgXkSOrI0TaXVy4/nxTl021IxK341uWs4UwRufyEHhqNYEZb3QF1YlXlt6kRunmD2TCxzFQmajI3Q8w/ULbJFzQmsNsU0oWKxKJg31/sewlgrFskZCj35fN8Z3VQDBrqL0r1GcvfAQQAAAalBmjpJ4Q8mUwId//6plgAAAwAAb720C/i9V2QE8JbpR4tWj4u9w5VzorlZJ6OgVDodPpm8SuXtSoSdDCwYpWs0/hkE83/5Jm6dRnYtP8sCNtLEiGIB3tftAkoFnJa8QT+U0bSWILu0qoJ/v722rj8FsaFdjOnoWYbkkOyjx4tsm/pEzUh23h6jhe2hppqNP2oRVabMlN0arXsYCsEds2iIhgNEhnWqZoOd/zsFlqWke8lxUM81rCmUXJcwT0kUUdArlhTsZ/Hlz/mOKUw/Gyimy24eDn7+QwgNg6iJ19YZ0HG4mkifziJt/ODfzSBK5p9C0bxxpdIsb1cHprlBY4ctvNuma/XsjWU/2UQkJ03nOhZGPOCY8KPy9oxmvcAaawmmhIw6G3dS0aNAsSEQH8rbZF6o1kUYsR2ZEuZLf2ldl8CIBB8qwRh1XR8oCyDlBC42vl6iTF3OVHJeef7ZavgpBedDdks4KSBgoDkfiBysAgwPFhnb/zIVJ70p19YSv2M2tLNS1jgEShA+oe7B9mPiySvCKcOm7M9vaUytZ+QbYgjHrXoEuy049QAAALVBnlhFETwz/wAAAwAAYf4EEm0anS3AodmR3sEgAu6SCztK4IVOjC9DrB/HmjwTGKn8DtinaCO50QZ/HS03fNdLDoE5vqZLXTDIuPrco82MCytDqSJNdD10LmvfqVTrjK6ZV0fbibiM9Mh7NLn1l9GfEIew/xHtvCbqp5U4JV5KM37GWfEcDfqM1Aw4kgHNWP2mQzoYvn6htvZamBmyYc3k5cZgJO50O9ZVqYVKs1sLzm4mP/NjAAAAqAGeeWpC/wAAAwAAMkFUzqEc9FD2ed16AB2V86n++SxDd9OdAe5xih3Ysd3rkcCjgao4Bla2mJl64dAOlJSNjPCuZutGcAWrqqHLSORd/ElAiNIlIJbHZvMqfuhXRYBjFqTMr82Dp74PgtIOaYnOq/Ao8vRQvKfEH9vW/k2Yd07I2KBc2raDitQuU/RNViWcWEKxooiQkv3/bssWZu9MXh+9nD6oO2xI7QAAARBBmntJqEFomUwIf//+qZYAAAMAACl/DL4fLFC4jACO0iK2XB9zHrvlUzkidF1ofjmi8OFxXNYiT9/1dl4I2C6qh8WOZTR3NJUH3C6H6+3i/OvHeI2aDc1NoFgw10dr452WIDlVTS3CAA0LTgpDBKgQLd9t6j8MsvUIXfGsuvWnTP8TpprzGmA3beYfnI/PP6zvtd1sbDH8wEdbrCIJN175BhujH0UIcmoEyVzPdGWbAKia7o/DdkpTx6Ry/SuQj8vS3boHMiwttaa9Vt4BgUGrYV2mn6F0IsqwMaZEBWkKJ7ukA4HmFv8YIRcCJPMaJPYRf874dIaSud3pmIJ84YPMAuMB5HcPk7aA/CNSbbZiiAAAAWFBmp5J4QpSZTAh//6plgAAAwAAKF8K2uyv2QANwhkgJ8jcXCoTgeV5//QygD06chq1iJG+bB68WwIMO/njBxBdnNa+I3m1GIzG6ZW47J2pgrdFzPc3Ytj7bWwO3dBDcHu4rEkq6exbRC8e0m6/m3bXPas/6Sebt8gT7x2mE1BEoI/kBpAqKSJq1LlJM3EY14k5hPNeh4gw0Mu989rP8xw4AvnPn4SilUMJGG3J8QF50t4+tLWZoGNVpu3cYUPelL7bxCHiVbJuoEgRn5iV18B6nrrOH87+m/2a1WWCWefMMrCwilT1ktY+vfWePbWWltJ+EOCrYiNBHyc3oW1QLbVw+k2ugvBqYG+cEmz22d5exAG6LjUFabK0r1uq3nLQEt3bTZRdbWtKO2ufq2Q7lsNHkAyL1QBwahPAQEHzwQE/U6bdMswpFlfR/8K08HIlIOnSyXRCt+iXN3MZTx+//RYoBQAAALVBnrxFNEwz/wAAAwAAIrZY7DmIAG68NZ+IB3Gevg7s1qPXrcG/+zNhnxnXVGR7S6M+rI3lyDTO+56f3UUFaL3vjdJ7vqnTdDec4R3Dpfsy1sgkHC3Fn8nCpseiPbKprIabT4EW7BW047rqtd3fpDDhl5kfYQ097unMTc6hXOUxbAUcmtwzNSOZyyGSm4eUBGrh9B7ukDr87JI/eZpmAv8vDg0Qbi1NNwHwGBvatI5TohIBkUyBAAAAnQGe3WpC/wAAAwAAL8EylukMV9WWHvYqSRJ0ALcH+3CNuLIMgwT06XxeuhytPIL/7zwqkgNuwDCkV3aCggXxf24fag1CmNcYNNv8wTHcVFHuLW/EVYUaadPIz2hxekcLEo7EZP9BiCzQhx0i1D8/6ytmaI/YZRMyM83wgGCU7ZuD5o3QERoF03tuR2r8wcw2ZbaMi2WghSAT5yNvQ+AAAAFwQZrASahBaJlMFPD//qmWAAADAAAmPZ5VhzYiC+mpYLkDvgmaeNaiMHzPqHNAYXyuXpNjAWMS/a/qEV/w6D00RD0S3Y3j7YkPYSgd24r7eccvVUILT1Z/HSV3lwp0TVXHHlDUfOBTL7Rano5E87mkNdpvoQa9x7RXRIIP6tYyfoS0wo4lDJqxljfZf/e5Y4FCmzIBCCmsjatJxRBFj57znvwJ1zFQWNkc7CMYv+zQDKpq3gFy4p5oA8fo/TpwqDqq2B1jCNSCbPuUsD1BU+w86eV3bdR9XO4j4dD/Ywr45Ej8gDbv0avwDRQXo410ii5aAFou3YpWBsbMfxfq5dQnX6HAhF/qO+pCg0arI121OPwJFp9kNMcBrbcYaVEkVa+fXVISZBLo/Yl0V/a8mKKerPRE3ECrgWUIHJwPxo6bcNE5K1XY8rHvWRGPWImxkcYEH8PHwoKiU8RHLUKN23v8FtnKEk0X3lYRD+WNXORY5nAAAADJAZ7/akL/AAADAAAtZBrmI4/GV5OIg5ZAA2juFWo8H5Gm8FG1s3duuO+WGPCZoaqofCE9hbMWqvgv/6GqC5aFGlibPt8SCt3gjcYQO4CmLnDDBC6Kv+XxI4bGVw2FBgIUGfth/EZ2vbZcS42usVFhbktC9as9JnwxlDaqQnRCa11kiu9F50o7ILOp5ayeRnGLglSB5p4IQIg0E7+bZxVGBQNteBd3iU0hXkGrQa6PQ79m2QK1VoiTAWlRiJnseOPqV4TNzPpQhAHhAAABWUGa4knhClJlMFLDv/6plgAAAwAAXjhb5iMk0NABtVzC8uy/+xZ+0hRu3GNbfvuomRvhPmw8X7HNjMvBf7CeT9fAxL4GJSHWTy1Ic6rFiArj9DIplUCxquXCPXA8yE+QG3263Ox6u7LS16Ji6Om8aKFyNc4gNrhY3r4KNrFskzWzt1Z9JJnOIVPVT02LfOG1pPT2Jtc/tke7/P34sFlSUiMwYQdu4Aw9C4YfmbD3+NRQM9frMkqxJoARdfTmPLMaUlmivm6c6ZXfmuV7UkeAjPQi5A/nw/KZ+u5evIqn1mLXxBbNe7XttZJ2zfc7msrTZz15WrapSCo6WIyw2hbQj3mtA5viKwqjcwu5kFPvzu1kcY8OfYHxsF5cdddn7syg79X+SzavRDHqKY5Do5qEodgpYYoHnuVYwMypD/zpZrdn65QV5h2KrqheH4UhLTaGm1hgHoROPoQRwAAAAMwBnwFqQv8AAAMAAG6SOTJC5sAJq9JN3Erx7V/HXh64BlqsevQOzU/z+EtkUY2M8CvhDyXjs0HzFLqW6BDxp8L1ywKgt5h4ONCGS3jupJme/M+ArKTV4lbeIA2c/8BPBWmxbYo5Qi2jp6MgVKyVFN8bw9lbso61EOg6+NDpCx9F5elxVXU7/BvqFWdOovTKxFBsNCei067gNMh2ALWsQUYfWG6hxqBIhLvjVdvVzgZeUBv5pZMsTWpHdtksieTJRK3hequpCEaNLBY7CRUAAAGDQZsESeEOiZTBRMO//qmWAAADAADu4i5ow9wmgA/NVmkJORMZ1NvxnMcudO9dzxQjZowqTXjLoN3TPc+YftJavorUuglYusPGUSgsq0JNpdaoMOIJ9ViIkS+E5UQ+KlFvzLxMjjY73XBs5m3TvvDBoY3VUzh4EZdVAwC9ZVJk2xhIta9ip3ixVPWpgtzSBPrPg/c/44bR8J/BDEgWSEDqrXbjcxgp+G1BqBtZ/DSHryN69vEUOZZZ7R6V/TCOq9whUO0BRtJ7LlKNupiP3NPVHl54W+he+RZI7DttFK8Bmq+mBRERglNmFLBMuCAgYdE8u8BxqVOQjCbcN8ZrlYmbNMdXedViDtGFyUN5gcSk7J7Hx20dk0K1boFAwERc2RH1JnHDXTLoj2p2o9tc2/HF/gZ4hY65r4x/6UedP0+tF1knZwgYF4ez+jhO3L6FMybw/rHwMEvUqgfOSPuNvy9fbZJxODjzyK05mr2d1C5JOLuJEhfun/bVYFHfuDqxVWTo5nWAAAAAvQGfI2pC/wAAAwAC6TzG4wBJ6mzAAud8LTXF2PFWTJbfoCvT94A6q12A3N1CfBZMzraiyV2ssfuGLJritR7xOjPlK3uOmsNm2yyXzsVSv3n3ToId2Q6r+/yC219VCXM1HrTgbKPyyXf+ULeFwFdSgdXfANLJwGt4ulbjIH0AkgQiQPN2LYouVF6FeA4ggHqLNuebnREIm+bLvFCTNgth8TID0/8V/onKmep4hHt3cBMcxh4A/WQdhxPbO9o4gQAAASdBmyVJ4Q8mUwIf//6plgAAAwACcT8hDaNuAC02lnIFCDE1O9O+01T+Xx2it4o52wo+rc8DtH9v/nxitX4vVPzPd/DPnLzh6LWIdaOEgCayD+e80BJlkXCymdLv3QhYCd4K1y0t93hhwGy/9pMz/sV/rBo2DlNqcA+Lj9gilHX4dxrURQnTCwZ5ZP7f7Gyrl8MZ13vkcl7uRQQZ5gQOxyhEa3K5bd1+BWR1LHlcYzGuMJhv6j0x++KO8h3HlnN0VbicE1YG5/u8+i63N9sUjpuNciQAXCXl/AcCdC/wByVxHy1qdehh3JI3PrQOuI2PbR0rbhA02Xkb6jgab/U3KD9YtXdjdJOjQIgP69FzjZxSyH9tvO/pfEh/LMKd/RqO4Q86A+pe8USBAAABY0GbR0nhDyZTBRE8O//+qZYAAAMABlR4iCQk3DgAnb4aVxp582+N2OcAsLUUeQ4EYhCdUANKlr5NiZWvErKW/5CCgqSbe3OL58i4dTZk4v4du8uIrTRdRBhgqY49YlQr/q0Ywagw0AJ0LqOK4xX8adQwVE0aUs/livStQfUnJR/N1ShF1RQG+rRqxLBvTPlr9kuIZhVfUX/HSYYWC3qbbeSyRRZz+ZTgRHs0yTe/IrZcYf0yYXzQAuF42NorQ8Pz7j8HTkGad+uPAY/hS3heDkhuXeIxIoDskQTr+VcEwT2KLdxVqdieI8j4MX5TTFmkpk1QMnJu/0CFCQYuH8jrJkX8dvyXz9t058VVZfNH4+3XI6J7YKDpCceLvOaZEB1FztagAtgzAbWSEbPeIkFKuyYMabLVduOKz1qnifmMtf/J6iy2Gi2w7XBBm9Ggs6BEZWt/J+JdPRneoqVxJ3K0mZbaiq8AAACwAZ9makL/AAADAAdpvkeW+0ONRZxXjfTXzHaxv4umuiKsLs0AILkUn/y9WiuecxQ70Ll8c5nhv7fOAh4JkCnIs7AyLcA2a6AShQXCO+HytXd5uBxFpF1pbFoBg5jiGodLA/o09nu9OUfx7vlw4AM0y1YEVdikCMXEdIBZ/aUWMiTUMI49+PWfXhN3e83vZOR1bNHoHZf2wAD5JrkXDT+RMKF7N0gXrI1EU2A3uJTuqEEAAAEmQZtpSeEPJlMFPDv//qmWAAADACqcLfNEGGABtkEpWmiAdpMCS/K4VH5RQ0UNKr3SEH9YLImvMRVXOxX1lkFv7huPsB8PscZmZJgss8/B4zog4WLLg8/c+g46tudEwxTCXg4Cbo77U0JuJBXbNA0f0FhmRPwhnHPIw+LG2V/cbplZKQj3KsRqPVzd15Eks4r6Kzpntja2R13wS+/oAkEpd/2skFTMCTm5WRmVfRKby0QrM24cbSltcyFi1h8ilkPPR6C/jHqpo9WRpqNeH1jWmQOkl5IFq4YV/Zc3t7GRZQNtTfYpwpaNavFaZwr0PlVkzFLEUsQhh3YYVPXzR2wRij4PnZV1NjYeV2ApLCDZzVCbPB9hipW0MoNIQO6sYBgpdOjHcGNMAAAAhAGfiGpC/wAAAwAzimQ60R9zQcewARA/eCwbsm1kbtV1fzlwySWi1431NEH6aPq0XSh6C1OxT3MH3eGwYlJVrnxCSNsADSAKUa+9pjVgAY7f34VLps6etBiesVB2qEmCHzBsvo0m4gztn5yh5E7ohL8QCtzt2M+Zoyuam2r84LjgHSq7QAAAATRBm4tJ4Q8mUwU8O//+qZYAAAMAbyCtsimniAEetnHbDlunyhBlCxHvhUrYAGgnwCQA6BPTtsQ1CC68xhWZix/9ib4+9yO30jPfcBHrBbDBvEt1/K03myxq//lIE5a5OY2w9QstIatuSw18i34oFW9D5U5DMLmOHQkmknf+n71WGhBrIz+pZz7AX5+qkCmBEqVBq+4TyikZvCByqn8g5NtvXR4pKLOU/ig7AAVJ19iaCXKsQl8VY9+wfnJPaU+6ussV5gaL/lXsqAjrUX5tFC6ppFfY/T4WKv2weJajc5OPFoMfyfX1pcVAZyoQLFDwAVxNcqXd+fESeXzAjj7B6C/siV2/0m4zQ4USIwB0n+FIZfN8TVyXfvyG7Bln3ic7SKVnLaKFAX0vHDwLCPnjC8r7BgHl7QAAAIIBn6pqQv8AAAMAgucdUeJpEnN2ATL1OuEABCLbrx6hjc79LCRNZH4odIhtkRPvH6QB4LjTDBSLFO32NTaSyvo/ZvgOViK0GhDvG1Kku+RPuh3lEQwM9BNMpZwkFYeUVH9MQ7ugApYuOdSwv/DlvoqR8S424xh+zOEVOftiDbzFnk9AAAAA6EGbrEnhDyZTAh3//qmWAAADAG+FZz/K/lAG4Cs2m3C7z7S84gFMZ01AT6Hz4KmJ40p41M7w3PVHmavs712nmqFReqaO9g56HJ4c1j+gMuS+EbaTwKG+psIHE72EUE+juT950hNY/2EBipQzlPhqYiwTHd47Y7HR6VdBBT1awft5PQH7y8z78rbQHRbGZepi4e3Tr3ON9bAdG6Dutf+p/AthkAPFqnoa4yL3AifAqJXfQ9+MZTKXV7SKAqOnvXD0rmKXv3efDGx312QAIFSY4CI/SbVocPQVrSDqVHDnkkgziZ6rJadK6YAAAAD0QZvNSeEPJlMCHf/+qZYAAAMBIWIMgx+poAb86mwhb734dFM6q5gYpJueqdP3wJJjnL4GreN11ExQVayq2/YKWv8hbw7oJ9jr+YC93vkkHwFyLDVxZFHtu1hkc/9jibbQFvfOO/0LGIC7Ncho0Y3SekYbaL4zB93GlqR+hj6utMIIfG0cUYQ2kcXYlWBvdDvQVi38mFjbTHJvUJWc6CegOlCeSjKNVM2WOcm3vA1KZZYk1pEjDJclcdMnvI77kabLHmfASMu2yZrUX9h9n3QF2p3tMCqkjJtmrb9czWWSAkN+LD8jX7BLfc+lnOvVKEER+LWnKQAAAOFBm+5J4Q8mUwId//6plgAAAwLuoWV10KbDWygBYangJAOfpGXcJqmsPVPYXV0/TU8JOHkOIAjzZo11kqHRE7v9ZPHb7YkMzV2pcNfh4q0VtGs/8u/oLjIqfV/O/K2ahCd6kPd2tFYf5Kiuq3zbW9G6MxP50l3AJicAWXqttw0jOURnLxpI9k0MLRs9lMb4s0bDPzypPt1oumf71bvAWeGsh5B3oVHkrjFJ6otuKYKK6UUX8MzSjqMxVUIbCWisfY347b7k63tYZ/X1A/EPu5R+YZs6t/pUSnUovmZ/IqEDNcEAAACqQZoPSeEPJlMCH//+qZYAAAMC7bhD6vBwACGzlPDrOPicfqfoXW2Sx49hW/qL8bPCsXf9Jv4h6WBgXMcWKIm9IqJn1+aLoRVmLrEe2VfwN7rzdpGOgllX4v2F/IwTIGWdshURoll6MXfGBl6TTJ2EmsfOSz6baJaSW+KRQlJVyEG1js89dxiwLVmAL0E7IHCzIknTjVFDOx/9ik2WyPilBhetPFOiAMnSgScAAADlQZoxSeEPJlMFETw///6plgAAB3SYRfNJvQAXQrlTQ4QHkLaOkqYoJ8lkjx/+Jm8uJn8nkpSFznd9L0ikdmJo2tmEwLHIzXI2N4m1jd10WvPMPM3HFVgUrFz+hD3j8krTZ2+8VSu5/k213Fd15PmAnL2usLIjJ+trjmHkkPuNR1UBqd8ZO2LxtM+OtNRSGSs/YSuP3lqlpwTFZVYBzadj0PToVYuB0h0Yh4LxZIIWQCroCfu2luE2bPQRQXrp+F/myuXHO41hz9ybsOkLbgsYt6mP/1CQinrgZ/rPG7oxYli8i8gRsAAAAGABnlBqQv8AAAjuc/n9lqkOhFdNQ2QB8L4PldAAuZ2BmcFXUTWwWm+HMEb6wKzc1jUki85AwpUHWfv8eCgQmMVWyYCHFfBYtYD/14++q6w4s/O6udWT+0PPzvTrdFSErbQAAAC3QZpTSeEPJlMFPD///qmWAAAHdJVK3ZvQAOvI7STglIB3ruOp7OOmz2GsP3ygcrlryfQ/2/n4qQqT7Hx8MlwITT8n7V5+6P+e1Uiy26Rq/kP/jnVv0W5ds6HAKlL/LyCJsckX1dp9erBd3pvXjSyNNwVha/6eQrykCJ/z802xSVyje75YFp+8dftVqePC3xUXU+uko258yhfehaChJ0BekzZ+6OqYfgw2l4DzSUl+M6V95o4TwA+ZAAAAVwGecmpC/wAACS5w/Y/v+zq3IZ0IlgDCActZLQARBfkJomJDbe3fj5gHCpxgyBBXZ3E6lSXazxFTz1Opmz/ryq85LnSCszlkUCEUJRHfW0UhKWvWQ8wGQAAAAFdBmndJ4Q8mUwId//6plgAAB3Rwvx6E3PPFXjRXaSvAAbVPDgOeKxxkRaF6p9aGGmunh2FQ7vpEJ5cZAujTUdltQ9mQM2g4iXqBJTnH5Cmy6jyXWtVhAk4AAABhQZ6VRRE8N/8AAAWKYBJ1WBMapABzZ9GZy5BdrYFhx07fLMTZX7PN/XiHYiDhGArH/3ErokOXXlP6FOXKBqACvxC8Twd1Jg2Kobo2bpSe0eOtzoNbiEHa/zVkaUDCiv38gQAAAFQBnrR0Qv8AAAksVdr6NmO+aL1R19gvLEerlQASfc9D52g7WFP+zdpRrsjBjkb/XlS/qXgk+cUzE13pTwmo8LoC+whwJTrLTfmQat/z7/8vqeN4CbgAAABmAZ62akL/AAAJLnBD0Oich5HPpdxzfvj3OI+rUG6x137Nghek1gBACp7b0wVhVPFedSSqR/3uxU5oMOAp3GWwvItRp9hI2DwipARIaE2kOqS6hdiJeRIYhmpr1FYMZXb86cTxIKaBAAAAuEGauEmoQWiZTAh3//6plgAAB3+L9G3O2rM75jnDIqtAvpudwQAthIYcnc/xYbUOmw7UrN+LR0xw+s1CW8fSRIlKAZNCtqSS2iIfZfDEJpK+IbHGdj8vDIGpgwzj1cYyjSYRTEp0lxYR3mylBz3GLqnN4tTk6ZS1dFQVokCMFpWHJy99SI5KKNCm6TQmzXW2X4tyhabkDE5ez+Mn/pf9n7CGu4DFUdXwvOGwVLjtc/ANQVk6A1jAK2EAAAFCQZraSeEKUmUwURLDv/6plgAAAwLx8A0H8KthMPG7wURACdvPyRJz2lvUGMUnlhSHqzRbFKxWwcpf1Wef6r8ebzzyUAcsevNflD4xttoA0XK7/j2e7Lz7oExV6cjDJ69p5/haMTw/BuN91QOhoAMi1O9i+uSpuoFLhSHDyaNtyViGoHzn4bGm3D/SfBQLDj5diyrtKNUOtylx1ar6Js4/qsD2huL550cnK8drwLzNlFbhrrmgIpgeoIud5f7Ngk6Mbdb0APaHXS7sylAvRyVHnQDoLNfJqxFkXysMHbUY46hmo3jcvTz2iD25L2kLSw0j03UbFC/HXcBaGgi0eMZk5hVXn/4QR+xKm4GafNVJRCMwIsMwQ45vY0MOYifx+RUnXBHOu/xCnnimwkY3CYpnRRWhPpFqFp39p6JBt0f5gUB4oAAAAHwBnvlqQv8AAAMDdJDSULuAABLmdBf2jrQYSAhBzZnetxt8itvbwpEAI4PACIRrL3/smhdzZsKW51lTYTvOWEGsHiw0n4/FSrv6NG2g4qdpxPS0m1j5xXEWvCXRQsdqMSDIYs34bTN3dKrTiR4fhLgGPZfSeFfwja331QKBAAAA0UGa+0nhDomUwId//qmWAAADASH5KNB/oTBynphUXrsTXg/gTm95iClKF5lRBM1WJicup6Ubt9eg7wit3Fq7Ptrp3VIXCJn+Ue2vRhCfMzXjXC3Z4ScATT2IZAWvUV0TpbVUmGBpipdxA1RXrM9opkXL+Q83Dl9mpzOdPGitreN3k+yaA2LHqwkofP//MLnfFYDwp0sVwxz11FPLiUjJrcAfKpw6oskes4zlkrtizHKYlAoBPW+l3Ud3wusaOp/rDSIrNpermb45ioyWgIe97qgoAAAA50GbHEnhDyZTAh3//qmWAAADAG8g8QsIYQBwHMERFoARco/VmUcaxvoYMPPpxKfD+2EpgkBAfXKnR5J19bQFJ3xog4/LHGkvTL3hq5mchqWxVvg0/swwrCxvY2FZetJmn/OAG/oR1ebpPsBHkld+tI15YCy91857CQwsZnG/4UUwK6x4OXAcdCQBZZULEKRHHDOcCl/DKTV4nxoQhAt7E8AUF9KirDjE4VRjxtjO26b40zrjTcgt7tsmJS1yTVHySEa/u3fWM+CJ0ZtcfTt9+ENPqs45EKtTLkUtuk5KD6GjBWtfYXgwIQAAAQBBmz1J4Q8mUwIf//6plgAAAwBvvdKOaJEtdv3RyAAXSIU3xXLgnqyenF7yGz9alTJ5KyVeyTJ/Br83ATJ2sGGcNo2B0zgkSt/ea4/F27vFP2UnxRWygxsEEx+4F7ghFqi9V0jLiv5YvO4Xs6vpAnDSgCo/N128cc6KzgUJlGzTtAN/Imh0xw5yp6kNrvaeXwIBG4uw1inczuWxi0sUYMqH5S26Pr3EoaxrWR3Ne/nteM6xZuTtJZyk04Sf/Lu82DG3Okr7xwDbReTPJHs1ZnC32pcZdpssD2ljB0hQft79FuVF/nn8UivW0q7uE8xMIYetBxfxIPZjab14gB2D94W1AAAA9EGbXknhDyZTAh///qmWAAADACqfCtrxVXZVxCN39AhkEo/ner5QtABS2vTQkLhHjDL58tXUI3F0qvNseENcGkp/6KHfhBC08Jw0dQQsuM0ewWrxbCBNGN59X0RkSeN1DOfHDPriWVSA/o1QvOH1CYxGTyD/fWA9wzylE1n9tFKxvTbTf1tnQkYpp/FxPgD32g5S0MFAHA7F41ja8XX2iQ1EckvX/LC8dTO5/FXUrpmC9jW0AjRKqGFZWqHMg/67M2njpy7BPtL942XiOwFDzMv3DHGOpGKVx0Uqvai6A97V/5791Jzq2XkFe16Gt0C2/DkvBDwAAAHMQZtiSeEPJlMCH//+qZYAAAMAEB+8gBPp/vqkJonTGX6JUbATXui/H4NeuYHL9HFJzcOYCAzuJcdMMtDWBaJRY7/8K/EVN7eOTUIn7GtBXYjPLqfUJpSqkXuJ2CqWcQYbaV/BPpJj/H8HG6qfaBLIEnopjj2s0gaxN/5tu+u34oRYaePn0MrcErxo8SdJfrk399eNBF2h61TPSw4vJnvC4Cb5OwGQLK8K1vXTafPZhO0xgfOTb5hFjlx9GJ/6hdOoaE1T1MAR8QOtiD3Szgsmr6n6zW+bgHXdSQ4X8kakL2cgYXrsPnUhecS8flrh7sWwS5q7LhRJYmYfHxshu+YeuR4mJVRW9BVDbsJAfJJXO7rX53991zBHWTLDwcNj2EYmBs5vwNw3vZUgsSHmOyAfhVjFgXies7zkpscehwf3Lnvy+IDWROwRpQd/dvDzmoow09fOBEEdWVj2tR6VZ3pU0gOhTEQCXgJSJHIwx17Xnap3bzpgwMMwI4RwSWXx5nAbYRmuGRqIuKGJqjn8n6ZH+Tl1kH4f+Cxwmhsg/IbH+Was4gDXT1yG3+Nqt9y72RvirKYBZUKEw4fJty4pzyr1qbtc4h+3FQqq6ZANgAAAAS1Bn4BFETw3/wAAAwAeFVRtqkY2dL3Mh48WpSEDAgiiUuUABNkgs9iwnDWIXJYJxn0pWOLrWnPdXOSonQkUD0F258auHOFPjRUmSp6VcZeOZLycwJ3vidKybKUrzvmcH7FBn+gtBeWHdcZhE8amV3LpGjC9W7M+1W7FrgXLwPMbJgN87OvuFW9dFTp3eMyMoo0FdmC23hBCKE0UM0tWEPqiVaisk++YyoEUqmjuKwaSAMFkrFhaweNWCNAPpbsODRiU9HYhNGb06Is6KQCN4NRBuHRi0k683YH/MeOEfHFSwZ/gEGlzD8p5bzc37bClJTE1Nw+qwo2e6cm149/Zl+I8cFuRypKh5a4JSz1Yso6gNsCaY6EkgdkznQu7ldTWoBiMndLGERs2cKt9Fx4JAAAAmgGfv3RC/wAAAwAzff6fRyjlD1n6dtCY7zUABD8joNiG+fhtiEcnc87XdsgS8iorR0ztLrrV+kquIlEMY3vsa3675z1noJCSQ2A9KvI7FwW+sj8QgUp8DS18NKHFD/H6FW61an4sW8Ul5PjRPTxGI4j8Nu7Y1YnAtJtLtmCKj5JLXc/uSNm/7KQPBxcqv9nNCOJr77TKomaNPy8AAADLAZ+hakL/AAADADOKcqE7kddcGsiv/rOoIDABDiY1rxvnoXrPYpb7mLEo2Ldwum0nul66tDmI/cEfBvtXwsQQraqn89FXSOBd3CZ/0efoPxuessoCeZL31my8XeZ4DQ2kMeTHH+amdU5HvBFCGU8hmkj/iVOfRkh/Hk6mvMvWvO+32sIgUv03WXC64pGGQ0fknmcauRkQvVsaJIkOFhUH3x84tzIBQ/JpK1mn4o5qVYUtRYM+/qwkO3sZUHpBOMotNgls7lQNOYrfv3EAAAEfQZumSahBaJlMCHf//qmWAAADAADv+2gXwVa1mhAPQE8qSjWHkIS/7tUv78kaAAHQgBfd/GIOz4S6D9OIo2g0fW4HNEt/rEev36jW8c1H/QJx8CJTC+Yf8MaMwUZPULat7EDpgDEIF/K13p+IVoOFZ+qrO479/vPIq4C4mrmClZ3lX5pyIQYla4Sow9sJ3qMy4lKte6SgpCZPOkLlKOjs9KQY8b5GEnuXUzNP6nClbqJr0c3mRvgdkf/+JuP0s7JDT6HIg0Z5554UrE9zDLHCK3tfNXn81X5IQizaT4DvatfxGbvSk9xXHUYDEvTBNEQgy/UlT8lnMZYaLaAYjmWdxt4X95FXmaAEtUSM1h7V8O79a/chWBNk1hNcj/6qCMAAAAE8QZ/ERREsN/8AAAMAHmUqo5g5ZxJ46yRBu9TIqdkMkHX5s4BY6FXTpABzZ2LLWc2CCCr6kfW2/jKmUD2F0U7NqS2IL2+mvkg/kTKF1bilzV02i5Lq62KwQ+n/WnIwPujgX3/c6oblvd7+QYn5shduFUdbKb7/ZQNFzvrTWed7ElheIRXu+Fqiq7xHlBJMqMOTyRBJDxTDvY+ZdPsYuGLGS3nGq+2r5VtXURLkKY71HfO0CfS6S/Hq6lVhVdnYxYSbroDIijr/lT1GWSMbprBymXhH7TAWvXqtHT3SGoQNDXkD62Ktlb+fy9RqTsEo3/b/RWS9g9gtlfpBaZBXWab0NgnLeN/eDD9PM+GnlRvMvykZJn84acJ8am1P1Ww0MyZedymo+HHKVnY0bJBby1d4Oo/+Uv5u98MHCOHQgQAAAOQBn+N0Qv8AAAMAM33+n0wSdSsSCimp8n+orX9cVeAEKLkWB4EMqnlqoMystsbH9J5+polKkkJHwaC/grC/V3jAS7FsaS0a+qMLLWoMFd7VXCLE9Y7CUkgFlHvZcdwvYkeAlr5EhPunPoxcwFTDkJaXQ6J72ZJZVtRXbfujPUmEOEG746IRHTcALvUOxy3zXsh69JEO4WtIOFDbu+xk4iVcPhp1i7MFD/IMA8OtPdK2L7n27PMO6aAYHS3+9Q8thWV36ZBvFNxHSfTWYF3uGXBqeeJTfRKPWqS5kxKsTIZLX34itkEAAADiAZ/lakL/AAADADOKcqE7jCIs73DLuxcActMOJm5evwA5+wlr2jsHqeCrx31X3TCPZe05Q15rIQK+GpBIFrwebJzK0FxdCYtBB8cjgRKRyuu3FGTeEwsDpUjo5Ahe1FLk6KJZM6iyjsKDp5TmQvwPwjf6KCCzmsTfEEH3ZIN2saHGNWX08n20+kTPEy5jYRsB0IbC7I6Fk0UTBdtmEcpozgAH1aSWaxCFjcnouTe/pICc09KdKuuQxP4t4zqZ6styNJ0V67rb+0NkW2riq42xyg0K/sVrh/V+1uEDO369mJd1LwAAAX5Bm+hJqEFsmUwUTDv//qmWAAADAAApNJLeHTDzwVmicofw6AB2klw3jD1bwoDEPjcIRSqOU51UBvIOCQt0j4AjM+3BI+NMdhA3XrFB/vF4yR1fSBDGsK4Ky0134Cgfx2Z3/KINmDo43f74MWqSnOOhlVyErhiMcs5Ji0V+tJQe2ITSJWDBZbtGWiwPgKR0nSTfniw4zT430SY2AsRGLN4ZfvxDVywGef5Qhpp9TYyaITi3kfoeeQSrnbcbYmVMMEYA4v9PahUGUZWbzNhX4m900CiuFIKN1Yd1AIz2vOjeS2U6EPzn6i/Ni5hjbUQ96/0UGGNiYKupEJgaCm9C5qPVm+GnThN2Abrl+GtFOESS/87/i8y7NQy1XPL74NVqfF2ikxGmYXB8/1RMCVWwQIxca6iUPaLw9B1MIIHf+lv08IwAUUZ4J7RP/3A2Gz6V8ysY0Dxe7Ty/wOsfdZYlxaZDDUJmaoyAPHqcj/S2Ue7rJY91iBx4iCqOrS9UzCGhAAAA1AGeB2pC/wAAAwAzkRf5mjFyghuCaPilRCdXjmFBqwAhFSUs2XIMBmlaaAPTnwR5SNqVjwVFDJMulOiGeUej4PegG7vPH3dV9up/qQ7i+r5C4TjShLxkbMGEXaJSF8Wr/X+rKuCui5IaMTRM4s+ol+DXBsvhk/uMMoeII5HOnWl7a+Kl2yNuQohywp2kYkcMS5iAeD+vYrqcZDrvyJn9IpR2MGQBGbHQyC12FMNWnJKNNfy8+qnf6FUiLjIfpCZiTXfb9QGI9OEC4lysv+CVZBvWhldwAAABVUGaCUnhClJlMCHf/qmWAAADAABvdXuL0lyNUwAg9ICLkZ5JSZpbB8kM340AVYncCwsEOEvBZWCOEojgcP3zGnXpG7PRkwcq9pfTc3A7xSxKi8WIO/+4gp7qjpxkfi/jwT1V1pMhGCTF7JLBvOgECDD0275hQ8Xfw4l+FmTGLYTCJsQ/OwM8m9kltqZz+biyJNUIyzIDOL1Ki8pxkLOZY4zKhbKApDP1iHFolylewtwtlTubgpIDx1vRElPrBS+yFQY5CPj/ibltolugTHmCmUQlTAvwcFRkithYrKF0IdCVTmifHVq8qGhcEp98ELlkxEOUwEavAS6+BfUjDeaQim8c8lYsRKyFo3HyWt3I+tS9sdY8RO07nLzbTHQxD/gKgSKNrDLQVk86QR8h/kc4xBoWEq+/25ICH06sDpnLCtANjJTlKT3NhPbbFahkpOXkRb82vjm+AAABV0GaKknhDomUwId//qmWAAADAAEwKNXMoDDADdUIY3u7BQ4ZDpiKoor6I2QW6y5fCM/M0JWgklX27wrkRZdOa2eNVe6H1/FaVi4dydigVcRdNj9mFVesWwHVjVFLdOX4vBbw0NjhpiWTV2Jm3BGO07jHT6JkyIkmICYGG6737OC7i2VAawfZtJxRdWrxWdIPbpTyq4R50CDoFyb+KfWxy4SwEFwuAxvfHXeyOytArpz3Ib0sUK42+uOuUDMKSZv21eAVjcsCjphS3lWer9OMQE/0IxWKsmRPSOq+Lqg5z4rL0CNqUDeC25H/Vjkb9NMmEi96LKehBG8GXjKCU4B0h+JpXFU/2Il/mNsRNe5scknc6Gmqg+M4bNU8/R5kBWNG/bOwt945E71Ro/qCeqPHTSdFlkJLq4fWVcFd+hus0WYCwMzfvepIyzNwPW5nIBZ+CzODPfLC0YEAAAFtQZpLSeEPJlMCHf/+qZYAAAMAAz0FcXyvsQAWv8CuRH4+4Mxd5R7qDO96XPvGZi30cGR4c3ML9fGf0w1OLg4YVDpE2k+buJ/GdMxK/MnvccTmWNJyVVpV52AA5X4pGyFVTHrawxS8YOaBpHvXBaMSW0kxTYLb+gWwOEtmhcHdrnkNgzry2FY+4kshMbb4wI2PrQ2fxyJnaFt0WNzqnqtq/GMb96peo3XLItb0qI8FbSI14vWajwrwg5SBAtANXhBNIJmpmAegIS5jBi83EVHzJe7IxuYGlNPW8Fw75wN1EhAN5wHZAJuqWAqrUJ/50mJ/U1NimIdvDz2/SHyAwQQKJW7r+A7yFSDO7E3cEf4hAA5fjs6L+H/Z2u6qIPgdiY/2pSKXF9PsJKyXdyRpxV6PyqU10azzitIzGHl148Nhuczwtu6QWRQgqD5jc74k0MXCP9gA5d5Q7js06OVWnalhzuJO/P1x7406WlQ8ClgAAAFrQZpsSeEPJlMCHf/+qZYAAAMACMT95W8FAKAC6NNnYrXcvakCxZw/aD/fzOchndmpS8Vi7mobhOh5zJXEpnoy1IJ4SSGj8IsPkcsKwTbW3RhXCCo9+RLvgIiVc0nN4nuVnUmXitOeZFk5+tgZP3TNMdwF5CzG5l17rUBdkPXdWzwAFaAGSsDSn6jjqm4XyUb0PvuAyb0QZuQLkkSwKJE3oXx0jt43Wk+KUoC45vyu4f5ZGp19xxFmuVLMFAEvB2A9Jz9bbEyo7SFOoe92vxJnOXl3oddVufSqWJcKGAS+6qukA8bptEDeZXPwGJhiOFyVOMqZIfFusUaOsYkhbSxtteub04Ge9Nb3YYvYQpI0M6+iugj+oF6oUdIucc7VCGi47zDsTJeH+3r08R+lVlqZsJvCrBALyCR6eL1uTI/8fsLgvTjOZrguce+hYyRk5B915k6Bw50FI28ae4KFyBYpL3eoojHMW7VNf9SAAAABEkGajUnhDyZTAh3//qmWAAADABgILEgpOcMAJq955I/uujLbrU8zigqXqM7yZyOCm/052WFVxG8rQn56c1E1Cn9kHDzhNSYqUVvVO4WKDQ+YcLY951RH+BXdfKL3q+7g5884kbqCriAHvwY+Xy253YXhEgRrUys3so6fxopBgcQ2imrlK2clSOXXlr/XHsFIP1sCCxEpD0sFHoGjM9ZDlZsGUj7YonINY4yimHzchFn5tkIM3dzccOD6MnfGR93v/xw3abPcytd1nA1x8+NjUQifixMXF5D5LFmfZlIImtTiMtJhQ755ksdldP39AgDb+endsC740Dc9+CzIYsjG0t46yK6/QQW/o9XksiGhdVMrtoEAAAE0QZquSeEPJlMCG//+p4QAAAMAfu3BxaXUVFzWpwAbSwKJGU151g8OkqIy1yvzxeTfKp8DfQ+SG4pgoghrFvg25Odnsq4WQOeeiuArzmTT56CoDMHxo9saYiiJtYVoy6/HTcPldWm4HHZM2nCcA7qXhQJllotgWOlSIAY7rl7fMhnZ6rfDKSkhRpZLqMK7AI9CHNuB9ua+9EpPKxKNSj829Pga0EB4SU7MgSentH7Y7IXCqnVkpAupRzbC9sBL19uN3MV622RcbKuYHglYmm2aA7PpJWdowKk0zWzrbPn0Ea8umpsjzkcFHW1K1VplnP5XxVh8OPqlcccQPh9BNKzVgTvsH7wjUEwsOFhL2ze90BZqqaYpgwUnrYY+iYkRc44NVePjwc5B0htRX2JRgrulKsSVaDkAAAD3QZrPSeEPJlMCG//+p4QAAAMBYqZAeax8nIzXG6ABDh+uK/WEl6lRnHQ6YOZTi2cC/IS54aL9mdI3v2IY0xhB1HUD/hr8st3E50DfNa7g9IYpE0ioRFR//4krbfoO7nSyc2qtdRohP1P5U3OMw8ZmU5NzSaxLSIZim3ilb+P4hVqyoeriPSu5jpwWh+A+BCn+eUKGVPUvxDv/P8o7Gq1M9S5MhsMeC8rztpXg6IR9nW+C4M2+WPRhPwJeAFaLIYQOB0FJOqMJgwz7nlYLdwx2aQc/ZlTw3vIH+SzeSitusByC0YDlGmwjv6N41DIPBG4ZgBUrevy2gQAAANFBmvBJ4Q8mUwIb//6nhAAACf7++BqEkqEZyve4+WQif1UCvn5O71zJoWEwQQwP8erCRqyc+QF+QVKNpJ1SqE3I7QfCZJ58F2ca5tXxXPAAvRggLdW1Clg9m6rt53SkPbIu4i2R3SHw56/OrBrF8KBcNGB5AHo0eCZCpHvxf8gAK9e+/lnKF8l8B5erq0C4dE77dJXFpchjYWhhuVxELNO0iMKAVxVdYvwJKBi4x30m4fnQ36k1RhoYsFM9jLX2bnpN8KBq+I+ouveG7D8d4H6FJAAAAOJBmxFJ4Q8mUwIX//6MsAAAakUPoulcuHgPQAr11NxDVwf9W5P+bcAIsYFxwRpfDw7v2IqwZPlCZu86yFiARebkmTjmDleRFM6dCTdXUPGpiSFHnoUX1HUB6g0K5mxdJLWIR2fRNAACZd7FskEFt5hMemcAdgunxf72a+l6d/oNm75Jf65Ue1+sS09DS/TNuTv5naKqdQeD2vnpodn/Dwz8XaHgCK2apsheLAxoFxniSHMH/2O49wG7wFDdRb1RgpnoNeF9t86jqAXQFeD01cMoquBiAC2ILI/8E95voNjvsB6QAAABGEGbM0nhDyZTBRE8L//+jLAAAxS1OU3elAmAFhTJBwLvEXQPPJ2bouFdTk5GlT2ctHWoJ455loHVDPbwHL3derat0Abglq5bY3Q0R7aHevcbhVdTKGCx9x2sZnG9mXoVe/XDNtBBd7KzPDcOh9IWc3mzgMXU5clg9TVtgdfn6X3FN/MhHKUgBCFlxwedFoZjLN5NvAJzCj+iuU4hOxzAyxs5Cs8xCzXiM3yu7qp2UvjnOLc2b2KhG9rtBPLcuBdDhUquw0cXKlFOZFrHU868EursfMBlixKLyAM7Hcc7MOCgnuAksOae/9zp+WmvB6BaQGHaroPs0pxDF28+uVZVta7exVuP+IrEMUQHnr+9I37tk/eJxQAFE38AAABjAZ9SakL/AAB21fFWNwJdlrrQ+QlxsNGtlKaANkAGpdJ1TqA/OKkpcK1qRPBzArYUZyvOgrzL3eNNh/ef/yIzVjsw51OfDCFgTgkAdJ2HDfDynPfE5YMZeL2JyV66z8HsLzPgAAAA40GbVUnhDyZTBTwz//6eEAAH6qy0QgQlHlN+wvAzWrgA7nSwEMYHgMHIsUpkBJa3+zleZwXA2Gae6IbjRjkdhIc9ASIsBqQiD/1I86l3k3mS3d4HqxALtE8g7dDPO6+D6n8YtFydPFqBX9qsbqjBODJqGwUNXNeTRXg8lllIuAV1PZ4vLfcd/qWRKUUxOxpThfGhnggy8avUgK9CVhVD3TPNkQGGuM8S8qHr86srxJAkreWU8pzaF46mEBr8CgBFFInRtKyjNk2V5K1HOWFiP5GrpR8AFx31gNFev/uaPxxEUAE3AAAAbwGfdGpC/wABPZasR2g49Qc3HACFIZ3Q4LBoHpkhjLjI9kqGr8x4vy/oIysRJ2FN/hQbr18uAjkmtS9itAmtAoQ40XYlk7px9tbpfXM3l5iwJtQzNlc8+3KUhnr9nCccI3tg1xIg2VOKNEPox6uAZQAAANpBm3hJ4Q8mUwIX//6MsAAIClH5DxLWtYAW3LF/t6jkTaQcGWPL0GbImSk6xwCYSt9rKm01cONRLWxPUleKGXEfjrre6vDN5bgmXCds5uFCBqvh/WUay7+8FbmT9g5/xB6C44ZhyMfU5tm7KJgcvf/dR0IvHto8LPgu0kdX3XS5x9CAcAq1+LxcCy37l4+84PqBQ+Cach1BzXWvkqdZVKKtmtAA1RHxd41ooj+qZKydgN3sz9HFK9R3bTB6Xnmpn9Ah3/rGopii+BEH5IKHq94wgaabxgZRcQAFnAAAAFJBn5ZFETwz/wACazNOc5NySZt8ADN64VQmjARHT2hlna1+Zd6JmV7sHiDM3699rmTW7HvwLoxbhsQIr+SuLa04z915VGglVeKcGH2k/vAZk/OhAAAATAGft2pC/wABOf1Gf3iR0xAA7MqU3OVJnEOKTr/uS/D0m1QAbfYA3krQ1OZyVVaoerqWFEBier/3FsYdfHq4aoli+OeTWJfQj44ACTkAAACQQZu5SahBaJlMCGf//p4QAAfx1sDof5duW3IAbK/n5EpfIzTC1hPJgpobK0v+fGlPTY7tewmuydfI1dX7t6x0z/Toxeda8C3eOft4AgPx0n+uhIimkoQ/1CcbCk81umdkSCaF3he3CM2wrfft8WJv4oDuAu85OU1mIhHUvhKlsYv/UTwmcQL8H30F6fDIADLgAAABA0Gb20nhClJlMFESwv/+jLAACA/FUAMucftE+9Wtd2kNtpqv/XWKZ3EWh9GjjGwcYCcb5EPTGfQdpqozeySycusTOOWnMpQImBePaxTkatKb9fFJADlGdPyMkGJ4kzPxBLKFoZNN0hV7qGYnk9+RS5eV/QcpKHF6rRsiE15RwamYNNCXRK62TaBk085lwgKShKsy1AYGp5cfTvH8AUJXbVGXBUK6ZlkNfVyBm+f0T6hiXu7ndir/1982gbEYlKjXyRNNbRp4utV3av5wgQqEJioEGPafmDDoWOUK0S1MsSmH1ty+Sp9KkBMX7kLlzbqeuadpaTbtbCsq+I8bYPMACYgAz4EAAABsAZ/6akL/AAE+dSskFhHbCx6z0a5PgSQ6LAA6pix16kwIW2PiSvlKetYVv71uh9IoL9A5SZRKkDkILsaJmSYZhM4utlqW/ui3tqOueCKB9ZhNHGz0ZuWjdkxEGV9Rlx72yEqfQV9x/Sz3I49AAAAA9EGb/EnhDomUwIX//oywAAMZ650DeaT5X7nu5PHY7tYlE6ZF4cDOvvCHLxzPZdgwWF4hXN/Kf723hD2Mc0gnlKTaLzSvniJLlh3XnCb7IUiikSLrHFzL3fMeYgH3ffv1B31H9xZKYCxZAQYznxr4XQWSokZogg1GbHxFY8gk70yLoLx1IU6TgNMr/9CNsJtxw+nMUqroiaRbE9BJNLssQDJvaB5YIvanH3QqKzWzCT3ActUrn0N1MRqaIzXD98FB14l4JgZc2dnxf+Tcf1rhuxm6AVVVhYuhJy+Xr7aWP4KTBgo4dY7BUqjf9/rlBL817SbIAu8AAADzQZodSeEPJlMCF//+jLAAAwXrdufG8xkuMF80TFSm2A2eq3tnDRfrXLUoSq5W+7YECix1K1Pqu9AUnB4AtckDnioRELlEHRDAKjazWJGHfT7TAD1B9aXTMNPgBadECfMMZh8EpZv8o6coLb5v87TjdJqOaMy+lBrfLJr3iOEhlSMsdYFLmXiCXIHoBYy6uK/oe4k41aZ2KSBqKEm/VnLi9tiQzHFWniKu/8konJJ1/aaiax1DOlTgCqZQlS6iPTdco/0tzCc8kzNSRYgza3cRJAqMxbPVSYKHw9ucQ3IWwXYpS4ii+mms4nHCXTJFc/kBwAGpAAAA2UGaPknhDyZTAhf//oywAAEh6b01305+xCumrMQD4DexSZGaHz44RXd2UFY1kED6RYwOHYz0IcqUD/lBXL6lEDJgBj5jacOOIuq1UcVc3RzX/Ljh+kKgAwb4MNZ0ivw5fpA1WVnYotsSQJ4JaEHcid2pNv9sf/0EZUAf8qFIVkpecoL2zPqsqFfbV6SXIlzuVeVyDI14rYf8A8DR4j6G9aOTOb4eENXlpbbtImBUnevkyRuajv66X4MFaqUFCYq57Hqw1R3D54G7fusCuuNg+jfQtc5Zrl8ADZgAAAD1QZpfSeEPJlMCHf/+qZYAAA3ibfo7jZ+gQylIEcllhqkDey0r9b2b6V0pnpGCf8XjaIMZe5v/zhwCFLuJebcKD0MOZavgHZvJUJuQUf/ybIghocqDeEuI/vm987Jy6IWH/VAS5TafAV1/9giJp0LTt77bNqx86UhjiLcwpteg3TX1N73WUpBSfx0woPsB3byREYez5zG+Go1Jb1E1Xm7CDXCmLKixuDtcJ2pAMhtU4nIzkySiC//vMpPZ6jdUZ18Y9gLdzIW6STWXmew3JoyTy5CPPR/MWa8jE0iICWcSe/I8mSkEXZNCQ6GPzpC/QVJVim4AR8AAAAEwQZpgSeEPJlMCHf/+qZYAAA2nF+jNRZYJrW57GMIqKVGjZVYPtk17wgCsbzl49HBsLT6M5Q/7IFJCNIt6A+RYbZHaIcdORmhHkH/xrMFckstv47WCM7mO8hlrqJ1j3okJhVLHCpoV77z34NR5scK5IciLZaAfX7AVQy8Qyi379z6DEc72LvWz823bJ5hmIqISbFfilBP6LEwrOiA6/iBlguWA7EXxBBPVn+hcBC0iSLkxwOW+hJdd0O9bX1sIhYbP4OdRt7Sol77GknSeBVhmsngmczpi6wARnz7f16zGli5IV6ZTUhHoGgWbApn9epxGnN97VwYlGtFBE2YpF1/sBdvIKXbwr2FKraIZ2I8g8DXsICH+28TZInsVpYqRjffxDTJpREjHo+pyuCtPVUQVMQAAANdBmoFJ4Q8mUwId//6plgAABQvgGzdqsGFJXQ/60Bhmo2j7i1QDldJESjSYBknJcD3OeOaco9k8f6z14K6O1QWG1M0JmKlJ9K9q5CPFvOPUtZbnPa9GHA7MEy0o8s1S12X9Xb8d6mv/6K6sNnKZNDeNOFX8QZAJFmOhVdkceYpV05TTN1WY+qXLe7/TiGrV4Jg2DklEKWZKp+Q2JbRV/kvOxQBq7MvWkkqcjkQ2ue5qcItkhWWuepLUu4moaE/U+u6Yn59ajqg9jtLO1fqosZwmrR3rSrMEfAAAAPBBmqJJ4Q8mUwId//6plgAAAwHU9uH+a2hEBIVNpAj6SC43U9sIWc+BiTexK9Ryu1Y//Z5KeL/Jekb7qjpxDaCq3pdQJ5j3lufx5DVh6v1BTqRWwfTiJq4BDOxsNdcBz9JM+MGog8uEUkDf3zNha8u3LivddBvXIxQjq3OEW8SQPewslk+31mzMqOrqCkSkJwZzk7aEVGlkr4cmFxuukirnjdcAFZ02CCaAYJ00LWF/3qwjPgPMsXWZL82dXVE9Mh9uRohghDDEo06XoBJLCPML+6tfrWl0EK3DrZ/YCMg62ELDplTY1VtJQ4Y0v81MMWEAAAD+QZrDSeEPJlMCHf/+qZYAAAMArvwKEre7qeDgd32KhMyqF7Zaym8Jz3G6a/P05qqSz22PIoeK783qYuDqqIaKmI4G/TQerJOm6YrT0SDDxIN7mYbW/GZh0KAkijU+lx+39+fudo/SlV7W7lQNOumqskU0WCPkgzL++lxPZYHMdhcJfnUQ6pevQLS0Jrv3Mk50noUh2lOY4TkvgnpLOXQ/at0hCFUNxUNVcWH2wZc9mTvQtV3dQhGmTONsUqD2f8FUZ2Ps8kGfPQjHNZp88c1wgQLPmWcOGkNXJIzlroPvyBST8cIa2YXmKwVdvlCWUN0n2F/QfV2E+VRGW+qKOmAAAAD7QZrkSeEPJlMCHf/+qZYAAAMAQH5HWypNKQEyQSC6PoCpIJU6vRovy1eMMsxHbxtr5JBtWtcdNglreyxHXA5yaDhO0VjL9V4g3FWIfRIRYhaEDioUDbgWps8NrrL2r+3G+Pk7O5kIrF/f38xOVWAZfTeHfrNqezIkHmLETV30FDqlOp/wWo4Z8imemxYubo9qfSqydr2BNcA5/tEWWL/9o9RUDrjYUSnUoaMw7hkhcFh8EFsoqGDN9/ejXqCh5mJrrUrZEH/SPPxj8vTVpLvLNwsf5qXR+3ysqAER6xO1AX7OjjuWy/XtPXy3SGT/RL5EXWD6MeZaR7u3A/UAAAEZQZsFSeEPJlMCHf/+qZYAAAMAGC9tAvgqvVSsBQ7oAjtXqurmZros5jrJmqcDfYHuFmKLMDW4WUr8BppAWmWiBpSfm4eAq4BH+gzyQPpgbpbaT3mJPegxJFwGBYvxMgR0Un89wIqV/xYAka7t9LFvu4fug6v4x9HXMgCFt648L1piQxHZ8bQKfNkz31Ufe3N2it9sOWVVaxiiWmEDc46wJvaPlWegsPEeUn2ZM8t5q/u9/WUfzlFs1H/DwUjn+Qg0tN/fwssmIUeZDlU4fB0z1NRfq7b7ER/60AH088O8vaqW6cQlws0Lzni/7QDwvID+z2wxeIXVXvmo0n2hrhA9o6yi9RFkuuZGLqHrT+BQDLiz1uO5DklKCPkAAAEnQZsmSeEPJlMCHf/+qZYAAAMACM/I60FzZZbnznXBgGP/lP3fjh2gyV1FMHl5ycL7kTg7xVCaKbEMZOEexpUT4n8FC7yiW2YQ0+FPL7+nZ206Oehbzv7m8qx1YYX09cH8o7J7PyGLxaJXO5wRRk0+3uIZm2njat420HlK/7Oz+XtscqZ8GtZ9s3Mdh3DiK0FNkbF+VuzqW4e+Vx/wbX804oH9oN84yzNlesbrF+q79md23yLsPytIlqMVj4+2gpngVmzNPHi9ghyOlZPBMq9fUVE/HE2yWkEUkE31rW+fNMgaNniOxxiR9WS2VLtk1Fu8LezuTOsBLE7HbBgsa2w0K/M1CTkiXauPzG6ZRXTsqP88cojRZ0eujWNmr5Wcu7vx/VG7Sj/UgQAAAShBm0dJ4Q8mUwIf//6plgAAAwADQe6VA9LvEoaPIAG2RBgKP3xvGi16nvC4TOwKCuKSIesrV8j/YFfawMZJi6H1QZN4JM880KZv18cyOY4JnIzK6FxqfiHa13FQ6WyTw+qoIqE62k9kMvd4W20lH32qZRM0wV3LHlXy3kyucYdxkbY/pQqj0Tozmm6gSF7rGO3tzldsv6/EnqvS5iqRcpwlEPLdlB6rPzzx5fXNAhymKx+/GFibq8ReeTG1jlZtcnIrm+Vt4g+sGZLzxQcnFpy0kcGdxCMCkq/d704aLDNbzbonYYRIZ0qD0RTgAzL6n8uRKmZCsiFFXcQmw+eGnjzie83+ijNxzi9EEuTJ/phh5DbSCrF+askuiUPlU0rZ+LBX1SlFQkV83QAAAThBm2hJ4Q8mUwIf//6plgAAAwABMfmJoUoRuABuDwC0d7hzLfH+YyJISZBVshMjUCD07WpElnvopHFYVVPU1mdNqQkeLXbwznfONiHzzlgHpV4LJx6dnpA8grCsbaY2LPJ5GL2JSMxfq61DES0V5qAy5v9B8nJu9g3OGjdxjXbH8pUuwUL+taD/2itFcbqMCGGAggns107dPVWpnMwOVpSBrjfOXKqhPuWBIzsrZq+EzMpxwNK6hBG2PIHVqfEsTkuuDcvZkxwqTEOfUNdEIqPjKjJ9ZKktoK+IXUPvaqZ4V8mBzFZ/B3z/LKK9KqN9AZUXMGOkvF5r/7fCfkuuy/giDLtk45iHX3dGejBpGxfsgT/BqCXSDjvdBmJFvrtDv4i+9SUHAtPDcrXZdtIwzT2OOVt1aAe6aigAAAFkQZuMSeEPJlMCHf/+qZYAAAMAAG++ILM6qwYUlXI0QBadPZPW3ZKTqaYZ+2Jni9S3cfqBfmCWKwa9u6O13PYGAebn3jellaXd31E637GzHzLwEBOsQCrAs15bCB21b5dJimah49+g7W+feoMr03FF+x6Eq7ZTjpVzvoZWiTAxiafiCcesxKhyTSsi0Lp7oAkHt/vP6j9XzKc9vXLasXgJ0R4csU4JeX6ftw//8DTA5JQ9Ns2f++z5SzdcGU3ivo2wdLAcH2KhTIgf0PmOKY5dBsiIlwf7/maTepv+q93XvyH4afm4r4m9quQT1dnO7S6VIgOJF6y/LSnbJ+Ivhins4/Q7riZlLDqHw0MfZ66B6Mo8bJaAAxBPGH2UjDwySmlW36Ah6mnq3nexhV5OgEdN0cfJChnJ1Kxr+eb1lguJIPv50rt8JxAJeOb8h2/Zs6uOhLjXt5azI8ahZKFeIujwAAgngHgAAAFHQZ+qRRE8N/8AAAMAAN0rWeYO8rz07Fy+AI+QjOT/Deb6g1CI5/+gjCXg5ZWKIJy8We1h1J7b5g0ZPGr5oRP58isjyQYEnje+oWGuKc/edO8tba3QYji3KsPLSeea2EV07rqD4EhgVCteU+NbMJk3DnAOiO5VpR+3TXJ5FvYSokP6StbwmQ0/GMV0B8nChUTe7lXTpi8fUchbSIeBsbftOVhO1TlFsE/4HbhwumWZTJ4O61jSIxbSzJAJBWE7d+LLZG94O1/eq9W4I4EO5IALvE1Riwlv0q/A3BU7bBn6XKENhP2PUqqj0P9x2ibaOlgxDdOlweNN+XjwDoy6BxNsu/M1F61vFQtULVLtbAwXuem0/G4mg0M7gzw1VRlv2tiwmHHxobqSj4Ukc1o5I6gxrY28z55Y8N97iWdZsF/60lC+F/xRCsKzAAAA8AGfyXRC/wAAAwAAgsXP4d4n0CUBbNQAcHFIeCwwbfmKJlqCTC94QaZvhbtUIOtXtote9JfOiGRO4D4HSQB5nNlYid7yEXuWi4QGOha7Vta+ZuqG6yZwT49z1Ux8nK0T88fqCl6FCthLsOc6rdFDeKFoITIX5DYP6BxQoq/2icAsETEybGjvzgU8sDJX2JfwwYyOF4NmPHR1dgggDHdmngnoeFoxX4/cGjM043KSihuZNt8PqAGBzBV7LwsNOKR2MSefHE+hNlpomtcvvsQ/jhOc/TNSun51CDkqrbDgSyOx5RAzS1LCUPqZfmQpSBpFpgAAANMBn8tqQv8AAAMAADJBf68YJSQsqHTECCwFmFRTeSgAnBxvoomnUEjFG0YZtOvPQ7EV76NiHUPcS2VtgmR+kJ/5jzYitZKMweptJQrtryFiwHs30wPMTMoFFE5YqSA86SQq083qiiepgKNiMedIaHt55r+b9tw/L/87uVW5QjvMwv6TmSEq8+9aS/HgX8/i+Yzh3+bZTBVMmGWJoc630fsi7gv0sFj+8GwZhFCn+Lyea9HbKDlv6JcWDQOpHRK5v+TH94O+T47WJr85k9UhsK7em9pcAAABYkGbzkmoQWiZTBTw7/6plgAAAwAAXjhb4P8poANquX9OApHt7rOOLKSKcft41bjT3kLRPBxw1/X0iJMAkZa/BQWcl4G/bCmgvFN2SN8pbkowG+xzDrx212XRzTgLqaTdFKLC02JYcNS5kS0Y8FY8c/zpszCQZgdL703J+enqti49SJCijkOuy2T7fr1xfYQwD15IKRjihiauMP7SWc6WyKmLXeABDDK0f85OGvc8zCf3xnuwpXHtnaSqYpDfMT5Uaebz2O2p0M4KLRZ7kvGREN1FY4ESPB5bpg9YQVvpjB1fKx5xry4MZ8B1A/jbpgq/uqunDUZGjY/wS4ZTjNBrFLgGqrijkA4eXTOGFCDIemEafsKGwvQAGT4TaGkvCh9Q1/ezmuAjb/Ct65ovvItDK0qa+uSXQlBdO+nKzDRlNyePJQWr8HxiqiCSw8Y4JOtbCkriswtRM0RPHLr9fr6706l2uQAAAP0Bn+1qQv8AAAMAAXTIvtyVkK8SZmcoa7M+ZLBi0UHqsXoAIcxhjsKDXdOeMBMElNRl9Z4X0mY/SClBngQxzRcI0Xr7KqKAVtF0d4IuKFUgXPPhEThXwGInrDYk5g1gFvqESdLjgF3ApJN6b0yV8JUeUI8ifQIkGGgBE7e1NFY4iYe2z3E8SQrBAWeNcAbwFBvQWzYwxS7/idDq4EBUyRqZYABB8QgSrXgGE7kYuTdGUUpF9B8qMr9NdrAWZFLQowa0ugLvVSFnXGtmDktLVC2nBsXRrulqAuA0L7gNSA+zabWLEnBVoglf+4PFiIrdgToMJ5TrVkWZS9f84KdRAAABlkGb8EnhClJlMFLDv/6plgAAAwACcT+ZXiGEigAuUL1Vluqg1pzVFYY895amj8eO/0X4Qpn/zsnD+65mYrPn/gpm7B4nrBLwE05Fw4j1SHj0d+gXvcrBuDXQGfb6y1kFF9c+tacq0A479ZXjerKprY6y+lhNKKeLSdI334u/OjOBb/RKHVK2QjkiDQApFfi3Ou5oHZZCYiuuU4hhpDFcI6vTNVtoSNeHp1HjoHQa9UQeXkdu93Lfea8N/8MhC30ZTQCu/fw6BM8/kNPUNs7eL8p4B3o6vLg5j9iJ9klMr4WqYxRzK3mlw4idTNf1WohrVxmYB9r5+TEe8qAe8IVMaG11ezsRKnjr4PLV/FoT+WLNUTDAgqZBpTiYTbvzgLs3CYmvdKAK2PZOgYsWQRIa9mg5OskBlgOBkg0T5IvFQj9VCOAY48rn8hNAubGShlMZHs8470l+0k61hA8I4akLamFhRadFkNLOeollQBonGtTW9K1dcTlS1slMdx/2UekMwxZI1Txk7VsH4nEfnyJsf1UZMi8JBYEAAAEFAZ4PakL/AAADAALpPAUnd5CVyvykAJaLBHPX3WcwJQqpH0sxY/13LUmczgS7XFQGvmXdT/uHp4wTM3REP79PuHdr03GyCrzbQERHohiQltGIj7sDCOBkc95XchoFIFgzgi/Efi4BsF+FO10jlBzonckeZPxdRKmfDGVU3aOZZVKMSh+7c7BWSPAe9Dn29ylHxz9YWy93loaqo6WEC2pNJ8/IvwgDrIfqfs+nlM5t1d1+bnLMQMXUNP7Gxd8XfBSorQaqHIDcL4OzyzNbcp1aib3RG4JvAH9sVW32g8d9BqSQF6Ta4IqftMcKFw8zgvqEf+Zu7vBY8v6vRBbxf+t2Jrw5ldVAAAABIUGaEUnhDomUwId//qmWAAADAAZYVxE5qZoUAFygZg/pBc4x73u4jJD0j+zL8QdapW8UE0KwyagbicvrOS5V5dos362QeCpuPTMUUM/OcpSrs7Vs89W/NipW61wBPvziM0DBdniXaoFT7d7qsQv491ARFgWbfTKKrjoeFYX+NQPVridA9W61oyVm7JknGO0tqrMIAu0Lr/epPom9BeXjvap47CZy7IALPg1mwBNFDsSWWtUyMaKUAizOWoMD/KHulcwz2PbvsPzt6VmZGxKKnpNnNBzZOqzz/pM0dmQkqUd3Ay+B7uxJBpBBbydg3auZmEmJ7ETHB9IOHhKNA+jUrrLKZXCVtD7hOzk8ZF8HyK9r1HyA1o5VUb2M8iqqP12YO7AAAAEtQZoySeEPJlMCHf/+qZYAAAMAK7zzyL3SuhQYs77NWmH8V4ANk4wiZTqnNvTLjkcOpU83DriR/bYE5DDZkYcDBp8NKXblOGNNmAhJQQvATHUNN5TZZaRDTacGzYO8Vgj7/C4a7/9rQIueUjluymZvfz6YePzKIcekAwrd3XQkm1rTSkfF6Nf2XsFxMSSgpo1xgSMRu2tvZKNPKYsa2WaBI3yk9TmCgpkY5GLRW9IfTRClWct15BFBRJzyMgmtrUVNSfJ+fQS/SPa/affBJ2iER3W0/xLyWTSVI9gl2gZuP8VIQuZpSF/VrZAB5mqc0vhue4r1sSAsIHh+J3j26zlRaD306e2cADxSeiPwQuMpM69xemLIwDII2BID2LpVutakVe5CbdkAm/LiQY0BgQAAATdBmlNJ4Q8mUwId//6plgAAAwBvtn/A0boCFXQC+6LZkXGwOKouCSZI0yyVsbalUNxs+NKS4MI+jlVwDoRI6nMMW0XKaZ2Um0EKcyW0Va9GwMu7yy5Nri0tCyTBE0/+35NnSjfo1xC+0F4U9zvzpV8Jr2g0+Zo5qEoKLk/thOvPaX+sbobV4CqBbx/M0mXnGmBmxjOQdFL3ZzeFYPzunW6t8VjDDBJ40aECXOz1Uq9/VjXF9WFepA5Tnqbtbxt/9jC1j3vTcwRGjkqRMbgQlrMqrvZwPCn9BUogLSwwXFtGlNMfgkkZNNfm0k2Y7Eajkjr9RqIsQmNh7Lkt1RBjLDMBDozihg5NADNzYQnj1qPuePYfo8/d2xVWVDDZZ7VRjqyscr7ib3XMGf6Q+/zRM+iN67MXGRP8GwAAAQxBmnRJ4Q8mUwId//6plgAAAwEgKOr7r2uIAJL0V4ph6OQlovJJdQMhHGUqqGWqmfTlug4sUlVcUEzdkyRLcervtC37RILxmrUXpUSGz5QP/mu9R5NcEPH15q5nyhmEnjKl5eDBsH63IRot89PYXCTsvwCF9TzEaS5OvUtC7P5FBbDoRgAu9cSK1uJCNPK218B0T3LEJMvRoX8+9mCNsQaNwThOCb4iQ9FjvAPBvPUzr49dWyGWcD19xfGyWLdj8h481z6pEIMy8fi7ETbl0C4LwSo2+upGhEUgfRfKgmlR7+xCpSV9MhexZwqvL+re70ivX44DRyRPOgp5DmVQVfljs6Glabji4XzAe5vUAAAA2UGalUnhDyZTAh3//qmWAAADAu6jPUF8cBQH7gwARBauMBPkQbFLfU1ybs5K1289HEkxIMzCwpfTCPT/LKx8R/xI93dIIu482tAqzNDsaJx7ljgk+rxOYdnk0doMJamgALWXrhPrLBCd+vs1nxWTXYgN6JZ95ItIUn6gDmj9BtSdBLQurehgKTiKgkmHCE3Em5hNm+hlG42BUN2BzyNqk6LxezRiaTdV4/YxYSVcGnUufbf5Kk9xhZ8vYh3ap71XX9kMKZWet8nj/paUfg4JpyZAZRxzpjb6AoMAAACrQZq2SeEPJlMCHf/+qZYAAAd2tQ/wpiJXMTSdaAC8aMXjXyhgiGr6pjdueD8q/Z8miIp2jF6o0DGR57av9jcgEAcbd669Y5Eow6moHQdV6dwlhp0qYq/j1fEfzd0t7rx1e0VALGNBZ6Tf49UbGOreSaNWmA9ZcmGYEuzqfXTG/8Ph00uFVD2cEGiKMKW5QSxnUwx5fI6B0jv0fYeGyI1tpeoc33c/j45qHZWQAAAA70Ga10nhDyZTAh3//qmWAAAz0FhRlcnEAFsHyaAoK/haIVCWafOTVu3QI+y2JWIPzHksV7viGtHNfmwJaeaDFVFBAYkIVbZ4TN3ep3ke5WKjWBX61qE6jBs5m8tsG3xVW4FakIXHk3f0QuK/JBoZCVFj9TR1xpRsi4V16ZVf2bTsvvfcF/47sgkGG32UCi4MSCQoipq7rlGbJa9IeySsIAXp5LXiIh1b4eJgmWtS5b+/irV6WXtgK/KrR3SqzDkmcculyonVf9oLTGxHLc7yExT2tM704AXUTQB72HQm2tzSvseX6DwYWv/7rt/RCHS5AAAA7kGa+EnhDyZTAh3//qmWAACEFHBbQBcQASZFLwg067dyroB9WQAvgQwDPbYd/KR/O7bKWjVF66LXp03vzjovuNevf/dnaNNU69I4srq+9RRqQSaMPEVv7rdZzhiqj0plunnA0SHKuGDjWXo3brdjdG+6a1jUkis+fpiDQa2SaMmwEfhg7kSavtcw05D3gxsnfHXn0PzQ1jd7eYkpW920Pm1FoOzMtAnftkIZMImW0qJKnrb9C//1Otg+WunfCOUJRnhrLDs7NeYfTXXuAh9xf/paH/LeKMMidbDxKfoozL7dbC9E43Ot2o41BK8gA+8AAAEGQZsZSeEPJlMCHf/+qZYAAVvSqwRoEMAIUHcvCUTw2B+ZCzbEodKB3W8Y+F6dPr1TzgEFwuURILdkfPZV+dL/JYq8Z6/LiKI/YUjlTaM0R4TJvlvTyL+1eBKKdb3ZmGKtZXsdDpO+ThkSfmJ6kWD7UfJGqw9qKYVqDFf7wBriqcwHCMXm8Uan25M32dOaHOG8WXynyS/+xLwOlA4gXXCHM3kqH4OrqHd8oCqj3hwlICYEjMvtUVTP/gcRpW8RirYNsrLZS/lzGaj2oHs8UMcl9JyQCZS3e6Pc/NfrvXt74mRMBli4tWiEEothEYqsoZplG7kykn4LmY2ilRitVeQ+ZSZhqyABjQAAATJBmztJ4Q8mUwURPDv//qmWAAN6Ekhkj86AfK/nAA0bs0uPqrUzcTO6TBBiVDGGc/BXTL6hTj2T67wahW825n7t/VsN3mpsPV+Zui+B5NZySULWWE5vf6uNZKMoczoeecJyunp3FHvAPhxn4rLHJ0nGVGYdjTqXoLvrm5dDL7S4gnjJMrN0H9ib+2ShbnjVl9MihdlKdG7D14kNGxc77pYv1FpCcb3zaspv9rNjkPo3aSWi14k75Y33aLyFcfPBgCvRgoY9f+QwNF0mVj7ojpvbmrdH8OreB6p78H1gUS8XebG4cqEuM0GaruRTz1n0sBB6pE3u3Y07tEcntgqzpWiM0PHUOqd9P72WC5xIf0ziC1vs90FGuubqGGY27k0ijwvMxJnGcIcOsEwINMZjp80ABN0AAAC+AZ9aakL/AAsU8BSeDXC/FjKpcN8WcE8dtwEOFNEAEP6MzXL3ZukGUPz9sCnYvrjsKyrN6qn9oizDUqlEGF4lKJm2QCzQ+dfzzSXDKfPv0QxKUkCVrEiUSr/+kqnjhnLfMOs93YDK3MNNr5zTs5lYmbEcXmLFiWqmo9xZo5m6B2O1QTJU5+tSJRDDhGpyNd4ugPP+WaDubX5A5OjPWR5qwL3nCyVs2+frT24Y+/40uRf7xjCqlglL4WYAN8xiwAAAASVBm1xJ4Q8mUwId//6plgAJAUXBd7iGAEKegLa1lq0DDXD3A//2fS9CjOfTAZ+zGEZVi+xWKDuR0A/3fRnUqAJ4Fuhpmv24+2O5gK/tvQyu6N7T9PkqCKEq2XopRObJQBQgQYsGV0KiqSI4wfGx+ZmKb5wYeFI0GOZDxac4c2fSERiDO9/WHVm9Z8FWkdS33SfYRIqsghsSj8InGIUMbMzjqUY6+4/msfa+k/q3nG1wwmGnt49r3x0nCsmrMxXVd5G6iU015ErgHr2sJ0j9suEcMYFON1p5K4r+K23FPPdWI0LTp1G8XbZS9fUx7h3um1F4s9DlNnm7Ynnq6t6xrhoWIz4P0fezELKl7/wMkMv/fSKIHOjZxbMWGfkLuws6m52WnoAB0wAAARRBm31J4Q8mUwId//6plgAXdiW7vM7iACWUG29nGmjVTPqIdkj4pbsvBpUZkpucHJwTpmg0BISSMe3h1yiDyGE1h/xURPEGozzF/a0oT4j978Be5747j0c1UqThPTYQVSqPKsZFwTlfgXi/H9hX/zQuLHRbiRupPyf/JeuNzYXV++29zmSbg469z3U7upA2Bq9NOs/iBEKve8B2CU+ag7qwhChX71eW6Y7nXdkG01XFRrbFud8SX6wS6AcSWAct9b16qt/miP7HDZY05DwDQWGhaxFU1dtTlJtuCnA6RYKX60Cm/6YMU8Qy+9OzhA31z/Yfynhf/J2oDj4bJUdkd6bu7zVJPddlKDbwwGKjcUoYaJgABs0AAAFcQZueSeEPJlMCH//+qZYAF20t3ABNNmcW8vQWhW6KUnuujW4VpTy3rE+Lf1Js5SVDhPHmE/Nz2Hx62WGnftxK7LwfBUVyiEHTEVQAGsQGvhPTrFLcv98foRtRnK7VPGfpDpa5oa8K5MnOJllxzTv3CMhIUKIcWzIjelR+BPvJg9pY0pBVXTpXqrlfmf9VudFZJmM+o0BQcN4mzecwB3jGuqG9JzIV4ggUPE98STakb6ziZqvKDxsump6joAbTCKvwnvoBuyzNOn3TUGf/6IMhexLOtUUeNCiyo1Y6lDEGr1/RS0JP9cpgMNLjQlSFLdcoGRKumiKaJ1N9T7sQJ2FgQ8o0CuzQGP5p/6iwoSDWrbnXX7O1t4GB6ScBWXaCKa9GjO9oiVnT4ZYZtqeq9KiKS6DeCWCUE4rgGp/x8eJFSlrOxpTfk0pxI3b/y/jHZ5jMgjxHCpZN1G8jnqdwAAABekGboUnhDyZTAh3//qmWADumUqEv8NK408+YpF2pn7cZXI9fTN/GNUD/6HA491ngV4w4F6tF2UsJxg+hsiil76PGp6B2pB64E60hAItWwUlmX0cD0V3fsfZ1UnGLaFszFARiImhRLBO7e4luy6SlnhrNuC0zjKVp5TFxbNgNkrASi/eGXStj9+b6QIqMCbrCOvDp0ErjSASrd7FUpgh4wbRCnJ7AqiyZ0YsF73hkJ8cxd0EkQYi5NlHGcLeQWkj9FlqCDLI6Fc/o3+MAUCRBKBQSeCHBw2yZJ2yow0HFr1a1DcSyAh7LTlvhymhUSkcJE8e8H34N77E6l0LACKUTHWnd7fJp8HlIzMYCKZouVe2KlfXSznROEbxTO/6PF8zpDT9bNppCRCEow1qc5T0elYjYIJvJeChfUdjqlzN+7hvqzxj+KKGsm6s37q1oHNhhZNIiR5BNF1NwNWJGZf246eELJTVyoE+qqIMWxJcLTO0QLdt9aDBvcoABswAAAN9Bn99FETwz/wA0zCpTY02u8cb7wp2mPMLAtMJBaR6xGjp84AJuwCq6XNFSGNk+ZFW0GlghuD9D6EE6WnPHUfXQ6KEwJYI6c1xS5K5rcyLMTkQ8WIIaAAp3JTk2ZmddbBpuBX48ZUWoKrXwFXHacyWeMSKXKcdkyy6CO8eq+avhdVpcYeX66sOnVPi2cZWvHq+jRId3rB7BwSCSUHbhXBxJI5KEWtCVFYCn2tR7QRRaMGyyfNdtUkXbcb7ezTvp2h8FlhQPCMxw20Y2HCLjI6Ny2R4dyuZP/oOXAOdlAYXdAAAAvQGf4GpC/wBHc3h3UGIxaMHwyvT5v1AAgOX1FyFnuui16hcG4e71cImJWX5SY/T20TcKJ22nQVe6/jjOWKHGmsCbxU8Ew4ecUsilRGR9jv+qpawsYzu83HXN1ikL+ak4VwMcq1HaByPyhkh19L7WeRn+uYrSQc7EKyTym4zuMZQn2GQ+4ciJRK4Il/0ZAs/YmeerYdVmDFkBwkB5yT25MaTsr/WSEFJuX6FcL17pD8XFbZNGbH9DB0s0AADZgAAAAOVBm+RJqEFomUwIX//+jLAB1PW7c9EPhpRFgBO3qUJa0IS6mhjBJHSlyF3rbMoM8LU3fBWpOEmmEv/uyCrBWpYFUDJC5JOWSYuCh3W2XgR+KJyiUjU3F5Xjau/c8JooUWaj8n0xr7NH8DOHrlp+rkVeXKHkfaxP4ZPDvroCwEAprePet7+LwdaesxHadVHUax2jcsGpNFD4DrumUjQK4q0hcj/Z0Dd/7DI6ZSl3sdfdKgPGQbLl8NQXbU0fIUH/DMs3xHKCVsuEkUqkBnXm2e8zTpCcVTUL8YjpLGk9r1aPBEbAABmRAAAA7EGeAkURLDP/ADS/Biar8N+QARBw8oGJHYsoE7ZSn4o6gp7pCNzHNgc6D0iWJwvqK50mtEVBViieGyj+Z4oL/mTr2I9jtD86uFVQifokuQz/gh1+4e8cRkDT0R/odXNHdGQyYKtOhx77soKmlfm4iMtb81PehZOWEWB9EoSoc7Nlgir58KTOnNXFceDSasbsJgeXJ+EvClMN2JXmiCoM6iEm+axg5fdQ1yewGN/wcg+hiV8qK8GOUOK9gXF+NBlJ61PHIlgoo19QOaeqSISUn1MBcBMGfj4zEwRPNRHohNeGRMohxub2MJQ97QP8AAAAugGeI2pC/wBFZvSxYH2zoDQdgr0ADs/n9jdknZAkZa9tylSsd787ZeKZZT5ITlDJujMZIDukaQ6G80WRjfVEBScWIz32b9MTiEAZnZmTjBsAuHekm7/sLTarNl+zNGxQzmyP+7XsSMHNkxk+0pRVB8rcFnC44dcWT09F0U6esRDNkKhxdOBifJP4/C4hk73UTELdcmZ6fysPY49TmB/lqgqtYaFuAfeXuzyjskMU/RgZ9Q/kxtA+swABGwAACWZtb292AAAAbG12aGQAAAAAAAAAAAAAAAAAAAPoAAAq+AABAAABAAAAAAAAAAAAAAAAAQAAAAAAAAAAAAAAAAAAAAEAAAAAAAAAAAAAAAAAAEAAAAAAAAAAAAAAAAAAAAAAAAAAAAAAAAAAAAAAAAACAAAIkHRyYWsAAABcdGtoZAAAAAMAAAAAAAAAAAAAAAEAAAAAAAAq+AAAAAAAAAAAAAAAAAAAAAAAAQAAAAAAAAAAAAAAAAAAAAEAAAAAAAAAAAAAAAAAAEAAAAACYAAAAZAAAAAAACRlZHRzAAAAHGVsc3QAAAAAAAAAAQAAKvgAAAgAAAEAAAAACAhtZGlhAAAAIG1kaGQAAAAAAAAAAAAAAAAAADwAAAKUAFXEAAAAAAAtaGRscgAAAAAAAAAAdmlkZQAAAAAAAAAAAAAAAFZpZGVvSGFuZGxlcgAAAAezbWluZgAAABR2bWhkAAAAAQAAAAAAAAAAAAAAJGRpbmYAAAAcZHJlZgAAAAAAAAABAAAADHVybCAAAAABAAAHc3N0YmwAAACXc3RzZAAAAAAAAAABAAAAh2F2YzEAAAAAAAAAAQAAAAAAAAAAAAAAAAAAAAACYAGQAEgAAABIAAAAAAAAAAEAAAAAAAAAAAAAAAAAAAAAAAAAAAAAAAAAAAAAAAAAAAAY//8AAAAxYXZjQwFkABb/4QAYZ2QAFqzZQJgzoQAAAwABAAADAB4PFi2WAQAGaOvjyyLAAAAAGHN0dHMAAAAAAAAAAQAAAKUAAAQAAAAAFHN0c3MAAAAAAAAAAQAAAAEAAAPQY3R0cwAAAAAAAAB4AAAAAQAACAAAAAABAAAUAAAAAAEAAAgAAAAAAQAAAAAAAAABAAAEAAAAAAEAABAAAAAAAgAABAAAAAABAAAIAAAAAAEAABQAAAAAAQAACAAAAAABAAAAAAAAAAEAAAQAAAAAAQAADAAAAAABAAAEAAAAAAEAABQAAAAAAQAACAAAAAABAAAAAAAAAAEAAAQAAAAAAQAAFAAAAAABAAAIAAAAAAEAAAAAAAAAAQAABAAAAAABAAAQAAAAAAIAAAQAAAAAAQAADAAAAAABAAAEAAAAAAEAAAgAAAAAAQAADAAAAAABAAAEAAAAAAEAAAwAAAAAAQAABAAAAAABAAAIAAAAAAEAABQAAAAAAQAACAAAAAABAAAAAAAAAAEAAAQAAAAAAQAACAAAAAABAAAMAAAAAAEAAAQAAAAAAQAADAAAAAABAAAEAAAAAAEAABQAAAAAAQAACAAAAAABAAAAAAAAAAEAAAQAAAAAAQAAFAAAAAABAAAIAAAAAAEAAAAAAAAAAQAABAAAAAABAAAMAAAAAAEAAAQAAAAAAwAACAAAAAABAAAQAAAAAAIAAAQAAAAAAQAACAAAAAABAAAQAAAAAAIAAAQAAAAAAQAADAAAAAABAAAEAAAAAAEAAAwAAAAAAQAABAAAAAABAAAMAAAAAAEAAAQAAAAAAQAACAAAAAABAAAMAAAAAAEAAAQAAAAAAQAADAAAAAABAAAEAAAAAAEAAAwAAAAAAQAABAAAAAAEAAAIAAAAAAEAAAwAAAAAAQAABAAAAAABAAAMAAAAAAEAAAQAAAAAAQAAFAAAAAABAAAIAAAAAAEAAAAAAAAAAQAABAAAAAABAAAIAAAAAAEAAAwAAAAAAQAABAAAAAAEAAAIAAAAAAEAABQAAAAAAQAACAAAAAABAAAAAAAAAAEAAAQAAAAAAQAAFAAAAAABAAAIAAAAAAEAAAAAAAAAAQAABAAAAAABAAAMAAAAAAEAAAQAAAAACQAACAAAAAABAAAMAAAAAAEAAAQAAAAAAQAADAAAAAABAAAEAAAAAAEAABAAAAAAAgAABAAAAAABAAAIAAAAAAEAAAwAAAAAAQAABAAAAAANAAAIAAAAAAEAABQAAAAAAQAACAAAAAABAAAAAAAAAAEAAAQAAAAAAQAADAAAAAABAAAEAAAAAAEAAAwAAAAAAQAABAAAAAAJAAAIAAAAAAEAAAwAAAAAAQAABAAAAAADAAAIAAAAAAEAABAAAAAAAgAABAAAAAABAAAQAAAAAAIAAAQAAAAAHHN0c2MAAAAAAAAAAQAAAAEAAAClAAAAAQAAAqhzdHN6AAAAAAAAAAAAAAClAAASEwAAASAAAAByAAAARgAAAHEAAAE/AAAAlgAAAHMAAADKAAABbwAAALAAAABwAAAAawAAATIAAABzAAABIAAAAH4AAABbAAAANAAAAKAAAABgAAAAIwAAAEIAAAElAAAAYgAAAHIAAAENAAAAaQAAALwAAAEdAAAAfAAAATwAAACRAAABDgAAAbYAAADgAAAAkgAAAJIAAAEwAAABdAAAAHsAAAFFAAAAigAAATYAAACNAAAAaAAAAEAAAACfAAAAewAAAHIAAABjAAABLQAAAG8AAAEdAAAA9QAAATkAAAGtAAAAuQAAAKwAAAEUAAABZQAAALkAAAChAAABdAAAAM0AAAFdAAAA0AAAAYcAAADBAAABKwAAAWcAAAC0AAABKgAAAIgAAAE4AAAAhgAAAOwAAAD4AAAA5QAAAK4AAADpAAAAZAAAALsAAABbAAAAWwAAAGUAAABYAAAAagAAALwAAAFGAAAAgAAAANUAAADrAAABBAAAAPgAAAHQAAABMQAAAJ4AAADPAAABIwAAAUAAAADoAAAA5gAAAYIAAADYAAABWQAAAVsAAAFxAAABbwAAARYAAAE4AAAA+wAAANUAAADmAAABHAAAAGcAAADnAAAAcwAAAN4AAABWAAAAUAAAAJQAAAEHAAAAcAAAAPgAAAD3AAAA3QAAAPkAAAE0AAAA2wAAAPQAAAECAAAA/wAAAR0AAAErAAABLAAAATwAAAFoAAABSwAAAPQAAADXAAABZgAAAQEAAAGaAAABCQAAASUAAAExAAABOwAAARAAAADdAAAArwAAAPMAAADyAAABCgAAATYAAADCAAABKQAAARgAAAFgAAABfgAAAOMAAADBAAAA6QAAAPAAAAC+AAAAFHN0Y28AAAAAAAAAAQAAADAAAABidWR0YQAAAFptZXRhAAAAAAAAACFoZGxyAAAAAAAAAABtZGlyYXBwbAAAAAAAAAAAAAAAAC1pbHN0AAAAJal0b28AAAAdZGF0YQAAAAEAAAAATGF2ZjU4LjI5LjEwMA==\"></video>"
            ],
            "text/plain": [
              "<IPython.core.display.HTML object>"
            ]
          },
          "execution_count": 37,
          "metadata": {},
          "output_type": "execute_result"
        }
      ],
      "source": [
        "record_video_mountain_car_env(env, Qtable_trained, 'mountaincar_random.mp4', fps=15)\n",
        "show_video('mountaincar_random.mp4', video_width = 600)"
      ]
    }
  ],
  "metadata": {
    "colab": {
      "provenance": []
    },
    "gpuClass": "standard",
    "kernelspec": {
      "display_name": "Python 3.10.6 64-bit",
      "language": "python",
      "name": "python3"
    },
    "language_info": {
      "codemirror_mode": {
        "name": "ipython",
        "version": 3
      },
      "file_extension": ".py",
      "mimetype": "text/x-python",
      "name": "python",
      "nbconvert_exporter": "python",
      "pygments_lexer": "ipython3",
      "version": "3.10.6"
    },
    "vscode": {
      "interpreter": {
        "hash": "26de051ba29f2982a8de78e945f0abaf191376122a1563185a90213a26c5da77"
      }
    },
    "widgets": {
      "application/vnd.jupyter.widget-state+json": {
        "0103dc5b1d524e85b7e4aa5aa5aa5bef": {
          "model_module": "@jupyter-widgets/controls",
          "model_module_version": "1.5.0",
          "model_name": "HBoxModel",
          "state": {
            "_dom_classes": [],
            "_model_module": "@jupyter-widgets/controls",
            "_model_module_version": "1.5.0",
            "_model_name": "HBoxModel",
            "_view_count": null,
            "_view_module": "@jupyter-widgets/controls",
            "_view_module_version": "1.5.0",
            "_view_name": "HBoxView",
            "box_style": "",
            "children": [
              "IPY_MODEL_9f59e40947e14644871bc9404133b384",
              "IPY_MODEL_dd127f2a0ba24c23bf26d04212496e9e",
              "IPY_MODEL_393e23d21e5046ccad8349c33164b631"
            ],
            "layout": "IPY_MODEL_af5add114cbd41f68b85d7c474dd1bc9"
          }
        },
        "04352eb8712a4b82a924a86206e70bec": {
          "model_module": "@jupyter-widgets/base",
          "model_module_version": "1.2.0",
          "model_name": "LayoutModel",
          "state": {
            "_model_module": "@jupyter-widgets/base",
            "_model_module_version": "1.2.0",
            "_model_name": "LayoutModel",
            "_view_count": null,
            "_view_module": "@jupyter-widgets/base",
            "_view_module_version": "1.2.0",
            "_view_name": "LayoutView",
            "align_content": null,
            "align_items": null,
            "align_self": null,
            "border": null,
            "bottom": null,
            "display": null,
            "flex": null,
            "flex_flow": null,
            "grid_area": null,
            "grid_auto_columns": null,
            "grid_auto_flow": null,
            "grid_auto_rows": null,
            "grid_column": null,
            "grid_gap": null,
            "grid_row": null,
            "grid_template_areas": null,
            "grid_template_columns": null,
            "grid_template_rows": null,
            "height": null,
            "justify_content": null,
            "justify_items": null,
            "left": null,
            "margin": null,
            "max_height": null,
            "max_width": null,
            "min_height": null,
            "min_width": null,
            "object_fit": null,
            "object_position": null,
            "order": null,
            "overflow": null,
            "overflow_x": null,
            "overflow_y": null,
            "padding": null,
            "right": null,
            "top": null,
            "visibility": null,
            "width": null
          }
        },
        "1ac412d660bf422da6223b0ffe392ed9": {
          "model_module": "@jupyter-widgets/base",
          "model_module_version": "1.2.0",
          "model_name": "LayoutModel",
          "state": {
            "_model_module": "@jupyter-widgets/base",
            "_model_module_version": "1.2.0",
            "_model_name": "LayoutModel",
            "_view_count": null,
            "_view_module": "@jupyter-widgets/base",
            "_view_module_version": "1.2.0",
            "_view_name": "LayoutView",
            "align_content": null,
            "align_items": null,
            "align_self": null,
            "border": null,
            "bottom": null,
            "display": null,
            "flex": null,
            "flex_flow": null,
            "grid_area": null,
            "grid_auto_columns": null,
            "grid_auto_flow": null,
            "grid_auto_rows": null,
            "grid_column": null,
            "grid_gap": null,
            "grid_row": null,
            "grid_template_areas": null,
            "grid_template_columns": null,
            "grid_template_rows": null,
            "height": null,
            "justify_content": null,
            "justify_items": null,
            "left": null,
            "margin": null,
            "max_height": null,
            "max_width": null,
            "min_height": null,
            "min_width": null,
            "object_fit": null,
            "object_position": null,
            "order": null,
            "overflow": null,
            "overflow_x": null,
            "overflow_y": null,
            "padding": null,
            "right": null,
            "top": null,
            "visibility": null,
            "width": null
          }
        },
        "1d43725b20c248ddb0f5723ebb3f0c04": {
          "model_module": "@jupyter-widgets/controls",
          "model_module_version": "1.5.0",
          "model_name": "HBoxModel",
          "state": {
            "_dom_classes": [],
            "_model_module": "@jupyter-widgets/controls",
            "_model_module_version": "1.5.0",
            "_model_name": "HBoxModel",
            "_view_count": null,
            "_view_module": "@jupyter-widgets/controls",
            "_view_module_version": "1.5.0",
            "_view_name": "HBoxView",
            "box_style": "",
            "children": [
              "IPY_MODEL_2b7b9fc5703b4d258b4893a64ab870f0",
              "IPY_MODEL_d3694cfc8f114410892af5a8308dfb93",
              "IPY_MODEL_a705f1ace18242799495ca5fa50e919e"
            ],
            "layout": "IPY_MODEL_1ac412d660bf422da6223b0ffe392ed9"
          }
        },
        "26d643f03dce4137970a1b5690f93e78": {
          "model_module": "@jupyter-widgets/base",
          "model_module_version": "1.2.0",
          "model_name": "LayoutModel",
          "state": {
            "_model_module": "@jupyter-widgets/base",
            "_model_module_version": "1.2.0",
            "_model_name": "LayoutModel",
            "_view_count": null,
            "_view_module": "@jupyter-widgets/base",
            "_view_module_version": "1.2.0",
            "_view_name": "LayoutView",
            "align_content": null,
            "align_items": null,
            "align_self": null,
            "border": null,
            "bottom": null,
            "display": null,
            "flex": null,
            "flex_flow": null,
            "grid_area": null,
            "grid_auto_columns": null,
            "grid_auto_flow": null,
            "grid_auto_rows": null,
            "grid_column": null,
            "grid_gap": null,
            "grid_row": null,
            "grid_template_areas": null,
            "grid_template_columns": null,
            "grid_template_rows": null,
            "height": null,
            "justify_content": null,
            "justify_items": null,
            "left": null,
            "margin": null,
            "max_height": null,
            "max_width": null,
            "min_height": null,
            "min_width": null,
            "object_fit": null,
            "object_position": null,
            "order": null,
            "overflow": null,
            "overflow_x": null,
            "overflow_y": null,
            "padding": null,
            "right": null,
            "top": null,
            "visibility": null,
            "width": null
          }
        },
        "28dec26af47d4625911e7d64f97389fa": {
          "model_module": "@jupyter-widgets/controls",
          "model_module_version": "1.5.0",
          "model_name": "ProgressStyleModel",
          "state": {
            "_model_module": "@jupyter-widgets/controls",
            "_model_module_version": "1.5.0",
            "_model_name": "ProgressStyleModel",
            "_view_count": null,
            "_view_module": "@jupyter-widgets/base",
            "_view_module_version": "1.2.0",
            "_view_name": "StyleView",
            "bar_color": null,
            "description_width": ""
          }
        },
        "28f68609d4e54e579b5e08390d029b0a": {
          "model_module": "@jupyter-widgets/base",
          "model_module_version": "1.2.0",
          "model_name": "LayoutModel",
          "state": {
            "_model_module": "@jupyter-widgets/base",
            "_model_module_version": "1.2.0",
            "_model_name": "LayoutModel",
            "_view_count": null,
            "_view_module": "@jupyter-widgets/base",
            "_view_module_version": "1.2.0",
            "_view_name": "LayoutView",
            "align_content": null,
            "align_items": null,
            "align_self": null,
            "border": null,
            "bottom": null,
            "display": null,
            "flex": null,
            "flex_flow": null,
            "grid_area": null,
            "grid_auto_columns": null,
            "grid_auto_flow": null,
            "grid_auto_rows": null,
            "grid_column": null,
            "grid_gap": null,
            "grid_row": null,
            "grid_template_areas": null,
            "grid_template_columns": null,
            "grid_template_rows": null,
            "height": null,
            "justify_content": null,
            "justify_items": null,
            "left": null,
            "margin": null,
            "max_height": null,
            "max_width": null,
            "min_height": null,
            "min_width": null,
            "object_fit": null,
            "object_position": null,
            "order": null,
            "overflow": null,
            "overflow_x": null,
            "overflow_y": null,
            "padding": null,
            "right": null,
            "top": null,
            "visibility": null,
            "width": null
          }
        },
        "2b7b9fc5703b4d258b4893a64ab870f0": {
          "model_module": "@jupyter-widgets/controls",
          "model_module_version": "1.5.0",
          "model_name": "HTMLModel",
          "state": {
            "_dom_classes": [],
            "_model_module": "@jupyter-widgets/controls",
            "_model_module_version": "1.5.0",
            "_model_name": "HTMLModel",
            "_view_count": null,
            "_view_module": "@jupyter-widgets/controls",
            "_view_module_version": "1.5.0",
            "_view_name": "HTMLView",
            "description": "",
            "description_tooltip": null,
            "layout": "IPY_MODEL_bf61820de05e46a581f23e88301da2a5",
            "placeholder": "​",
            "style": "IPY_MODEL_4c95db9917b64bcb820aa2fd012cd244",
            "value": "100%"
          }
        },
        "30c602def7e84eb7a2c5569ab7681b91": {
          "model_module": "@jupyter-widgets/controls",
          "model_module_version": "1.5.0",
          "model_name": "HTMLModel",
          "state": {
            "_dom_classes": [],
            "_model_module": "@jupyter-widgets/controls",
            "_model_module_version": "1.5.0",
            "_model_name": "HTMLModel",
            "_view_count": null,
            "_view_module": "@jupyter-widgets/controls",
            "_view_module_version": "1.5.0",
            "_view_name": "HTMLView",
            "description": "",
            "description_tooltip": null,
            "layout": "IPY_MODEL_28f68609d4e54e579b5e08390d029b0a",
            "placeholder": "​",
            "style": "IPY_MODEL_c633e482074946f3bbbb076c5df3d1b7",
            "value": " 10000/10000 [00:08&lt;00:00, 642.87it/s]"
          }
        },
        "393e23d21e5046ccad8349c33164b631": {
          "model_module": "@jupyter-widgets/controls",
          "model_module_version": "1.5.0",
          "model_name": "HTMLModel",
          "state": {
            "_dom_classes": [],
            "_model_module": "@jupyter-widgets/controls",
            "_model_module_version": "1.5.0",
            "_model_name": "HTMLModel",
            "_view_count": null,
            "_view_module": "@jupyter-widgets/controls",
            "_view_module_version": "1.5.0",
            "_view_name": "HTMLView",
            "description": "",
            "description_tooltip": null,
            "layout": "IPY_MODEL_cc18b2183eff4a4fa83c67f9288ef7fc",
            "placeholder": "​",
            "style": "IPY_MODEL_74e2839078e4458685838b38700735f3",
            "value": " 20000/20000 [05:18&lt;00:00, 58.85it/s]"
          }
        },
        "3aaa64643fc64bcb89c79c170de41326": {
          "model_module": "@jupyter-widgets/controls",
          "model_module_version": "1.5.0",
          "model_name": "HTMLModel",
          "state": {
            "_dom_classes": [],
            "_model_module": "@jupyter-widgets/controls",
            "_model_module_version": "1.5.0",
            "_model_name": "HTMLModel",
            "_view_count": null,
            "_view_module": "@jupyter-widgets/controls",
            "_view_module_version": "1.5.0",
            "_view_name": "HTMLView",
            "description": "",
            "description_tooltip": null,
            "layout": "IPY_MODEL_04352eb8712a4b82a924a86206e70bec",
            "placeholder": "​",
            "style": "IPY_MODEL_7785f7287db148c28f5dc6a1aa22e5b0",
            "value": "100%"
          }
        },
        "48c9b5e998c646db92f6e47fc365b558": {
          "model_module": "@jupyter-widgets/controls",
          "model_module_version": "1.5.0",
          "model_name": "ProgressStyleModel",
          "state": {
            "_model_module": "@jupyter-widgets/controls",
            "_model_module_version": "1.5.0",
            "_model_name": "ProgressStyleModel",
            "_view_count": null,
            "_view_module": "@jupyter-widgets/base",
            "_view_module_version": "1.2.0",
            "_view_name": "StyleView",
            "bar_color": null,
            "description_width": ""
          }
        },
        "4c95db9917b64bcb820aa2fd012cd244": {
          "model_module": "@jupyter-widgets/controls",
          "model_module_version": "1.5.0",
          "model_name": "DescriptionStyleModel",
          "state": {
            "_model_module": "@jupyter-widgets/controls",
            "_model_module_version": "1.5.0",
            "_model_name": "DescriptionStyleModel",
            "_view_count": null,
            "_view_module": "@jupyter-widgets/base",
            "_view_module_version": "1.2.0",
            "_view_name": "StyleView",
            "description_width": ""
          }
        },
        "4c9666028de445f99f88ea409da552d2": {
          "model_module": "@jupyter-widgets/controls",
          "model_module_version": "1.5.0",
          "model_name": "DescriptionStyleModel",
          "state": {
            "_model_module": "@jupyter-widgets/controls",
            "_model_module_version": "1.5.0",
            "_model_name": "DescriptionStyleModel",
            "_view_count": null,
            "_view_module": "@jupyter-widgets/base",
            "_view_module_version": "1.2.0",
            "_view_name": "StyleView",
            "description_width": ""
          }
        },
        "6296c90050c94bbc99fed5ef059417f1": {
          "model_module": "@jupyter-widgets/base",
          "model_module_version": "1.2.0",
          "model_name": "LayoutModel",
          "state": {
            "_model_module": "@jupyter-widgets/base",
            "_model_module_version": "1.2.0",
            "_model_name": "LayoutModel",
            "_view_count": null,
            "_view_module": "@jupyter-widgets/base",
            "_view_module_version": "1.2.0",
            "_view_name": "LayoutView",
            "align_content": null,
            "align_items": null,
            "align_self": null,
            "border": null,
            "bottom": null,
            "display": null,
            "flex": null,
            "flex_flow": null,
            "grid_area": null,
            "grid_auto_columns": null,
            "grid_auto_flow": null,
            "grid_auto_rows": null,
            "grid_column": null,
            "grid_gap": null,
            "grid_row": null,
            "grid_template_areas": null,
            "grid_template_columns": null,
            "grid_template_rows": null,
            "height": null,
            "justify_content": null,
            "justify_items": null,
            "left": null,
            "margin": null,
            "max_height": null,
            "max_width": null,
            "min_height": null,
            "min_width": null,
            "object_fit": null,
            "object_position": null,
            "order": null,
            "overflow": null,
            "overflow_x": null,
            "overflow_y": null,
            "padding": null,
            "right": null,
            "top": null,
            "visibility": null,
            "width": null
          }
        },
        "6b39fd987c1d4ce4ba5f61f9d12e18b6": {
          "model_module": "@jupyter-widgets/controls",
          "model_module_version": "1.5.0",
          "model_name": "ProgressStyleModel",
          "state": {
            "_model_module": "@jupyter-widgets/controls",
            "_model_module_version": "1.5.0",
            "_model_name": "ProgressStyleModel",
            "_view_count": null,
            "_view_module": "@jupyter-widgets/base",
            "_view_module_version": "1.2.0",
            "_view_name": "StyleView",
            "bar_color": null,
            "description_width": ""
          }
        },
        "74e2839078e4458685838b38700735f3": {
          "model_module": "@jupyter-widgets/controls",
          "model_module_version": "1.5.0",
          "model_name": "DescriptionStyleModel",
          "state": {
            "_model_module": "@jupyter-widgets/controls",
            "_model_module_version": "1.5.0",
            "_model_name": "DescriptionStyleModel",
            "_view_count": null,
            "_view_module": "@jupyter-widgets/base",
            "_view_module_version": "1.2.0",
            "_view_name": "StyleView",
            "description_width": ""
          }
        },
        "759ab687a2d44b94904ea75a81195e68": {
          "model_module": "@jupyter-widgets/controls",
          "model_module_version": "1.5.0",
          "model_name": "FloatProgressModel",
          "state": {
            "_dom_classes": [],
            "_model_module": "@jupyter-widgets/controls",
            "_model_module_version": "1.5.0",
            "_model_name": "FloatProgressModel",
            "_view_count": null,
            "_view_module": "@jupyter-widgets/controls",
            "_view_module_version": "1.5.0",
            "_view_name": "ProgressView",
            "bar_style": "success",
            "description": "",
            "description_tooltip": null,
            "layout": "IPY_MODEL_c8798655b3c94b51a81ac8b20bf4755f",
            "max": 10000,
            "min": 0,
            "orientation": "horizontal",
            "style": "IPY_MODEL_48c9b5e998c646db92f6e47fc365b558",
            "value": 10000
          }
        },
        "7785f7287db148c28f5dc6a1aa22e5b0": {
          "model_module": "@jupyter-widgets/controls",
          "model_module_version": "1.5.0",
          "model_name": "DescriptionStyleModel",
          "state": {
            "_model_module": "@jupyter-widgets/controls",
            "_model_module_version": "1.5.0",
            "_model_name": "DescriptionStyleModel",
            "_view_count": null,
            "_view_module": "@jupyter-widgets/base",
            "_view_module_version": "1.2.0",
            "_view_name": "StyleView",
            "description_width": ""
          }
        },
        "7ab7353d50244aaaaf85edb5c729a1ad": {
          "model_module": "@jupyter-widgets/controls",
          "model_module_version": "1.5.0",
          "model_name": "HBoxModel",
          "state": {
            "_dom_classes": [],
            "_model_module": "@jupyter-widgets/controls",
            "_model_module_version": "1.5.0",
            "_model_name": "HBoxModel",
            "_view_count": null,
            "_view_module": "@jupyter-widgets/controls",
            "_view_module_version": "1.5.0",
            "_view_name": "HBoxView",
            "box_style": "",
            "children": [
              "IPY_MODEL_3aaa64643fc64bcb89c79c170de41326",
              "IPY_MODEL_759ab687a2d44b94904ea75a81195e68",
              "IPY_MODEL_30c602def7e84eb7a2c5569ab7681b91"
            ],
            "layout": "IPY_MODEL_6296c90050c94bbc99fed5ef059417f1"
          }
        },
        "9f59e40947e14644871bc9404133b384": {
          "model_module": "@jupyter-widgets/controls",
          "model_module_version": "1.5.0",
          "model_name": "HTMLModel",
          "state": {
            "_dom_classes": [],
            "_model_module": "@jupyter-widgets/controls",
            "_model_module_version": "1.5.0",
            "_model_name": "HTMLModel",
            "_view_count": null,
            "_view_module": "@jupyter-widgets/controls",
            "_view_module_version": "1.5.0",
            "_view_name": "HTMLView",
            "description": "",
            "description_tooltip": null,
            "layout": "IPY_MODEL_ce74a53482184d90acd5e7bdd6c861cc",
            "placeholder": "​",
            "style": "IPY_MODEL_a4498ab503b3434bbe1430341f3752a2",
            "value": "100%"
          }
        },
        "a4498ab503b3434bbe1430341f3752a2": {
          "model_module": "@jupyter-widgets/controls",
          "model_module_version": "1.5.0",
          "model_name": "DescriptionStyleModel",
          "state": {
            "_model_module": "@jupyter-widgets/controls",
            "_model_module_version": "1.5.0",
            "_model_name": "DescriptionStyleModel",
            "_view_count": null,
            "_view_module": "@jupyter-widgets/base",
            "_view_module_version": "1.2.0",
            "_view_name": "StyleView",
            "description_width": ""
          }
        },
        "a705f1ace18242799495ca5fa50e919e": {
          "model_module": "@jupyter-widgets/controls",
          "model_module_version": "1.5.0",
          "model_name": "HTMLModel",
          "state": {
            "_dom_classes": [],
            "_model_module": "@jupyter-widgets/controls",
            "_model_module_version": "1.5.0",
            "_model_name": "HTMLModel",
            "_view_count": null,
            "_view_module": "@jupyter-widgets/controls",
            "_view_module_version": "1.5.0",
            "_view_name": "HTMLView",
            "description": "",
            "description_tooltip": null,
            "layout": "IPY_MODEL_bb4748a0ea30431795dfb4b8019fd555",
            "placeholder": "​",
            "style": "IPY_MODEL_4c9666028de445f99f88ea409da552d2",
            "value": " 50000/50000 [00:55&lt;00:00, 1163.99it/s]"
          }
        },
        "af5add114cbd41f68b85d7c474dd1bc9": {
          "model_module": "@jupyter-widgets/base",
          "model_module_version": "1.2.0",
          "model_name": "LayoutModel",
          "state": {
            "_model_module": "@jupyter-widgets/base",
            "_model_module_version": "1.2.0",
            "_model_name": "LayoutModel",
            "_view_count": null,
            "_view_module": "@jupyter-widgets/base",
            "_view_module_version": "1.2.0",
            "_view_name": "LayoutView",
            "align_content": null,
            "align_items": null,
            "align_self": null,
            "border": null,
            "bottom": null,
            "display": null,
            "flex": null,
            "flex_flow": null,
            "grid_area": null,
            "grid_auto_columns": null,
            "grid_auto_flow": null,
            "grid_auto_rows": null,
            "grid_column": null,
            "grid_gap": null,
            "grid_row": null,
            "grid_template_areas": null,
            "grid_template_columns": null,
            "grid_template_rows": null,
            "height": null,
            "justify_content": null,
            "justify_items": null,
            "left": null,
            "margin": null,
            "max_height": null,
            "max_width": null,
            "min_height": null,
            "min_width": null,
            "object_fit": null,
            "object_position": null,
            "order": null,
            "overflow": null,
            "overflow_x": null,
            "overflow_y": null,
            "padding": null,
            "right": null,
            "top": null,
            "visibility": null,
            "width": null
          }
        },
        "b097511dc01c4e929e6a56ad2280d5ca": {
          "model_module": "@jupyter-widgets/base",
          "model_module_version": "1.2.0",
          "model_name": "LayoutModel",
          "state": {
            "_model_module": "@jupyter-widgets/base",
            "_model_module_version": "1.2.0",
            "_model_name": "LayoutModel",
            "_view_count": null,
            "_view_module": "@jupyter-widgets/base",
            "_view_module_version": "1.2.0",
            "_view_name": "LayoutView",
            "align_content": null,
            "align_items": null,
            "align_self": null,
            "border": null,
            "bottom": null,
            "display": null,
            "flex": null,
            "flex_flow": null,
            "grid_area": null,
            "grid_auto_columns": null,
            "grid_auto_flow": null,
            "grid_auto_rows": null,
            "grid_column": null,
            "grid_gap": null,
            "grid_row": null,
            "grid_template_areas": null,
            "grid_template_columns": null,
            "grid_template_rows": null,
            "height": null,
            "justify_content": null,
            "justify_items": null,
            "left": null,
            "margin": null,
            "max_height": null,
            "max_width": null,
            "min_height": null,
            "min_width": null,
            "object_fit": null,
            "object_position": null,
            "order": null,
            "overflow": null,
            "overflow_x": null,
            "overflow_y": null,
            "padding": null,
            "right": null,
            "top": null,
            "visibility": null,
            "width": null
          }
        },
        "bb4748a0ea30431795dfb4b8019fd555": {
          "model_module": "@jupyter-widgets/base",
          "model_module_version": "1.2.0",
          "model_name": "LayoutModel",
          "state": {
            "_model_module": "@jupyter-widgets/base",
            "_model_module_version": "1.2.0",
            "_model_name": "LayoutModel",
            "_view_count": null,
            "_view_module": "@jupyter-widgets/base",
            "_view_module_version": "1.2.0",
            "_view_name": "LayoutView",
            "align_content": null,
            "align_items": null,
            "align_self": null,
            "border": null,
            "bottom": null,
            "display": null,
            "flex": null,
            "flex_flow": null,
            "grid_area": null,
            "grid_auto_columns": null,
            "grid_auto_flow": null,
            "grid_auto_rows": null,
            "grid_column": null,
            "grid_gap": null,
            "grid_row": null,
            "grid_template_areas": null,
            "grid_template_columns": null,
            "grid_template_rows": null,
            "height": null,
            "justify_content": null,
            "justify_items": null,
            "left": null,
            "margin": null,
            "max_height": null,
            "max_width": null,
            "min_height": null,
            "min_width": null,
            "object_fit": null,
            "object_position": null,
            "order": null,
            "overflow": null,
            "overflow_x": null,
            "overflow_y": null,
            "padding": null,
            "right": null,
            "top": null,
            "visibility": null,
            "width": null
          }
        },
        "bf61820de05e46a581f23e88301da2a5": {
          "model_module": "@jupyter-widgets/base",
          "model_module_version": "1.2.0",
          "model_name": "LayoutModel",
          "state": {
            "_model_module": "@jupyter-widgets/base",
            "_model_module_version": "1.2.0",
            "_model_name": "LayoutModel",
            "_view_count": null,
            "_view_module": "@jupyter-widgets/base",
            "_view_module_version": "1.2.0",
            "_view_name": "LayoutView",
            "align_content": null,
            "align_items": null,
            "align_self": null,
            "border": null,
            "bottom": null,
            "display": null,
            "flex": null,
            "flex_flow": null,
            "grid_area": null,
            "grid_auto_columns": null,
            "grid_auto_flow": null,
            "grid_auto_rows": null,
            "grid_column": null,
            "grid_gap": null,
            "grid_row": null,
            "grid_template_areas": null,
            "grid_template_columns": null,
            "grid_template_rows": null,
            "height": null,
            "justify_content": null,
            "justify_items": null,
            "left": null,
            "margin": null,
            "max_height": null,
            "max_width": null,
            "min_height": null,
            "min_width": null,
            "object_fit": null,
            "object_position": null,
            "order": null,
            "overflow": null,
            "overflow_x": null,
            "overflow_y": null,
            "padding": null,
            "right": null,
            "top": null,
            "visibility": null,
            "width": null
          }
        },
        "c633e482074946f3bbbb076c5df3d1b7": {
          "model_module": "@jupyter-widgets/controls",
          "model_module_version": "1.5.0",
          "model_name": "DescriptionStyleModel",
          "state": {
            "_model_module": "@jupyter-widgets/controls",
            "_model_module_version": "1.5.0",
            "_model_name": "DescriptionStyleModel",
            "_view_count": null,
            "_view_module": "@jupyter-widgets/base",
            "_view_module_version": "1.2.0",
            "_view_name": "StyleView",
            "description_width": ""
          }
        },
        "c8798655b3c94b51a81ac8b20bf4755f": {
          "model_module": "@jupyter-widgets/base",
          "model_module_version": "1.2.0",
          "model_name": "LayoutModel",
          "state": {
            "_model_module": "@jupyter-widgets/base",
            "_model_module_version": "1.2.0",
            "_model_name": "LayoutModel",
            "_view_count": null,
            "_view_module": "@jupyter-widgets/base",
            "_view_module_version": "1.2.0",
            "_view_name": "LayoutView",
            "align_content": null,
            "align_items": null,
            "align_self": null,
            "border": null,
            "bottom": null,
            "display": null,
            "flex": null,
            "flex_flow": null,
            "grid_area": null,
            "grid_auto_columns": null,
            "grid_auto_flow": null,
            "grid_auto_rows": null,
            "grid_column": null,
            "grid_gap": null,
            "grid_row": null,
            "grid_template_areas": null,
            "grid_template_columns": null,
            "grid_template_rows": null,
            "height": null,
            "justify_content": null,
            "justify_items": null,
            "left": null,
            "margin": null,
            "max_height": null,
            "max_width": null,
            "min_height": null,
            "min_width": null,
            "object_fit": null,
            "object_position": null,
            "order": null,
            "overflow": null,
            "overflow_x": null,
            "overflow_y": null,
            "padding": null,
            "right": null,
            "top": null,
            "visibility": null,
            "width": null
          }
        },
        "cc18b2183eff4a4fa83c67f9288ef7fc": {
          "model_module": "@jupyter-widgets/base",
          "model_module_version": "1.2.0",
          "model_name": "LayoutModel",
          "state": {
            "_model_module": "@jupyter-widgets/base",
            "_model_module_version": "1.2.0",
            "_model_name": "LayoutModel",
            "_view_count": null,
            "_view_module": "@jupyter-widgets/base",
            "_view_module_version": "1.2.0",
            "_view_name": "LayoutView",
            "align_content": null,
            "align_items": null,
            "align_self": null,
            "border": null,
            "bottom": null,
            "display": null,
            "flex": null,
            "flex_flow": null,
            "grid_area": null,
            "grid_auto_columns": null,
            "grid_auto_flow": null,
            "grid_auto_rows": null,
            "grid_column": null,
            "grid_gap": null,
            "grid_row": null,
            "grid_template_areas": null,
            "grid_template_columns": null,
            "grid_template_rows": null,
            "height": null,
            "justify_content": null,
            "justify_items": null,
            "left": null,
            "margin": null,
            "max_height": null,
            "max_width": null,
            "min_height": null,
            "min_width": null,
            "object_fit": null,
            "object_position": null,
            "order": null,
            "overflow": null,
            "overflow_x": null,
            "overflow_y": null,
            "padding": null,
            "right": null,
            "top": null,
            "visibility": null,
            "width": null
          }
        },
        "ce74a53482184d90acd5e7bdd6c861cc": {
          "model_module": "@jupyter-widgets/base",
          "model_module_version": "1.2.0",
          "model_name": "LayoutModel",
          "state": {
            "_model_module": "@jupyter-widgets/base",
            "_model_module_version": "1.2.0",
            "_model_name": "LayoutModel",
            "_view_count": null,
            "_view_module": "@jupyter-widgets/base",
            "_view_module_version": "1.2.0",
            "_view_name": "LayoutView",
            "align_content": null,
            "align_items": null,
            "align_self": null,
            "border": null,
            "bottom": null,
            "display": null,
            "flex": null,
            "flex_flow": null,
            "grid_area": null,
            "grid_auto_columns": null,
            "grid_auto_flow": null,
            "grid_auto_rows": null,
            "grid_column": null,
            "grid_gap": null,
            "grid_row": null,
            "grid_template_areas": null,
            "grid_template_columns": null,
            "grid_template_rows": null,
            "height": null,
            "justify_content": null,
            "justify_items": null,
            "left": null,
            "margin": null,
            "max_height": null,
            "max_width": null,
            "min_height": null,
            "min_width": null,
            "object_fit": null,
            "object_position": null,
            "order": null,
            "overflow": null,
            "overflow_x": null,
            "overflow_y": null,
            "padding": null,
            "right": null,
            "top": null,
            "visibility": null,
            "width": null
          }
        },
        "d3694cfc8f114410892af5a8308dfb93": {
          "model_module": "@jupyter-widgets/controls",
          "model_module_version": "1.5.0",
          "model_name": "FloatProgressModel",
          "state": {
            "_dom_classes": [],
            "_model_module": "@jupyter-widgets/controls",
            "_model_module_version": "1.5.0",
            "_model_name": "FloatProgressModel",
            "_view_count": null,
            "_view_module": "@jupyter-widgets/controls",
            "_view_module_version": "1.5.0",
            "_view_name": "ProgressView",
            "bar_style": "success",
            "description": "",
            "description_tooltip": null,
            "layout": "IPY_MODEL_26d643f03dce4137970a1b5690f93e78",
            "max": 50000,
            "min": 0,
            "orientation": "horizontal",
            "style": "IPY_MODEL_28dec26af47d4625911e7d64f97389fa",
            "value": 50000
          }
        },
        "dd127f2a0ba24c23bf26d04212496e9e": {
          "model_module": "@jupyter-widgets/controls",
          "model_module_version": "1.5.0",
          "model_name": "FloatProgressModel",
          "state": {
            "_dom_classes": [],
            "_model_module": "@jupyter-widgets/controls",
            "_model_module_version": "1.5.0",
            "_model_name": "FloatProgressModel",
            "_view_count": null,
            "_view_module": "@jupyter-widgets/controls",
            "_view_module_version": "1.5.0",
            "_view_name": "ProgressView",
            "bar_style": "success",
            "description": "",
            "description_tooltip": null,
            "layout": "IPY_MODEL_b097511dc01c4e929e6a56ad2280d5ca",
            "max": 20000,
            "min": 0,
            "orientation": "horizontal",
            "style": "IPY_MODEL_6b39fd987c1d4ce4ba5f61f9d12e18b6",
            "value": 20000
          }
        }
      }
    }
  },
  "nbformat": 4,
  "nbformat_minor": 0
}
