{
 "cells": [
  {
   "cell_type": "markdown",
   "metadata": {},
   "source": [
    "<center>\n",
    "In God We Trust\n",
    "</center>"
   ]
  },
  {
   "cell_type": "markdown",
   "metadata": {},
   "source": [
    "# CE417: Artificial Intelligence\n",
    "\n",
    "Dr. Mahdiyeh Soleymani Baghshah\n",
    "\n",
    "Computer Engineering Department,\n",
    "Sharif University of Technology,\n",
    "Tehran, Tehran, Iran\n"
   ]
  },
  {
   "cell_type": "markdown",
   "metadata": {},
   "source": [
    "## Markov Decision Process (30 Points)\n",
    "\n",
    "HW3 :: Practical Question 2\n",
    "\n",
    "<br>\n",
    "\n",
    "Corresponding TA: Aryan Ahadinia, Saeed Hedayatiyan\n"
   ]
  },
  {
   "cell_type": "markdown",
   "metadata": {},
   "source": [
    "In this question, We're going to implement a generic MDP solver, so we can solve every question by passing transition and reward functions. We use an example to test our implementation but it's important to write MDP solver functions in a generic form. So it's important to maintain notebook structure and only write codes and comment in annotated areas."
   ]
  },
  {
   "cell_type": "markdown",
   "metadata": {},
   "source": [
    "### Modeling a Problem (5 Points)\n",
    "\n",
    "In a TV quiz show, there are several levels. At each level, if the participant answers the question correctly, they will receive some prize. If the participant's answer is wrong, they leave the competition empty-handed. Before each stage begins, the participant can decide whether to continue or withdraw and leave the game with the reward which they already earned.\n",
    "\n",
    "Beside states representing each level, There are three terminal states of Win, Lost and Quit in the game. Actions in each state are quit and play. The player will go to the quit state with probability of 1 if they decide to take action quit. otherwise they will pass the level i by probability of win_ratio[i] and go to the state which represents the next level.\n",
    "\n",
    "So the play / quit decision problem can be modeled as an MDP as below.\n",
    "\n",
    "<p align=\"center\">\n",
    "<image src=\"./assets/quiz_problem.png\">\n",
    "</p>\n",
    "\n",
    "Considering $100, $200, $300, $400 and $500 as rewards and 0.9, 0.7, 0.6, 0.3, 0.1 as win ratio for levels 0 to 4 respectively.\n",
    "\n",
    "Complete two cells below to model the problem as an MDP. Write levels and actions as an str.\n"
   ]
  },
  {
   "cell_type": "code",
   "execution_count": 16,
   "metadata": {},
   "outputs": [],
   "source": [
    "quiz_levels = [\n",
    "    '0', '1', '2', '3', '4'\n",
    "]\n",
    "quiz_terminals = [\n",
    "    \"Win\", \"Lost\", \"Quit\"\n",
    "]\n",
    "\n",
    "quiz_states = quiz_levels + quiz_terminals\n",
    "quiz_actions = [\n",
    "    \"next_level\", \"quit\"\n",
    "]\n"
   ]
  },
  {
   "cell_type": "code",
   "execution_count": 17,
   "metadata": {},
   "outputs": [],
   "source": [
    "from typing import Callable\n",
    "from typing import List\n",
    "from typing import Tuple\n",
    "from typing import Union\n"
   ]
  },
  {
   "cell_type": "code",
   "execution_count": 49,
   "metadata": {},
   "outputs": [],
   "source": [
    "from typing import Optional\n",
    "\n",
    "# only considered transitions like: non-terminal->(non_terminal or terminal)\n",
    "# the rest of them will not be iterated over.\n",
    "def quiz_transition(state: str, action: str, next_state: str) -> Optional[float]:\n",
    "    probs = [0.9, 0.7, 0.6, 0.3, 0.1]\n",
    "    if state in quiz_terminals:\n",
    "        return None\n",
    "    if action == \"next_level\":\n",
    "        if next_state == \"Lost\": # Lost State\n",
    "            return 1.0 - probs[int(state)]\n",
    "        else: # Quiz Levels and Win states\n",
    "            return probs[int(state)]\n",
    "    elif action == \"quit\":\n",
    "        return 1.0\n",
    "\n",
    "# rewards are only considered for transitions like: non-terminal->(non_terminal or terminal)\n",
    "# in fac, the reward is attained when the transition is taken, and we are in next_state\n",
    "# so, as terminals have no 'next_state', they have no reward.\n",
    "def quiz_reward(state: str, action: str, next_state: str) -> Optional[Union[float, int]]:\n",
    "    rewards = [100, 200, 300, 400, 500]\n",
    "    if state in quiz_terminals:\n",
    "        return None\n",
    "    if action == \"quit\":\n",
    "        if next_state == \"Quit\":\n",
    "            return sum(rewards[:quiz_states.index(state)])\n",
    "        else:\n",
    "            return None\n",
    "    else: # next_level\n",
    "        if next_state == \"Lost\":\n",
    "            return -sum(rewards[:quiz_states.index(state)])\n",
    "        elif quiz_states.index(next_state) - quiz_states.index(state) == 1:\n",
    "            return 0\n",
    "        else:\n",
    "            return None\n"
   ]
  },
  {
   "cell_type": "markdown",
   "metadata": {},
   "source": [
    "### Value Iteration (10 Points)\n",
    "\n",
    "Now we want to implement a function which does the value iteration process. Consider that this function must be a generic function to all MDP problems. So any internal reference to global variables is forbidden.\n",
    "\n",
    "This function gets transition function, reward function, discounting factor (gamma), list of states, list of terminal states, list of all possible actions and current value of each state as input and must return two lists: (1) updated values of each state and (2) list of best action which can be taken in each state regarding current values.\n"
   ]
  },
  {
   "cell_type": "code",
   "execution_count": 50,
   "metadata": {},
   "outputs": [],
   "source": [
    "def mdp_iterate(\n",
    "    transition_function: Callable[[str, str, str], float],\n",
    "    reward_function: Callable[[str, str, str], float],\n",
    "    gamma: float,\n",
    "    states: List[str],\n",
    "    terminals: List[str],\n",
    "    actions: List[str],\n",
    "    current_values: List[Union[float, int]],\n",
    ") -> Tuple[List[Union[float, int]]]:\n",
    "    new_values = []\n",
    "    best_actions = []\n",
    "    non_terminals = [state for state in states if state not in terminals]\n",
    "    for state in non_terminals:\n",
    "        best_action = None\n",
    "        best_action_expected_value = -float(\"inf\")\n",
    "        for action in actions:\n",
    "            action_expected_value = 0\n",
    "            for next_state in states:\n",
    "                if state != next_state:\n",
    "                    prob = transition_function(state, action, next_state)\n",
    "                    reward = reward_function(state, action, next_state)\n",
    "                    if prob is None or reward is None: # invalid transition\n",
    "                        continue\n",
    "                    action_expected_value += prob * (reward + gamma * current_values[states.index(next_state)])\n",
    "            if action_expected_value > best_action_expected_value:\n",
    "                best_action = action\n",
    "                best_action_expected_value = action_expected_value   \n",
    "        new_values.append(best_action_expected_value)\n",
    "        best_actions.append(best_action)\n",
    "    for state in terminals:\n",
    "        new_values.append(0)\n",
    "        best_actions.append(None)   \n",
    "        \n",
    "    return new_values, best_actions\n",
    "\n"
   ]
  },
  {
   "cell_type": "markdown",
   "metadata": {},
   "source": [
    "### MDP Solving (5 Points)\n",
    "\n",
    "Now write a function to use the iterative approach to calculate values of each state and solve the MDP problem.\n",
    "\n",
    "This function gets transition function, reward function, discounting factor (gamma), list of states, list of terminal states, list of all possible actions and number of iterations as input and must return a dictionary which maps states to best action can be taken. For example:\n",
    "\n",
    "```Python\n",
    "{\n",
    "    'S1': 'A1',\n",
    "    'S2': 'A2',\n",
    "    ...\n",
    "}\n",
    "```\n"
   ]
  },
  {
   "cell_type": "code",
   "execution_count": 51,
   "metadata": {},
   "outputs": [],
   "source": [
    "from typing import Dict\n",
    "\n",
    "\n",
    "def mdp_solve(\n",
    "    transition_function: Callable[[str, str, str], float],\n",
    "    reward_function: Callable[[str, str, str], float],\n",
    "    gamma: float,\n",
    "    states: List[str],\n",
    "    terminals: List[str],\n",
    "    actions: List[str],\n",
    "    iter: int,\n",
    ") -> Dict['str', 'str']:\n",
    "    current_values = [0] * len(states)\n",
    "    best_actions = []\n",
    "    for _ in range(iter):\n",
    "        current_values, best_actions = mdp_iterate(transition_function, reward_function, gamma, states, terminals, actions, current_values)\n",
    "    return {states[i]: best_actions[i] for i in range(len(states))}  # Change this line to return the correct value\n"
   ]
  },
  {
   "cell_type": "markdown",
   "metadata": {},
   "source": [
    "By now, running this code must solve the problem described above.\n"
   ]
  },
  {
   "cell_type": "code",
   "execution_count": 52,
   "metadata": {},
   "outputs": [
    {
     "name": "stdout",
     "output_type": "stream",
     "text": [
      "{'0': 'next_level', '1': 'next_level', '2': 'quit', '3': 'quit', '4': 'quit', 'Win': None, 'Lost': None, 'Quit': None}\n"
     ]
    }
   ],
   "source": [
    "res = mdp_solve(\n",
    "    quiz_transition,\n",
    "    quiz_reward,\n",
    "    1,\n",
    "    quiz_states,\n",
    "    quiz_terminals,\n",
    "    quiz_actions,\n",
    "    1000,\n",
    ")\n",
    "\n",
    "print(res)\n"
   ]
  },
  {
   "cell_type": "markdown",
   "metadata": {},
   "source": [
    "### Analyzing effect of discounting factor (10 Points)"
   ]
  },
  {
   "cell_type": "markdown",
   "metadata": {},
   "source": [
    "Now, solve the problem for different values of discounting factor. Then draw a plot to show how increasing discounting factor effect on best decision that should be take. Then write a paragraph about the result."
   ]
  },
  {
   "cell_type": "code",
   "execution_count": 54,
   "metadata": {},
   "outputs": [
    {
     "data": {
      "text/plain": [
       "<matplotlib.legend.Legend at 0x205285239a0>"
      ]
     },
     "execution_count": 54,
     "metadata": {},
     "output_type": "execute_result"
    },
    {
     "data": {
      "image/png": "[encoded data removed]",
      "text/plain": [
       "<Figure size 720x720 with 1 Axes>"
      ]
     },
     "metadata": {
      "needs_background": "light"
     },
     "output_type": "display_data"
    }
   ],
   "source": [
    "import matplotlib.pyplot as plt\n",
    "import pandas as pd\n",
    "from matplotlib.lines import Line2D\n",
    "import numpy as np\n",
    "\n",
    "data = []\n",
    "for gamma in np.arange(0, 1.01, 0.01):\n",
    "    res = mdp_solve(\n",
    "        quiz_transition,\n",
    "        quiz_reward,\n",
    "        gamma,\n",
    "        quiz_states,\n",
    "        quiz_terminals,\n",
    "        quiz_actions,\n",
    "        1000,\n",
    "    )\n",
    "    for state in res:\n",
    "        action = res[state]\n",
    "        if action is None:\n",
    "            action = \"exit_terminal\"\n",
    "        data.append([state, action, gamma])\n",
    "\n",
    "df = pd.DataFrame(data, columns=[\"state\", \"action\", \"gamma\"])\n",
    "\n",
    "fig, ax = plt.subplots(figsize=(10, 10))\n",
    "colors = {\"next_level\": \"green\", \"quit\": \"red\", \"exit_terminal\": \"blue\"}\n",
    "\n",
    "ax.scatter(df[\"gamma\"], df[\"state\"], c=df[\"action\"].apply(lambda x: colors[x]))\n",
    "plt.xlabel(\"Discounting Factor\")\n",
    "plt.ylabel(\"State\")\n",
    "# legend\n",
    "handles = [Line2D([0], [0], marker='o', color='w', markerfacecolor=v, label=k, markersize=8) for k, v in colors.items()]\n",
    "ax.legend(title='Action', handles=handles, bbox_to_anchor=(1.05, 1), loc='upper left')\n"
   ]
  },
  {
   "cell_type": "markdown",
   "metadata": {},
   "source": [
    "######### Write Here (5 Points) ###########"
   ]
  },
  {
   "cell_type": "markdown",
   "metadata": {},
   "source": [
    "As we increase 'Discounting Factor', the player will stay in the game for longer, and will try to win more money.\n",
    "'Discounting Factor' affects the future rewards exponentially, thus, if its value is low, it will make future huge rewards less noticeable, and because of the recursive nature of 'Discounting Factor's effect, the further the final reward, the less valuable it will be. \n",
    "<br/>\n",
    "For instance, as we have increased 'Gamma' from 0 to 1, the action of state '1' has changed. In this state and before 'Gamma' being 0.6, the player did not have the courage to progress in the levels and prefers to 'quit', but as 'Gamma' passes 0.6, the player becomes braver and optimistically decides to continue in the levels of the game.\n",
    "\n"
   ]
  },
  {
   "cell_type": "code",
   "execution_count": null,
   "metadata": {},
   "outputs": [],
   "source": []
  }
 ],
 "metadata": {
  "kernelspec": {
   "display_name": "Python 3.10.6 64-bit",
   "language": "python",
   "name": "python3"
  },
  "language_info": {
   "codemirror_mode": {
    "name": "ipython",
    "version": 3
   },
   "file_extension": ".py",
   "mimetype": "text/x-python",
   "name": "python",
   "nbconvert_exporter": "python",
   "pygments_lexer": "ipython3",
   "version": "3.10.6"
  },
  "orig_nbformat": 4,
  "vscode": {
   "interpreter": {
    "hash": "26de051ba29f2982a8de78e945f0abaf191376122a1563185a90213a26c5da77"
   }
  }
 },
 "nbformat": 4,
 "nbformat_minor": 2
}
